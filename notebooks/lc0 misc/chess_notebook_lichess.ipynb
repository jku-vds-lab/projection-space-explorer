{
 "cells": [
  {
   "cell_type": "code",
   "execution_count": 1,
   "metadata": {},
   "outputs": [],
   "source": [
    "from pgn2gif import chess\n",
    "import numpy as np\n",
    "from openTSNE import TSNE\n",
    "from openTSNE.callbacks import ErrorApproximations\n",
    "from matplotlib import pyplot as plt\n",
    "from scipy import interpolate\n",
    "import re\n",
    "\n",
    "FILE_NAME = '/mnt/d/Work/CG Institute/chess/lichess data/lichess_db_standard_rated_2021-08.pgn'"
   ]
  },
  {
   "cell_type": "code",
   "execution_count": 2,
   "metadata": {},
   "outputs": [],
   "source": [
    "def state_to_vector(state):\n",
    "    piece_dict = {\n",
    "        'wr': [1,0,0,0,0,0,0,0,0,0,0,0,0],\n",
    "        'wn': [0,1,0,0,0,0,0,0,0,0,0,0,0],\n",
    "        'wb': [0,0,1,0,0,0,0,0,0,0,0,0,0],\n",
    "        'wk': [0,0,0,1,0,0,0,0,0,0,0,0,0],\n",
    "        'wq': [0,0,0,0,1,0,0,0,0,0,0,0,0],\n",
    "        'wp': [0,0,0,0,0,1,0,0,0,0,0,0,0],\n",
    "        'br': [0,0,0,0,0,0,1,0,0,0,0,0,0],\n",
    "        'bn': [0,0,0,0,0,0,0,1,0,0,0,0,0],\n",
    "        'bb': [0,0,0,0,0,0,0,0,1,0,0,0,0],\n",
    "        'bk': [0,0,0,0,0,0,0,0,0,1,0,0,0],\n",
    "        'bq': [0,0,0,0,0,0,0,0,0,0,1,0,0],\n",
    "        'bp': [0,0,0,0,0,0,0,0,0,0,0,1,0],\n",
    "        '':   [0,0,0,0,0,0,0,0,0,0,0,0,1],\n",
    "    }    \n",
    "    state_list = list(state.values())    \n",
    "    vector = []\n",
    "    for piece in state_list:\n",
    "        vector.append(piece_dict[piece])\n",
    "    return np.array(vector).ravel()\n",
    "\n",
    "def vector_to_state(vector):\n",
    "    vec_dict = {\n",
    "        '1000000000000': \"wr\",\n",
    "        '0100000000000': \"wn\",\n",
    "        '0010000000000': \"wb\",\n",
    "        '0001000000000': \"wk\",\n",
    "        '0000100000000': \"wq\",\n",
    "        '0000010000000': \"wp\",\n",
    "        '0000001000000': \"br\",\n",
    "        '0000000100000': \"bn\",\n",
    "        '0000000010000': \"bb\",\n",
    "        '0000000001000': \"bk\",\n",
    "        '0000000000100': \"bq\",\n",
    "        '0000000000010': \"bp\",\n",
    "        '0000000000001': \"\"\n",
    "    }\n",
    "    \n",
    "    return vec_dict[vector]"
   ]
  },
  {
   "cell_type": "code",
   "execution_count": 3,
   "metadata": {},
   "outputs": [],
   "source": [
    "def game_to_vectors(file):\n",
    "    game = chess.ChessGame(file)\n",
    "    vectors = [state_to_vector(game.state)]\n",
    "    while not game.is_finished:\n",
    "        try:\n",
    "            game.next()\n",
    "        except:\n",
    "            pass\n",
    "        vectors.append(state_to_vector(game.state))\n",
    "    return np.stack(vectors)"
   ]
  },
  {
   "cell_type": "code",
   "execution_count": 4,
   "metadata": {},
   "outputs": [],
   "source": [
    "def get_moves_from_pgn(pgn):\n",
    "    with open(pgn) as p:\n",
    "        data = p.read()\n",
    "        data = re.sub(r'\\{.*?\\}', '', data)  # Removes pgn comments\n",
    "        moves = re.findall(\n",
    "            r'[a-h]x?[a-h]?[1-8]=?[BKNRQ]?|O-O-?O?|[BKNRQ][a-h1-8]?[a-h1-8]?x?[a-h][1-8]',\n",
    "            data)\n",
    "        return [move.replace('x', '') for move in moves]"
   ]
  },
  {
   "cell_type": "markdown",
   "metadata": {},
   "source": [
    "# TODO all metadata"
   ]
  },
  {
   "cell_type": "code",
   "execution_count": 5,
   "metadata": {},
   "outputs": [],
   "source": [
    "def get_metadata_from_pgn(pgn):\n",
    "    with open(pgn) as p:\n",
    "        data = p.read()\n",
    "        data = re.sub(r'\\{.*?\\}', '', data)  # Removes pgn comments\n",
    "        m = re.findall(r'\\[(.*) \"(.*)\"]',data)\n",
    "        metadata_keys = [i[0] for i in m]\n",
    "        metadata_values = [i[1].replace(',',';') for i in m]\n",
    "        return dict(zip(metadata_keys, metadata_values))\n",
    "        \n",
    "#         metadata = {}\n",
    "#         metadata['white'] = re.findall(\n",
    "#             r'\\[White \"(.*)\"]',\n",
    "#             data)[0]\n",
    "#         metadata['black'] = re.findall(\n",
    "#             r'\\[Black \"(.*)\"]',\n",
    "#             data)[0]\n",
    "#         metadata['result'] = re.findall(\n",
    "#             r'\\[Result \"(.*)\"]',\n",
    "#             data)[0]\n",
    "#         return metadata"
   ]
  },
  {
   "cell_type": "code",
   "execution_count": 6,
   "metadata": {},
   "outputs": [
    {
     "name": "stdout",
     "output_type": "stream",
     "text": [
      "['White', 'Black']\n",
      "['abc', 'xyz;asd']\n",
      "['White', 'Black']\n",
      "['abc', 'xyz;asd']\n"
     ]
    }
   ],
   "source": [
    "s = \"\"\"[White \\\"abc\\\"]\n",
    "[Black \\\"xyz,asd\\\"]\n",
    "1. e4 { [%eval 0.24] [%clk 0:03:00] } 1... c5 { [%eval 0.32] [%clk 0:03:00] } 2. c3 { [%eval 0.0] [%clk 0:02:56] } 2... Nc6 { [%eval 0.0] [%clk 0:03:00] } 3. Nf3 { [%eval 0.12] [%clk 0:02:56] } 3... b5? { [%eval 2.4] [%clk 0:03:00] } 4. Na3? { [%eval 0.22] [%clk 0:02:53] } 4... Rb8? { [%eval 2.46] [%clk 0:02:59] } 5. Bxb5 { [%eval 2.5] [%clk 0:02:41] } 5... Na5? { [%eval 3.78] [%clk 0:02:51] } 6. Ng5? { [%eval 2.32] [%clk 0:02:23] } 6... Nf6 { [%eval 2.78] [%clk 0:02:50] } 7. f3? { [%eval 0.72] [%clk 0:02:20] } 7... h6 { [%eval 0.78] [%clk 0:02:48] } 8. Nh3 { [%eval 0.96] [%clk 0:02:16] } 8... Rg8? { [%eval 2.47] [%clk 0:02:48] } 9. b4?! { [%eval 1.5] [%clk 0:02:17] } 9... cxb4 { [%eval 1.58] [%clk 0:02:47] } 10. cxb4 { [%eval 1.42] [%clk 0:02:16] } 10... Nb7? { [%eval 2.77] [%clk 0:02:42] } 11. d4 { [%eval 2.99] [%clk 0:02:17] } 11... Nd6? { [%eval 4.41] [%clk 0:02:40] } 12. Nf2?? { [%eval -2.37] [%clk 0:02:17] } 12... a6?? { [%eval 4.93] [%clk 0:02:36] } 13. Ba4 { [%eval 4.01] [%clk 0:02:10] } 13... g5 { [%eval 4.85] [%clk 0:02:24] } 14. O-O?! { [%eval 3.86] [%clk 0:02:04] } 14... Bb7? { [%eval 6.5] [%clk 0:02:12] } 15. e5 { [%eval 6.68] [%clk 0:02:03] } 15... Nd5 { [%eval 6.58] [%clk 0:01:55] } 16. exd6 { [%eval 6.67] [%clk 0:02:01] } 16... exd6 { [%eval 8.05] [%clk 0:01:56] } 17. Ne4 { [%eval 7.37] [%clk 0:01:58] } 17... Rc8 { [%eval 9.93] [%clk 0:01:54] } 18. f4?? { [%eval 6.18] [%clk 0:01:42] } 18... gxf4 { [%eval 5.94] [%clk 0:01:53] } 19. Bxf4?? { [%eval 0.62] [%clk 0:01:37] } 19... Nxf4?? { [%eval 5.44] [%clk 0:01:53] } 20. Rxf4 { [%eval 4.88] [%clk 0:01:39] } 20... Qh4?? { [%eval 15.7] [%clk 0:01:47] } 21. Rxh4 { [%eval 15.79] [%clk 0:01:40] } 21... d5 { [%eval 19.78] [%clk 0:01:35] } 22. Nc3 { [%eval 14.09] [%clk 0:01:34] } 22... Bxb4 { [%eval 15.79] [%clk 0:01:35] } 23. Qb3 { [%eval 16.01] [%clk 0:01:24] } 23... Bxa3?! { [%eval #9] [%clk 0:01:30] } 24. Qxa3?! { [%eval 20.1] [%clk 0:01:23] } 24... Rd8?! { [%eval #1] [%clk 0:01:18] } 25. Nxd5 { [%eval #8] [%clk 0:01:22] } 25... Bxd5 { [%eval #8] [%clk 0:01:11] } 26. Rxh6 { [%eval #7] [%clk 0:01:11] } 26... Bxg2 { [%eval #7] [%clk 0:01:11] } 27. h3?! { [%eval 19.96] [%clk 0:00:50] } 27... Bxh3+?! { [%eval #8] [%clk 0:01:08] } 28. Kh2 { [%eval #7] [%clk 0:00:43] } 28... Bf5 { [%eval #4] [%clk 0:01:00] } 29. Rf1 { [%eval #7] [%clk 0:00:43] } 29... Be6 { [%eval #5] [%clk 0:00:55] } 30. Qe3?! { [%eval 18.7] [%clk 0:00:33] } 30... Rc8 { [%eval 42.63] [%clk 0:00:54] } 31. Bb3 { [%eval 15.13] [%clk 0:00:29] } 31... Rc7 { [%eval 16.35] [%clk 0:00:24] } 32. d5 { [%eval 15.05] [%clk 0:00:29] } 1-0\"\"\"\n",
    "\n",
    "m = re.findall(r'\\[(.*) \"(.*)\"]',s)\n",
    "\n",
    "metadata_keys = [i[0] for i in m]\n",
    "metadata_values = [i[1].replace(',',';') for i in m]\n",
    "print(metadata_keys)\n",
    "print(metadata_values)\n",
    "d = dict(zip(metadata_keys, metadata_values))\n",
    "print([k for k in d])\n",
    "print([d[k] for k in d])\n"
   ]
  },
  {
   "cell_type": "code",
   "execution_count": 7,
   "metadata": {},
   "outputs": [
    {
     "name": "stdout",
     "output_type": "stream",
     "text": [
      "start loading\n"
     ]
    }
   ],
   "source": [
    "print(\"start loading\")"
   ]
  },
  {
   "cell_type": "markdown",
   "metadata": {},
   "source": [
    "# Extract individual games from PGN file"
   ]
  },
  {
   "cell_type": "code",
   "execution_count": 8,
   "metadata": {},
   "outputs": [],
   "source": [
    "lines_to_read = 500000"
   ]
  },
  {
   "cell_type": "code",
   "execution_count": 9,
   "metadata": {},
   "outputs": [
    {
     "name": "stdout",
     "output_type": "stream",
     "text": [
      "[Event \"Rated Rapid game\"]\n",
      "[Site \"https://lichess.org/NCnCFGfQ\"]\n",
      "[Date \"2021.08.01\"]\n",
      "[Round \"-\"]\n",
      "[White \"milesurquhart\"]\n",
      "[Black \"rafaahasan\"]\n",
      "[Result \"0-1\"]\n",
      "[UTCDate \"2021.08.01\"]\n",
      "[UTCTime \"00:18:39\"]\n",
      "[WhiteElo \"1844\"]\n",
      "[BlackElo \"1716\"]\n",
      "[WhiteRatingDiff \"-89\"]\n",
      "[BlackRatingDiff \"+7\"]\n",
      "[ECO \"B00\"]\n",
      "[Opening \"Ware Defense\"]\n",
      "[TimeControl \"600+5\"]\n",
      "[Termination \"Normal\"]\n",
      "\n",
      "1. e4 { [%clk 0:10:00] } 1... a5 { [%clk 0:10:00] } 2. Bc4 { [%clk 0:09:42] } 2... e6 { [%clk 0:09:59] } 3. a3 { [%clk 0:09:40] } 3... c6 { [%clk 0:10:00] } 4. Qe2 { [%clk 0:09:12] } 4... b5 { [%clk 0:10:01] } 5. Bd3 { [%clk 0:08:55] } 5... h6 { [%clk 0:09:58] } 6. e5 { [%clk 0:08:44] } 6... g5 { [%clk 0:09:58] } 7. Be4 { [%clk 0:08:07] } 7... Bg7 { [%clk 0:09:49] } 8. d4 { [%clk 0:07:57] } 8... Ne7 { [%clk 0:09:50] } 9. Nf3 { [%clk 0:07:41] } 9... Bb7 { [%clk 0:09:52] } 10. Nfd2 { [%clk 0:07:27] } 10... O-O { [%clk 0:09:50] } 11. Nb3 { [%clk 0:07:22] } 11... d5 { [%clk 0:09:51] } 12. Bf3 { [%clk 0:07:10] } 12... Nd7 { [%clk 0:09:51] } 13. Bd2 { [%clk 0:07:01] } 13... Nf5 { [%clk 0:09:40] } 14. c3 { [%clk 0:06:28] } 14... a4 { [%clk 0:09:38] } 15. Nc5 { [%clk 0:05:59] } 15... Nxc5 { [%clk 0:09:41] } 16. dxc5 { [%clk 0:06:03] } 16... d4 { [%clk 0:09:13] } 17. O-O { [%clk 0:05:40] } 17... d3 { [%clk 0:09:04] } 18. Qd1 { [%clk 0:04:44] } 18... Bxe5 { [%clk 0:08:59] } 19. Re1 { [%clk 0:03:54] } 19... Bg7 { [%clk 0:08:56] } 20. Bg4 { [%clk 0:03:20] } 20... Nh4 { [%clk 0:08:48] } 21. g3 { [%clk 0:02:57] } 21... Ng6 { [%clk 0:08:41] } 22. c4 { [%clk 0:02:29] } 22... Ne5 { [%clk 0:08:37] } 23. Bf3 { [%clk 0:02:06] } 23... Nxc4 { [%clk 0:08:27] } 24. Bc3 { [%clk 0:01:39] } 24... Nxb2 { [%clk 0:08:14] } 25. Bxb2 { [%clk 0:01:35] } 25... Bxb2 { [%clk 0:08:15] } 26. Ra2 { [%clk 0:01:40] } 26... Bd4 { [%clk 0:08:02] } 27. Kg2 { [%clk 0:00:59] } 27... Bxc5 { [%clk 0:07:51] } 28. Re3 { [%clk 0:01:04] } 28... Bxe3 { [%clk 0:07:53] } 29. fxe3 { [%clk 0:01:05] } 29... Qd6 { [%clk 0:07:28] } 30. Rd2 { [%clk 0:00:58] } 30... Rad8 { [%clk 0:07:28] } 31. Nc3 { [%clk 0:00:40] } 31... f5 { [%clk 0:07:08] } 32. Rxd3 { [%clk 0:00:30] } 32... Qxd3 { [%clk 0:07:06] } 0-1\n",
      "24988\n"
     ]
    }
   ],
   "source": [
    "from pathlib import Path\n",
    "Path(\"games\").mkdir(parents=True, exist_ok=True)\n",
    "\n",
    "with open(FILE_NAME, 'r') as f:\n",
    "    all_games = ''.join([f.readline() for i in range(lines_to_read)])\n",
    "\n",
    "span = 2\n",
    "all_games = all_games.split(\"\\n\\n\")\n",
    "split_games  = [\"\\n\\n\".join(all_games[i:i+span]) for i in range(0, len(all_games), span)]\n",
    "print(split_games[-2])\n",
    "print(len(split_games))"
   ]
  },
  {
   "cell_type": "markdown",
   "metadata": {},
   "source": [
    "## filter out games without eval score or without clk"
   ]
  },
  {
   "cell_type": "code",
   "execution_count": 10,
   "metadata": {},
   "outputs": [
    {
     "name": "stdout",
     "output_type": "stream",
     "text": [
      "2106\n"
     ]
    }
   ],
   "source": [
    "filtered = []\n",
    "for game in split_games:\n",
    "    if 'eval' in game and 'clk' in game:\n",
    "        filtered.append(game)\n",
    "split_games = filtered\n",
    "print(len(split_games))"
   ]
  },
  {
   "cell_type": "markdown",
   "metadata": {},
   "source": [
    "## keep n games"
   ]
  },
  {
   "cell_type": "code",
   "execution_count": 11,
   "metadata": {},
   "outputs": [
    {
     "name": "stdout",
     "output_type": "stream",
     "text": [
      "2000\n",
      "[Event \"Rated Bullet game\"]\n",
      "[Site \"https://lichess.org/WiJEcrEp\"]\n",
      "[Date \"2021.08.01\"]\n",
      "[Round \"-\"]\n",
      "[White \"henryln1\"]\n",
      "[Black \"OturanGeyik\"]\n",
      "[Result \"1-0\"]\n",
      "[UTCDate \"2021.08.01\"]\n",
      "[UTCTime \"00:17:46\"]\n",
      "[WhiteElo \"1659\"]\n",
      "[BlackElo \"1638\"]\n",
      "[WhiteRatingDiff \"+5\"]\n",
      "[BlackRatingDiff \"-5\"]\n",
      "[ECO \"A22\"]\n",
      "[Opening \"English Opening: King's English Variation, Two Knights Variation, Reversed Dragon\"]\n",
      "[TimeControl \"60+0\"]\n",
      "[Termination \"Time forfeit\"]\n",
      "\n",
      "1. c4 { [%eval 0.2] [%clk 0:01:00] } 1... e5 { [%eval 0.12] [%clk 0:01:00] } 2. Nc3 { [%eval 0.16] [%clk 0:00:59] } 2... Nf6 { [%eval 0.32] [%clk 0:00:58] } 3. g3 { [%eval 0.0] [%clk 0:00:59] } 3... d5 { [%eval 0.26] [%clk 0:00:58] } 4. cxd5 { [%eval 0.18] [%clk 0:00:57] } 4... Bf5? { [%eval 2.21] [%clk 0:00:57] } 5. Bg2 { [%eval 2.16] [%clk 0:00:56] } 5... Bd6 { [%eval 2.28] [%clk 0:00:56] } 6. Nf3 { [%eval 1.92] [%clk 0:00:55] } 6... Nbd7? { [%eval 3.19] [%clk 0:00:55] } 7. O-O { [%eval 2.99] [%clk 0:00:54] } 7... h6 { [%eval 2.93] [%clk 0:00:53] } 8. Nh4?! { [%eval 2.01] [%clk 0:00:53] } 8... Bh7 { [%eval 2.21] [%clk 0:00:52] } 9. d3 { [%eval 2.21] [%clk 0:00:52] } 9... g5? { [%eval 3.67] [%clk 0:00:51] } 10. Nf3 { [%eval 3.74] [%clk 0:00:50] } 10... Qe7 { [%eval 3.87] [%clk 0:00:47] } 11. e4 { [%eval 4.21] [%clk 0:00:49] } 11... O-O-O { [%eval 3.98] [%clk 0:00:45] } 12. Nb5 { [%eval 4.17] [%clk 0:00:48] } 12... Kb8 { [%eval 3.91] [%clk 0:00:44] } 13. Nxd6 { [%eval 3.85] [%clk 0:00:47] } 13... cxd6 { [%eval 3.85] [%clk 0:00:41] } 14. Be3? { [%eval 2.36] [%clk 0:00:46] } 14... Rc8? { [%eval 4.69] [%clk 0:00:39] } 15. Qa4? { [%eval 3.17] [%clk 0:00:44] } 15... Nc5 { [%eval 3.46] [%clk 0:00:38] } 16. Bxc5? { [%eval 2.35] [%clk 0:00:42] } 16... Rxc5 { [%eval 2.38] [%clk 0:00:36] } 17. Rac1 { [%eval 2.39] [%clk 0:00:41] } 17... Nd7 { [%eval 2.15] [%clk 0:00:35] } 18. Rc2?! { [%eval 1.45] [%clk 0:00:40] } 18... Rxc2 { [%eval 1.41] [%clk 0:00:33] } 19. Qxc2 { [%eval 1.51] [%clk 0:00:39] } 19... Rc8 { [%eval 1.34] [%clk 0:00:33] } 20. Qb3 { [%eval 1.27] [%clk 0:00:38] } 20... Nc5?! { [%eval 1.84] [%clk 0:00:32] } 21. Qa3 { [%eval 1.79] [%clk 0:00:35] } 21... Na6?! { [%eval 2.47] [%clk 0:00:29] } 22. b3?! { [%eval 1.58] [%clk 0:00:33] } 22... Rc5? { [%eval 3.01] [%clk 0:00:28] } 23. Rc1? { [%eval 1.93] [%clk 0:00:31] } 23... Rxc1+ { [%eval 2.16] [%clk 0:00:25] } 24. Qxc1 { [%eval 2.18] [%clk 0:00:31] } 24... Bg8?! { [%eval 2.94] [%clk 0:00:24] } 25. Nd2 { [%eval 3.62] [%clk 0:00:30] } 25... Nc5 { [%eval 3.7] [%clk 0:00:23] } 26. Qc4 { [%eval 2.98] [%clk 0:00:27] } 26... Qd8? { [%eval 4.33] [%clk 0:00:16] } 27. d4 { [%eval 4.19] [%clk 0:00:27] } 27... Na6 { [%eval 3.99] [%clk 0:00:14] } 28. dxe5 { [%eval 4.37] [%clk 0:00:25] } 28... dxe5 { [%eval 3.88] [%clk 0:00:14] } 29. Nb1 { [%eval 3.65] [%clk 0:00:23] } 29... f6 { [%eval 3.79] [%clk 0:00:14] } 30. Nc3 { [%eval 3.53] [%clk 0:00:23] } 30... Nc7 { [%eval 4.02] [%clk 0:00:12] } 31. a4? { [%eval 2.64] [%clk 0:00:19] } 31... a6? { [%eval 5.18] [%clk 0:00:10] } 32. b4? { [%eval 2.69] [%clk 0:00:17] } 32... Ne8 { [%eval 2.59] [%clk 0:00:07] } 33. b5 { [%eval 2.03] [%clk 0:00:16] } 33... Nd6?! { [%eval 2.76] [%clk 0:00:07] } 34. Qb4? { [%eval 0.96] [%clk 0:00:14] } 34... a5 { [%eval 1.34] [%clk 0:00:06] } 35. Qb3?! { [%eval 0.73] [%clk 0:00:11] } 35... b6 { [%eval 1.08] [%clk 0:00:04] } 36. h4 { [%eval 1.11] [%clk 0:00:09] } 36... f5? { [%eval 3.39] [%clk 0:00:01] } 37. f3?? { [%eval 0.16] [%clk 0:00:07] } 1-0\n"
     ]
    }
   ],
   "source": [
    "n_games = 2000\n",
    "split_games = split_games[:n_games]\n",
    "print(len(split_games))\n",
    "print(split_games[-1])"
   ]
  },
  {
   "cell_type": "markdown",
   "metadata": {},
   "source": [
    "## store individual games as PGN files"
   ]
  },
  {
   "cell_type": "code",
   "execution_count": 12,
   "metadata": {},
   "outputs": [],
   "source": [
    "for i in range(len(split_games)):\n",
    "    with open('games/game-{:05d}.pgn'.format(i+1),'w') as f:\n",
    "        f.write(split_games[i])"
   ]
  },
  {
   "cell_type": "code",
   "execution_count": 13,
   "metadata": {},
   "outputs": [
    {
     "name": "stdout",
     "output_type": "stream",
     "text": [
      "10000\n"
     ]
    }
   ],
   "source": [
    "notrandgames = ['games/game-{:05d}.pgn'.format(n+1) for n in range(10000)]\n",
    "print(len(notrandgames))"
   ]
  },
  {
   "cell_type": "markdown",
   "metadata": {},
   "source": [
    "# Loading games from individual PGN files"
   ]
  },
  {
   "cell_type": "code",
   "execution_count": 14,
   "metadata": {},
   "outputs": [
    {
     "name": "stdout",
     "output_type": "stream",
     "text": [
      "['Opening', 'TimeControl', 'UTCTime', 'White', 'Event', 'Black', 'ECO', 'BlackElo', 'UTCDate', 'Site', 'Termination', 'WhiteElo', 'Round', 'Result', 'Date']\n",
      "[{'Event': 'Rated Blitz tournament https://lichess.org/tournament/zTLnP8ob', 'Site': 'https://lichess.org/q5HJFu3Z', 'Date': '2021.08.01', 'Round': '-', 'White': 'Gersonz', 'Black': 'Scheyla_Perdomo26', 'Result': '1-0', 'UTCDate': '2021.08.01', 'UTCTime': '00:00:24', 'WhiteElo': '1552', 'BlackElo': '1321', 'ECO': 'B22', 'Opening': 'Sicilian Defense: Alapin Variation', 'TimeControl': '180+2', 'Termination': 'Time forfeit'}, {'Event': 'Rated Bullet game', 'Site': 'https://lichess.org/hsdob0QP', 'Date': '2021.08.01', 'Round': '-', 'White': 'zoki-pantelic', 'Black': 'hbju', 'Result': '1-0', 'UTCDate': '2021.08.01', 'UTCTime': '00:00:25', 'WhiteElo': '1789', 'BlackElo': '1793', 'ECO': 'C24', 'Opening': \"Bishop's Opening: Berlin Defense\", 'TimeControl': '60+0', 'Termination': 'Normal'}, {'Event': 'Rated Bullet game', 'Site': 'https://lichess.org/PstuIwhh', 'Date': '2021.08.01', 'Round': '-', 'White': 'Mezoo777000222', 'Black': 'rj270', 'Result': '0-1', 'UTCDate': '2021.08.01', 'UTCTime': '00:00:25', 'WhiteElo': '1083', 'BlackElo': '1099', 'ECO': 'B10', 'Opening': 'Caro-Kann Defense', 'TimeControl': '60+0', 'Termination': 'Time forfeit'}, {'Event': 'Rated Bullet game', 'Site': 'https://lichess.org/7Ne4f8st', 'Date': '2021.08.01', 'Round': '-', 'White': 'Fredylopez', 'Black': 'ig_olualabi', 'Result': '1-0', 'UTCDate': '2021.08.01', 'UTCTime': '00:00:25', 'WhiteElo': '1120', 'BlackElo': '1036', 'ECO': 'B23', 'Opening': 'Sicilian Defense: Closed; Traditional', 'TimeControl': '60+0', 'Termination': 'Time forfeit'}, {'Event': 'Rated Rapid tournament https://lichess.org/tournament/cu9aqMOJ', 'Site': 'https://lichess.org/ajRPL5gr', 'Date': '2021.08.01', 'Round': '-', 'White': 'Anastasia_mir', 'Black': 'TATHAoo7', 'Result': '0-1', 'UTCDate': '2021.08.01', 'UTCTime': '00:00:26', 'WhiteElo': '1511', 'BlackElo': '1503', 'ECO': 'B00', 'Opening': 'Carr Defense', 'TimeControl': '600+0', 'Termination': 'Normal'}, {'Event': 'Rated Blitz tournament https://lichess.org/tournament/JeUQ1f9Z', 'Site': 'https://lichess.org/R3ItqGHy', 'Date': '2021.08.01', 'Round': '-', 'White': 'MequinhoCover', 'Black': 'StenioVargas', 'Result': '1-0', 'UTCDate': '2021.08.01', 'UTCTime': '00:00:26', 'WhiteElo': '2062', 'BlackElo': '2151', 'ECO': 'B06', 'Opening': 'Pterodactyl Defense: Eastern; Anhanguera', 'TimeControl': '180+2', 'Termination': 'Normal'}, {'Event': 'Rated Blitz game', 'Site': 'https://lichess.org/q1m8E5GB', 'Date': '2021.08.01', 'Round': '-', 'White': 'Munzogra', 'Black': 'XenonHawk', 'Result': '1-0', 'UTCDate': '2021.08.01', 'UTCTime': '00:00:27', 'WhiteElo': '1460', 'BlackElo': '1455', 'ECO': 'B21', 'Opening': 'Sicilian Defense: Smith-Morra Gambit', 'TimeControl': '180+0', 'Termination': 'Time forfeit'}, {'Event': 'Rated Blitz game', 'Site': 'https://lichess.org/ou3kaOGV', 'Date': '2021.08.01', 'Round': '-', 'White': 'Owais20', 'Black': 'crazydio', 'Result': '1-0', 'UTCDate': '2021.08.01', 'UTCTime': '00:00:27', 'WhiteElo': '1441', 'BlackElo': '1443', 'ECO': 'C40', 'Opening': \"King's Pawn Game: Busch-Gass Gambit\", 'TimeControl': '180+0', 'Termination': 'Normal'}, {'Event': 'Rated Blitz game', 'Site': 'https://lichess.org/0SNuJ8Ta', 'Date': '2021.08.01', 'Round': '-', 'White': 'Poet1986', 'Black': 'Kabila', 'Result': '1-0', 'UTCDate': '2021.08.01', 'UTCTime': '00:00:27', 'WhiteElo': '2582', 'BlackElo': '2526', 'ECO': 'A00', 'Opening': \"Van't Kruijs Opening\", 'TimeControl': '180+0', 'Termination': 'Normal'}, {'Event': 'Rated Bullet game', 'Site': 'https://lichess.org/1FmXNuWU', 'Date': '2021.08.01', 'Round': '-', 'White': 'vasco7', 'Black': 'Esponjas', 'Result': '1-0', 'UTCDate': '2021.08.01', 'UTCTime': '00:00:28', 'WhiteElo': '1116', 'BlackElo': '1118', 'ECO': 'B00', 'Opening': 'Pirc Defense', 'TimeControl': '120+1', 'Termination': 'Normal'}, {'Event': 'Rated Blitz tournament https://lichess.org/tournament/ggHdw75U', 'Site': 'https://lichess.org/ADNtyO4O', 'Date': '2021.08.01', 'Round': '-', 'White': 'CarlosConstructor', 'Black': 'fauriciocuadro_2jav', 'Result': '1-0', 'UTCDate': '2021.08.01', 'UTCTime': '00:00:28', 'WhiteElo': '1590', 'BlackElo': '1363', 'ECO': 'C40', 'Opening': \"King's Pawn Game: Busch-Gass Gambit\", 'TimeControl': '180+0', 'Termination': 'Normal'}, {'Event': 'Rated Rapid game', 'Site': 'https://lichess.org/WfvlX54i', 'Date': '2021.08.01', 'Round': '-', 'White': 'Kr11000', 'Black': 'juliancj', 'Result': '0-1', 'UTCDate': '2021.08.01', 'UTCTime': '00:00:32', 'WhiteElo': '1843', 'BlackElo': '1849', 'ECO': 'E30', 'Opening': 'Nimzo-Indian Defense: Leningrad Variation', 'TimeControl': '600+0', 'Termination': 'Normal'}, {'Event': 'Rated Blitz game', 'Site': 'https://lichess.org/kWCGSOwX', 'Date': '2021.08.01', 'Round': '-', 'White': 'Litost7', 'Black': 'yoelo08', 'Result': '0-1', 'UTCDate': '2021.08.01', 'UTCTime': '00:00:33', 'WhiteElo': '1788', 'BlackElo': '1286', 'ECO': 'C45', 'Opening': 'Scotch Game', 'TimeControl': '180+0', 'Termination': 'Normal'}, {'Event': 'Rated Blitz game', 'Site': 'https://lichess.org/fhdS1fDM', 'Date': '2021.08.01', 'Round': '-', 'White': 'Eldiosdelajedrez2021', 'Black': 'KILLERVIENNA', 'Result': '1-0', 'UTCDate': '2021.08.01', 'UTCTime': '00:00:33', 'WhiteElo': '1608', 'BlackElo': '1976', 'ECO': 'A10', 'Opening': 'English Opening: Anglo-Dutch Defense', 'TimeControl': '180+0', 'Termination': 'Time forfeit'}, {'Event': 'Rated Blitz game', 'Site': 'https://lichess.org/DobbnXHE', 'Date': '2021.08.01', 'Round': '-', 'White': 'eltiojuanbruno2', 'Black': 'defensor151', 'Result': '0-1', 'UTCDate': '2021.08.01', 'UTCTime': '00:00:33', 'WhiteElo': '2357', 'BlackElo': '1862', 'ECO': 'C26', 'Opening': 'Vienna Game: Mieses Variation', 'TimeControl': '180+0', 'Termination': 'Normal'}, {'Event': 'Rated Blitz game', 'Site': 'https://lichess.org/E1GAZJ0K', 'Date': '2021.08.01', 'Round': '-', 'White': 'juancruzariasTDF', 'Black': 'Guzman70', 'Result': '1/2-1/2', 'UTCDate': '2021.08.01', 'UTCTime': '00:00:33', 'WhiteElo': '2601', 'BlackElo': '2404', 'ECO': 'B14', 'Opening': 'Caro-Kann Defense: Panov Attack; Fianchetto Defense', 'TimeControl': '180+0', 'Termination': 'Normal'}, {'Event': 'Rated Bullet game', 'Site': 'https://lichess.org/LsLmkd5F', 'Date': '2021.08.01', 'Round': '-', 'White': 'emresipahi', 'Black': 'alsayedde', 'Result': '1-0', 'UTCDate': '2021.08.01', 'UTCTime': '00:00:34', 'WhiteElo': '1484', 'BlackElo': '1443', 'ECO': 'B40', 'Opening': 'Sicilian Defense: Paulsen-Basman Defense', 'TimeControl': '60+0', 'Termination': 'Normal'}, {'Event': 'Rated Blitz tournament https://lichess.org/tournament/mg8GKo1o', 'Site': 'https://lichess.org/06kMhuYc', 'Date': '2021.08.01', 'Round': '-', 'White': 'donking133', 'Black': 'Patri19', 'Result': '1-0', 'UTCDate': '2021.08.01', 'UTCTime': '00:00:35', 'WhiteElo': '1345', 'BlackElo': '1132', 'ECO': 'C44', 'Opening': 'Ponziani Opening: Jaenisch Counterattack', 'TimeControl': '180+0', 'Termination': 'Normal'}, {'Event': 'Rated Rapid tournament https://lichess.org/tournament/FPGcdrg4', 'Site': 'https://lichess.org/j6k3rxzG', 'Date': '2021.08.01', 'Round': '-', 'White': 'Matsubot05', 'Black': 'buitrecito', 'Result': '1/2-1/2', 'UTCDate': '2021.08.01', 'UTCTime': '00:00:03', 'WhiteElo': '1816', 'BlackElo': '1928', 'ECO': 'A30', 'Opening': 'English Opening: Symmetrical Variation', 'TimeControl': '420+3', 'Termination': 'Normal'}, {'Event': 'Rated Blitz tournament https://lichess.org/tournament/JTRjXWm8', 'Site': 'https://lichess.org/RFBYc5fI', 'Date': '2021.08.01', 'Round': '-', 'White': 'Moderate_Chess', 'Black': 'DennisMoreno', 'Result': '1-0', 'UTCDate': '2021.08.01', 'UTCTime': '00:00:03', 'WhiteElo': '2255', 'BlackElo': '2260', 'ECO': 'B50', 'Opening': 'Sicilian Defense: Delayed Alapin', 'TimeControl': '300+0', 'Termination': 'Normal'}, {'Event': 'Rated Bullet game', 'Site': 'https://lichess.org/KNTXHNBL', 'Date': '2021.08.01', 'Round': '-', 'White': 'Niclas90', 'Black': 'PabloMNZS', 'Result': '1-0', 'UTCDate': '2021.08.01', 'UTCTime': '00:00:03', 'WhiteElo': '1507', 'BlackElo': '1479', 'ECO': 'D20', 'Opening': \"Queen's Gambit Accepted: Old Variation\", 'TimeControl': '120+1', 'Termination': 'Normal'}, {'Event': 'Rated Blitz game', 'Site': 'https://lichess.org/ALhOGf4q', 'Date': '2021.08.01', 'Round': '-', 'White': 'AlexR09', 'Black': 'Outrunner', 'Result': '1-0', 'UTCDate': '2021.08.01', 'UTCTime': '00:00:04', 'WhiteElo': '2436', 'BlackElo': '2617', 'ECO': 'A04', 'Opening': 'Zukertort Opening: Sicilian Invitation', 'TimeControl': '180+2', 'Termination': 'Normal'}, {'Event': 'Rated Blitz game', 'Site': 'https://lichess.org/cRuWjt7M', 'Date': '2021.08.01', 'Round': '-', 'White': 'najlepszyz6', 'Black': 'andrewqa', 'Result': '0-1', 'UTCDate': '2021.08.01', 'UTCTime': '00:00:04', 'WhiteElo': '1545', 'BlackElo': '1572', 'ECO': 'C46', 'Opening': 'Four Knights Game: Halloween Gambit', 'TimeControl': '180+2', 'Termination': 'Normal'}, {'Event': 'Rated Blitz tournament https://lichess.org/tournament/zAVGui18', 'Site': 'https://lichess.org/YaQqZ6hR', 'Date': '2021.08.01', 'Round': '-', 'White': 'ChSalas', 'Black': 'RafinhaGOD', 'Result': '1-0', 'UTCDate': '2021.08.01', 'UTCTime': '00:00:05', 'WhiteElo': '2459', 'BlackElo': '2365', 'ECO': 'A04', 'Opening': 'Zukertort Opening: Herrstrom Gambit', 'TimeControl': '180+0', 'Termination': 'Normal'}, {'Event': 'Rated Blitz tournament https://lichess.org/tournament/CR5BEZjV', 'Site': 'https://lichess.org/wf7i6Prh', 'Date': '2021.08.01', 'Round': '-', 'White': 'chaneli16', 'Black': 'fishino', 'Result': '1-0', 'UTCDate': '2021.08.01', 'UTCTime': '00:00:35', 'WhiteElo': '2044', 'BlackElo': '2038', 'ECO': 'A48', 'Opening': 'East Indian Defense', 'TimeControl': '180+0', 'Termination': 'Time forfeit'}, {'Event': 'Rated Blitz tournament https://lichess.org/tournament/CR5BEZjV', 'Site': 'https://lichess.org/VBq8jrwi', 'Date': '2021.08.01', 'Round': '-', 'White': 'offspring1476', 'Black': 'Guillermotello2150', 'Result': '0-1', 'UTCDate': '2021.08.01', 'UTCTime': '00:00:35', 'WhiteElo': '2383', 'BlackElo': '2383', 'ECO': 'A49', 'Opening': 'Indian Defense: Przepiorka Variation', 'TimeControl': '180+0', 'Termination': 'Normal'}, {'Event': 'Rated Blitz tournament https://lichess.org/tournament/CR5BEZjV', 'Site': 'https://lichess.org/DCW2AiYv', 'Date': '2021.08.01', 'Round': '-', 'White': 'Fasmc17', 'Black': 'EGNfanclub', 'Result': '0-1', 'UTCDate': '2021.08.01', 'UTCTime': '00:00:35', 'WhiteElo': '2412', 'BlackElo': '2404', 'ECO': 'D14', 'Opening': 'Slav Defense: Exchange Variation; Symmetrical Line', 'TimeControl': '180+0', 'Termination': 'Normal'}, {'Event': 'Rated Blitz tournament https://lichess.org/tournament/CR5BEZjV', 'Site': 'https://lichess.org/RleAAKpJ', 'Date': '2021.08.01', 'Round': '-', 'White': 'Spaine', 'Black': 'eldidi', 'Result': '1-0', 'UTCDate': '2021.08.01', 'UTCTime': '00:00:35', 'WhiteElo': '2542', 'BlackElo': '2413', 'ECO': 'B22', 'Opening': 'Sicilian Defense: Alapin Variation; Smith-Morra Declined', 'TimeControl': '180+0', 'Termination': 'Normal'}, {'Event': 'Rated Bullet game', 'Site': 'https://lichess.org/QLKsV3wP', 'Date': '2021.08.01', 'Round': '-', 'White': 'nyal', 'Black': 'yura1234567899', 'Result': '1-0', 'UTCDate': '2021.08.01', 'UTCTime': '00:00:35', 'WhiteElo': '1594', 'BlackElo': '1679', 'ECO': 'A40', 'Opening': 'Horwitz Defense', 'TimeControl': '60+0', 'Termination': 'Normal'}, {'Event': 'Rated Blitz game', 'Site': 'https://lichess.org/UIEzjgGi', 'Date': '2021.08.01', 'Round': '-', 'White': 'Apu1969', 'Black': 'gerar3351', 'Result': '0-1', 'UTCDate': '2021.08.01', 'UTCTime': '00:00:35', 'WhiteElo': '1856', 'BlackElo': '1977', 'ECO': 'D00', 'Opening': \"Queen's Pawn Game: Stonewall Attack\", 'TimeControl': '300+0', 'Termination': 'Normal'}, {'Event': 'Rated Blitz game', 'Site': 'https://lichess.org/hPmlZfJk', 'Date': '2021.08.01', 'Round': '-', 'White': 'drzkgb', 'Black': 'sc2sc', 'Result': '1-0', 'UTCDate': '2021.08.01', 'UTCTime': '00:00:35', 'WhiteElo': '1598', 'BlackElo': '1599', 'ECO': 'B30', 'Opening': 'Sicilian Defense: Nyezhmetdinov-Rossolimo Attack', 'TimeControl': '300+0', 'Termination': 'Normal'}, {'Event': 'Rated Rapid game', 'Site': 'https://lichess.org/HoQn42bj', 'Date': '2021.08.01', 'Round': '-', 'White': 'Hicham_chess', 'Black': 'GabrielSarfati', 'Result': '0-1', 'UTCDate': '2021.08.01', 'UTCTime': '00:00:37', 'WhiteElo': '1969', 'BlackElo': '1918', 'ECO': 'A57', 'Opening': 'Benko Gambit', 'TimeControl': '600+5', 'Termination': 'Normal'}, {'Event': 'Rated Rapid game', 'Site': 'https://lichess.org/7L4zxlhR', 'Date': '2021.08.01', 'Round': '-', 'White': 'mtywdc', 'Black': 'Apocalipchess', 'Result': '0-1', 'UTCDate': '2021.08.01', 'UTCTime': '00:00:37', 'WhiteElo': '2233', 'BlackElo': '2138', 'ECO': 'C45', 'Opening': 'Scotch Game: Schmidt Variation', 'TimeControl': '600+5', 'Termination': 'Normal'}, {'Event': 'Rated Rapid game', 'Site': 'https://lichess.org/Ejq0Q8eG', 'Date': '2021.08.01', 'Round': '-', 'White': 'The-wolf86', 'Black': 'Jorn_chess', 'Result': '0-1', 'UTCDate': '2021.08.01', 'UTCTime': '00:00:37', 'WhiteElo': '2041', 'BlackElo': '2001', 'ECO': 'C42', 'Opening': 'Russian Game: Italian Variation', 'TimeControl': '600+5', 'Termination': 'Normal'}, {'Event': 'Rated Blitz game', 'Site': 'https://lichess.org/dsFAbiII', 'Date': '2021.08.01', 'Round': '-', 'White': 'billy55', 'Black': 'cruh', 'Result': '1-0', 'UTCDate': '2021.08.01', 'UTCTime': '00:00:43', 'WhiteElo': '727', 'BlackElo': '882', 'ECO': 'C20', 'Opening': 'Portuguese Opening', 'TimeControl': '180+0', 'Termination': 'Time forfeit'}, {'Event': 'Rated Blitz game', 'Site': 'https://lichess.org/Ugs0D5J5', 'Date': '2021.08.01', 'Round': '-', 'White': 'Charles_tony', 'Black': 'JaymeMiranda', 'Result': '0-1', 'UTCDate': '2021.08.01', 'UTCTime': '00:00:43', 'WhiteElo': '2166', 'BlackElo': '2320', 'ECO': 'A13', 'Opening': 'English Opening: Agincourt Defense; Catalan Defense; Semi-Slav Defense', 'TimeControl': '180+2', 'Termination': 'Normal'}, {'Event': 'Rated Bullet tournament https://lichess.org/tournament/iyUwBp3P', 'Site': 'https://lichess.org/PDxlsaSW', 'Date': '2021.08.01', 'Round': '-', 'White': 'Magnocarlo', 'Black': 'christianmendoza285', 'Result': '0-1', 'UTCDate': '2021.08.01', 'UTCTime': '00:00:43', 'WhiteElo': '1341', 'BlackElo': '1897', 'ECO': 'B84', 'Opening': 'Sicilian Defense: Scheveningen Variation; Classical Variation', 'TimeControl': '120+0', 'Termination': 'Time forfeit'}, {'Event': 'Rated Bullet game', 'Site': 'https://lichess.org/GB5iCT0w', 'Date': '2021.08.01', 'Round': '-', 'White': 'Glucobay', 'Black': 'Leonsantillan', 'Result': '0-1', 'UTCDate': '2021.08.01', 'UTCTime': '00:00:43', 'WhiteElo': '1910', 'BlackElo': '1868', 'ECO': 'A05', 'Opening': 'Zukertort Opening: Lemberger Gambit', 'TimeControl': '60+0', 'Termination': 'Normal'}, {'Event': 'Rated Bullet game', 'Site': 'https://lichess.org/4i0lIQSk', 'Date': '2021.08.01', 'Round': '-', 'White': 'Montoyaa', 'Black': 'KayakGuy', 'Result': '0-1', 'UTCDate': '2021.08.01', 'UTCTime': '00:00:43', 'WhiteElo': '2169', 'BlackElo': '2207', 'ECO': 'E21', 'Opening': 'Nimzo-Indian Defense: Three Knights Variation', 'TimeControl': '60+0', 'Termination': 'Normal'}, {'Event': 'Rated Blitz game', 'Site': 'https://lichess.org/zyRLJvlq', 'Date': '2021.08.01', 'Round': '-', 'White': 'fmpion', 'Black': 'charney2', 'Result': '0-1', 'UTCDate': '2021.08.01', 'UTCTime': '00:00:44', 'WhiteElo': '1844', 'BlackElo': '1857', 'ECO': 'B23', 'Opening': 'Sicilian Defense: Grand Prix Attack', 'TimeControl': '300+3', 'Termination': 'Time forfeit'}, {'Event': 'Rated Blitz game', 'Site': 'https://lichess.org/cYlh2kJ1', 'Date': '2021.08.01', 'Round': '-', 'White': 'Wahyu4', 'Black': 'NoSleepBlunder', 'Result': '1-0', 'UTCDate': '2021.08.01', 'UTCTime': '00:00:44', 'WhiteElo': '1266', 'BlackElo': '1280', 'ECO': 'E60', 'Opening': 'Indian Defense: West Indian Defense', 'TimeControl': '300+3', 'Termination': 'Time forfeit'}, {'Event': 'Rated Blitz game', 'Site': 'https://lichess.org/C2bsokhy', 'Date': '2021.08.01', 'Round': '-', 'White': 'Ash-12', 'Black': 'T35090', 'Result': '0-1', 'UTCDate': '2021.08.01', 'UTCTime': '00:00:44', 'WhiteElo': '1537', 'BlackElo': '1531', 'ECO': 'E71', 'Opening': \"King's Indian Defense: Makogonov Variation\", 'TimeControl': '300+3', 'Termination': 'Time forfeit'}, {'Event': 'Rated Blitz game', 'Site': 'https://lichess.org/3EvJjnL8', 'Date': '2021.08.01', 'Round': '-', 'White': 'jakovious', 'Black': 'Mev66', 'Result': '1-0', 'UTCDate': '2021.08.01', 'UTCTime': '00:00:00', 'WhiteElo': '1194', 'BlackElo': '1190', 'ECO': 'C20', 'Opening': 'Center Game', 'TimeControl': '300+3', 'Termination': 'Normal'}, {'Event': 'Rated Rapid game', 'Site': 'https://lichess.org/XOr8Uxq1', 'Date': '2021.08.01', 'Round': '-', 'White': 'ALFOMA', 'Black': 'acratamedieval', 'Result': '1-0', 'UTCDate': '2021.08.01', 'UTCTime': '00:00:00', 'WhiteElo': '1929', 'BlackElo': '1979', 'ECO': 'B27', 'Opening': 'Sicilian Defense: Hyperaccelerated Fianchetto', 'TimeControl': '600+0', 'Termination': 'Normal'}, {'Event': 'Rated Rapid game', 'Site': 'https://lichess.org/nM26vv0v', 'Date': '2021.08.01', 'Round': '-', 'White': 'Extinxt', 'Black': 'Marwani', 'Result': '1-0', 'UTCDate': '2021.08.01', 'UTCTime': '00:00:00', 'WhiteElo': '1108', 'BlackElo': '1092', 'ECO': 'A40', 'Opening': 'Englund Gambit', 'TimeControl': '600+0', 'Termination': 'Normal'}, {'Event': 'Rated Rapid game', 'Site': 'https://lichess.org/mlLyiS2Y', 'Date': '2021.08.01', 'Round': '-', 'White': 'ankitdoshi1', 'Black': 'JLEnamorado', 'Result': '0-1', 'UTCDate': '2021.08.01', 'UTCTime': '00:00:00', 'WhiteElo': '1275', 'BlackElo': '2034', 'ECO': 'A45', 'Opening': 'Amazon Attack: Siberian Attack', 'TimeControl': '600+0', 'Termination': 'Time forfeit'}, {'Event': 'Rated Rapid game', 'Site': 'https://lichess.org/Ztcs6EgK', 'Date': '2021.08.01', 'Round': '-', 'White': 'Pawn_Pusher_Canada', 'Black': 'Peata', 'Result': '0-1', 'UTCDate': '2021.08.01', 'UTCTime': '00:00:00', 'WhiteElo': '1480', 'BlackElo': '2059', 'ECO': 'E40', 'Opening': 'Nimzo-Indian Defense: Normal Line', 'TimeControl': '600+0', 'Termination': 'Normal'}, {'Event': 'Rated Rapid game', 'Site': 'https://lichess.org/9zhTq3yw', 'Date': '2021.08.01', 'Round': '-', 'White': 'laserchess', 'Black': 'Gmmobs', 'Result': '0-1', 'UTCDate': '2021.08.01', 'UTCTime': '00:00:00', 'WhiteElo': '1578', 'BlackElo': '2135', 'ECO': 'B15', 'Opening': 'Caro-Kann Defense: Tartakower Variation', 'TimeControl': '600+0', 'Termination': 'Normal'}, {'Event': 'Rated Blitz game', 'Site': 'https://lichess.org/Vr5vQJzo', 'Date': '2021.08.01', 'Round': '-', 'White': 'Ferjasali', 'Black': 'Crisiqueira1', 'Result': '1-0', 'UTCDate': '2021.08.01', 'UTCTime': '00:00:00', 'WhiteElo': '1914', 'BlackElo': '1529', 'ECO': 'B21', 'Opening': 'Sicilian Defense: Smith-Morra Gambit Accepted; Scheveningen Formation', 'TimeControl': '420+0', 'Termination': 'Time forfeit'}, {'Event': 'Rated Blitz game', 'Site': 'https://lichess.org/NQVJTrOW', 'Date': '2021.08.01', 'Round': '-', 'White': 'Williams9933', 'Black': 'j7s7l7', 'Result': '1-0', 'UTCDate': '2021.08.01', 'UTCTime': '00:00:01', 'WhiteElo': '1886', 'BlackElo': '2339', 'ECO': 'A27', 'Opening': \"English Opening: King's English Variation; Three Knights System\", 'TimeControl': '180+2', 'Termination': 'Normal'}, {'Event': 'Rated Blitz game', 'Site': 'https://lichess.org/3w4vW62L', 'Date': '2021.08.01', 'Round': '-', 'White': 'Serguougalde2009', 'Black': 'DanielBE26', 'Result': '0-1', 'UTCDate': '2021.08.01', 'UTCTime': '00:00:01', 'WhiteElo': '1281', 'BlackElo': '1028', 'ECO': 'C02', 'Opening': 'French Defense: Advance Variation', 'TimeControl': '420+0', 'Termination': 'Normal'}, {'Event': 'Rated Bullet game', 'Site': 'https://lichess.org/1TI8mEBz', 'Date': '2021.08.01', 'Round': '-', 'White': 'KushDoktor', 'Black': 'Youssef477', 'Result': '1-0', 'UTCDate': '2021.08.01', 'UTCTime': '00:00:01', 'WhiteElo': '848', 'BlackElo': '768', 'ECO': 'D07', 'Opening': \"Queen's Gambit Declined: Chigorin Defense\", 'TimeControl': '60+0', 'Termination': 'Time forfeit'}, {'Event': 'Rated Rapid game', 'Site': 'https://lichess.org/PKU1FKnk', 'Date': '2021.08.01', 'Round': '-', 'White': 'pappardelle', 'Black': 'Paliriu', 'Result': '0-1', 'UTCDate': '2021.08.01', 'UTCTime': '00:00:02', 'WhiteElo': '1500', 'BlackElo': '1429', 'ECO': 'A45', 'Opening': 'Indian Defense', 'TimeControl': '900+10', 'Termination': 'Normal'}, {'Event': 'Rated Blitz game', 'Site': 'https://lichess.org/e8g5Rdxc', 'Date': '2021.08.01', 'Round': '-', 'White': 'RL12', 'Black': 'fussi', 'Result': '1/2-1/2', 'UTCDate': '2021.08.01', 'UTCTime': '00:00:03', 'WhiteElo': '2517', 'BlackElo': '2499', 'ECO': 'B12', 'Opening': 'Caro-Kann Defense: Advance Variation; Short Variation', 'TimeControl': '180+0', 'Termination': 'Time forfeit'}, {'Event': 'Rated Rapid tournament https://lichess.org/tournament/P1T3MvYX', 'Site': 'https://lichess.org/EY7oQCfS', 'Date': '2021.08.01', 'Round': '-', 'White': 'sevseal', 'Black': 'slba', 'Result': '0-1', 'UTCDate': '2021.08.01', 'UTCTime': '00:00:09', 'WhiteElo': '1324', 'BlackElo': '1329', 'ECO': 'C02', 'Opening': 'French Defense: Advance Variation; Nimzowitsch System', 'TimeControl': '600+0', 'Termination': 'Normal'}, {'Event': 'Rated Rapid tournament https://lichess.org/tournament/P1T3MvYX', 'Site': 'https://lichess.org/LS1SVvMK', 'Date': '2021.08.01', 'Round': '-', 'White': 'Auraa51', 'Black': 'Maxell411', 'Result': '1-0', 'UTCDate': '2021.08.01', 'UTCTime': '00:00:09', 'WhiteElo': '1211', 'BlackElo': '1214', 'ECO': 'B00', 'Opening': 'Nimzowitsch Defense; Declined Variation', 'TimeControl': '600+0', 'Termination': 'Normal'}, {'Event': 'Rated Rapid tournament https://lichess.org/tournament/P1T3MvYX', 'Site': 'https://lichess.org/TUsBP3t0', 'Date': '2021.08.01', 'Round': '-', 'White': 'ibrahim0MC', 'Black': 'Mikeru475', 'Result': '0-1', 'UTCDate': '2021.08.01', 'UTCTime': '00:00:09', 'WhiteElo': '993', 'BlackElo': '1098', 'ECO': 'D00', 'Opening': \"Queen's Pawn Game: Mason Variation\", 'TimeControl': '600+0', 'Termination': 'Normal'}, {'Event': 'Rated Blitz tournament https://lichess.org/tournament/zl5FGh7a', 'Site': 'https://lichess.org/MJAsACI9', 'Date': '2021.08.01', 'Round': '-', 'White': 'germanjara', 'Black': 'Hjames23', 'Result': '1-0', 'UTCDate': '2021.08.01', 'UTCTime': '00:00:12', 'WhiteElo': '1703', 'BlackElo': '1706', 'ECO': 'B21', 'Opening': 'Sicilian Defense: Smith-Morra Gambit', 'TimeControl': '300+0', 'Termination': 'Normal'}, {'Event': 'Rated Blitz game', 'Site': 'https://lichess.org/VSogV0nt', 'Date': '2021.08.01', 'Round': '-', 'White': 'yolospg', 'Black': 'PRangelBomeisel', 'Result': '1/2-1/2', 'UTCDate': '2021.08.01', 'UTCTime': '00:00:13', 'WhiteElo': '1500', 'BlackElo': '1659', 'ECO': 'B12', 'Opening': 'Caro-Kann Defense: Advance Variation', 'TimeControl': '180+2', 'Termination': 'Normal'}, {'Event': 'Rated Blitz game', 'Site': 'https://lichess.org/8EF157bF', 'Date': '2021.08.01', 'Round': '-', 'White': 'AwakenedMemory', 'Black': 'hakangsl', 'Result': '1-0', 'UTCDate': '2021.08.01', 'UTCTime': '00:00:13', 'WhiteElo': '1862', 'BlackElo': '1861', 'ECO': 'A02', 'Opening': 'Bird Opening', 'TimeControl': '300+0', 'Termination': 'Normal'}, {'Event': 'Rated Blitz game', 'Site': 'https://lichess.org/A8kGbJr7', 'Date': '2021.08.01', 'Round': '-', 'White': 'Mashiaj', 'Black': 'YummyPawns', 'Result': '0-1', 'UTCDate': '2021.08.01', 'UTCTime': '00:00:13', 'WhiteElo': '1501', 'BlackElo': '1513', 'ECO': 'B06', 'Opening': 'Modern Defense', 'TimeControl': '300+0', 'Termination': 'Normal'}, {'Event': 'Rated Blitz game', 'Site': 'https://lichess.org/n2Bqjo4X', 'Date': '2021.08.01', 'Round': '-', 'White': 'jtblin', 'Black': 'Badking1981', 'Result': '1-0', 'UTCDate': '2021.08.01', 'UTCTime': '00:00:13', 'WhiteElo': '1241', 'BlackElo': '1242', 'ECO': 'C50', 'Opening': 'Italian Game: Anti-Fried Liver Defense', 'TimeControl': '300+0', 'Termination': 'Normal'}, {'Event': 'Rated Blitz tournament https://lichess.org/tournament/zAVGui18', 'Site': 'https://lichess.org/022DQ15C', 'Date': '2021.08.01', 'Round': '-', 'White': 'manitodeplomo', 'Black': 'greennight', 'Result': '0-1', 'UTCDate': '2021.08.01', 'UTCTime': '00:00:05', 'WhiteElo': '2507', 'BlackElo': '2649', 'ECO': 'A00', 'Opening': 'Van Geet Opening', 'TimeControl': '180+0', 'Termination': 'Normal'}, {'Event': 'Rated Blitz tournament https://lichess.org/tournament/zAVGui18', 'Site': 'https://lichess.org/Kn5RdaGl', 'Date': '2021.08.01', 'Round': '-', 'White': 'Heinemansito', 'Black': 'Boudicca64', 'Result': '0-1', 'UTCDate': '2021.08.01', 'UTCTime': '00:00:05', 'WhiteElo': '1947', 'BlackElo': '2011', 'ECO': 'A06', 'Opening': 'Zukertort Opening: Tennison Gambit', 'TimeControl': '180+0', 'Termination': 'Normal'}, {'Event': 'Rated Blitz game', 'Site': 'https://lichess.org/um5UVCcD', 'Date': '2021.08.01', 'Round': '-', 'White': 'Loay111', 'Black': 'realMika', 'Result': '1-0', 'UTCDate': '2021.08.01', 'UTCTime': '00:00:06', 'WhiteElo': '1350', 'BlackElo': '1109', 'ECO': 'D00', 'Opening': \"Queen's Pawn Game\", 'TimeControl': '300+2', 'Termination': 'Normal'}, {'Event': 'Rated Blitz game', 'Site': 'https://lichess.org/GWVI7fV2', 'Date': '2021.08.01', 'Round': '-', 'White': 'RikiKurniawan92', 'Black': 'ruben92b', 'Result': '0-1', 'UTCDate': '2021.08.01', 'UTCTime': '00:00:06', 'WhiteElo': '1104', 'BlackElo': '1022', 'ECO': 'A04', 'Opening': 'Zukertort Opening: Ross Gambit', 'TimeControl': '300+3', 'Termination': 'Normal'}, {'Event': 'Rated Blitz game', 'Site': 'https://lichess.org/hTSoBx1X', 'Date': '2021.08.01', 'Round': '-', 'White': 'Diego544', 'Black': 'Safwat123', 'Result': '1-0', 'UTCDate': '2021.08.01', 'UTCTime': '00:00:06', 'WhiteElo': '1795', 'BlackElo': '1687', 'ECO': 'C61', 'Opening': 'Ruy Lopez: Bird Variation', 'TimeControl': '300+3', 'Termination': 'Normal'}, {'Event': 'Rated Rapid game', 'Site': 'https://lichess.org/RghX0KIU', 'Date': '2021.08.01', 'Round': '-', 'White': 'handry_conan', 'Black': 'PauloMendes71', 'Result': '1-0', 'UTCDate': '2021.08.01', 'UTCTime': '00:00:07', 'WhiteElo': '1977', 'BlackElo': '1930', 'ECO': 'A06', 'Opening': 'Zukertort Opening: Tennison Gambit', 'TimeControl': '600+0', 'Termination': 'Normal'}, {'Event': 'Rated Blitz game', 'Site': 'https://lichess.org/dw715MVW', 'Date': '2021.08.01', 'Round': '-', 'White': 'LuisHer1234', 'Black': 'pritidagadu', 'Result': '1-0', 'UTCDate': '2021.08.01', 'UTCTime': '00:00:07', 'WhiteElo': '2139', 'BlackElo': '2149', 'ECO': 'B06', 'Opening': 'Modern Defense', 'TimeControl': '180+0', 'Termination': 'Normal'}, {'Event': 'Rated Rapid game', 'Site': 'https://lichess.org/Cnp3664G', 'Date': '2021.08.01', 'Round': '-', 'White': 'troutcar', 'Black': 'burofiz', 'Result': '0-1', 'UTCDate': '2021.08.01', 'UTCTime': '00:00:08', 'WhiteElo': '1984', 'BlackElo': '2028', 'ECO': 'C42', 'Opening': 'Russian Game', 'TimeControl': '600+0', 'Termination': 'Time forfeit'}, {'Event': 'Rated Blitz game', 'Site': 'https://lichess.org/xjGhaQtw', 'Date': '2021.08.01', 'Round': '-', 'White': 'strange24', 'Black': 'albertwinestein', 'Result': '1-0', 'UTCDate': '2021.08.01', 'UTCTime': '00:00:08', 'WhiteElo': '1609', 'BlackElo': '1631', 'ECO': 'C45', 'Opening': 'Scotch Game: Classical Variation', 'TimeControl': '300+0', 'Termination': 'Normal'}, {'Event': 'Rated Blitz tournament https://lichess.org/tournament/ggHdw75U', 'Site': 'https://lichess.org/zByiJ3vl', 'Date': '2021.08.01', 'Round': '-', 'White': 'gvgual', 'Black': 'samidescalona2002', 'Result': '0-1', 'UTCDate': '2021.08.01', 'UTCTime': '00:00:28', 'WhiteElo': '2460', 'BlackElo': '2602', 'ECO': 'E62', 'Opening': \"King's Indian Defense: Fianchetto Variation; Larsen Defense\", 'TimeControl': '180+0', 'Termination': 'Normal'}, {'Event': 'Rated Blitz tournament https://lichess.org/tournament/ggHdw75U', 'Site': 'https://lichess.org/vCUWWWsZ', 'Date': '2021.08.01', 'Round': '-', 'White': 'evaldo1', 'Black': 'yobo12', 'Result': '0-1', 'UTCDate': '2021.08.01', 'UTCTime': '00:00:28', 'WhiteElo': '1869', 'BlackElo': '1883', 'ECO': 'C45', 'Opening': 'Scotch Game', 'TimeControl': '180+0', 'Termination': 'Time forfeit'}, {'Event': 'Rated Blitz tournament https://lichess.org/tournament/ggHdw75U', 'Site': 'https://lichess.org/MqMWhV41', 'Date': '2021.08.01', 'Round': '-', 'White': 'THUNDERCTAS13', 'Black': 'soldadoCR06', 'Result': '1-0', 'UTCDate': '2021.08.01', 'UTCTime': '00:00:28', 'WhiteElo': '2127', 'BlackElo': '2130', 'ECO': 'A58', 'Opening': 'Benko Gambit Accepted: Fully Accepted Variation', 'TimeControl': '180+0', 'Termination': 'Time forfeit'}, {'Event': 'Rated Blitz tournament https://lichess.org/tournament/ggHdw75U', 'Site': 'https://lichess.org/Ov1aUvEq', 'Date': '2021.08.01', 'Round': '-', 'White': 'DefiantChair', 'Black': 'balachess2006', 'Result': '0-1', 'UTCDate': '2021.08.01', 'UTCTime': '00:00:28', 'WhiteElo': '2456', 'BlackElo': '2481', 'ECO': 'B09', 'Opening': 'Pirc Defense: Austrian Attack; Dragon Formation', 'TimeControl': '180+0', 'Termination': 'Normal'}, {'Event': 'Rated Blitz game', 'Site': 'https://lichess.org/wKtU8iPh', 'Date': '2021.08.01', 'Round': '-', 'White': 'Wamford', 'Black': 'woodengambit375', 'Result': '1-0', 'UTCDate': '2021.08.01', 'UTCTime': '00:00:29', 'WhiteElo': '1184', 'BlackElo': '1159', 'ECO': 'C57', 'Opening': 'Italian Game: Two Knights Defense; Fried Liver Attack', 'TimeControl': '300+0', 'Termination': 'Normal'}, {'Event': 'Rated Blitz game', 'Site': 'https://lichess.org/K0aFaZUH', 'Date': '2021.08.01', 'Round': '-', 'White': 'z99j', 'Black': 'zmove', 'Result': '1-0', 'UTCDate': '2021.08.01', 'UTCTime': '00:00:29', 'WhiteElo': '2015', 'BlackElo': '1922', 'ECO': 'B07', 'Opening': 'Czech Defense', 'TimeControl': '300+0', 'Termination': 'Time forfeit'}, {'Event': 'Rated Blitz game', 'Site': 'https://lichess.org/BuC5w1Jk', 'Date': '2021.08.01', 'Round': '-', 'White': 'PreisedHawk', 'Black': 'marausan', 'Result': '0-1', 'UTCDate': '2021.08.01', 'UTCTime': '00:00:29', 'WhiteElo': '1915', 'BlackElo': '1908', 'ECO': 'A51', 'Opening': 'Indian Defense: Budapest Defense', 'TimeControl': '180+2', 'Termination': 'Normal'}, {'Event': 'Rated Blitz game', 'Site': 'https://lichess.org/M5CXy8GZ', 'Date': '2021.08.01', 'Round': '-', 'White': 'Aguja', 'Black': 'BlondEngineer', 'Result': '0-1', 'UTCDate': '2021.08.01', 'UTCTime': '00:00:29', 'WhiteElo': '1381', 'BlackElo': '1484', 'ECO': 'C50', 'Opening': 'Four Knights Game: Italian Variation', 'TimeControl': '180+2', 'Termination': 'Normal'}, {'Event': 'Rated Blitz game', 'Site': 'https://lichess.org/XkWKT6wM', 'Date': '2021.08.01', 'Round': '-', 'White': 'jjgoodday', 'Black': 'Nakamura101', 'Result': '0-1', 'UTCDate': '2021.08.01', 'UTCTime': '00:00:31', 'WhiteElo': '1484', 'BlackElo': '1512', 'ECO': 'B06', 'Opening': 'Modern Defense', 'TimeControl': '180+2', 'Termination': 'Time forfeit'}, {'Event': 'Rated Blitz game', 'Site': 'https://lichess.org/hkf1Ez3L', 'Date': '2021.08.01', 'Round': '-', 'White': 'Cindyespana30', 'Black': 'merrkuh', 'Result': '0-1', 'UTCDate': '2021.08.01', 'UTCTime': '00:00:31', 'WhiteElo': '731', 'BlackElo': '747', 'ECO': 'C20', 'Opening': \"King's Pawn Game: Leonardis Variation\", 'TimeControl': '300+3', 'Termination': 'Time forfeit'}, {'Event': 'Rated Blitz game', 'Site': 'https://lichess.org/q1QD2oA3', 'Date': '2021.08.01', 'Round': '-', 'White': 'Celebi23', 'Black': 'pralaym', 'Result': '1/2-1/2', 'UTCDate': '2021.08.01', 'UTCTime': '00:00:31', 'WhiteElo': '1286', 'BlackElo': '1206', 'ECO': 'C48', 'Opening': 'Four Knights Game: Spanish Variation', 'TimeControl': '300+3', 'Termination': 'Normal'}, {'Event': 'Rated Blitz game', 'Site': 'https://lichess.org/Arwhd02Y', 'Date': '2021.08.01', 'Round': '-', 'White': 'sopa_de_Nasus', 'Black': 'Adeshola', 'Result': '0-1', 'UTCDate': '2021.08.01', 'UTCTime': '00:00:32', 'WhiteElo': '1971', 'BlackElo': '2064', 'ECO': 'C55', 'Opening': \"Italian Game: Two Knights Defense; Modern Bishop's Opening\", 'TimeControl': '180+0', 'Termination': 'Normal'}, {'Event': 'Rated Bullet tournament https://lichess.org/tournament/ona064pj', 'Site': 'https://lichess.org/46XvsQRQ', 'Date': '2021.08.01', 'Round': '-', 'White': 'starsheens', 'Black': 'Tamsho79', 'Result': '0-1', 'UTCDate': '2021.08.01', 'UTCTime': '00:00:14', 'WhiteElo': '1554', 'BlackElo': '1700', 'ECO': 'C45', 'Opening': 'Scotch Game: Classical Variation', 'TimeControl': '60+2', 'Termination': 'Normal'}, {'Event': 'Rated Blitz tournament https://lichess.org/tournament/3x0nUOEL', 'Site': 'https://lichess.org/Sx1cfj5W', 'Date': '2021.08.01', 'Round': '-', 'White': 'Asianed', 'Black': 'Oxxxy1992199215', 'Result': '0-1', 'UTCDate': '2021.08.01', 'UTCTime': '00:00:14', 'WhiteElo': '1399', 'BlackElo': '1389', 'ECO': 'A45', 'Opening': 'Indian Defense', 'TimeControl': '300+0', 'Termination': 'Normal'}, {'Event': 'Rated Rapid game', 'Site': 'https://lichess.org/8nKG5CWy', 'Date': '2021.08.01', 'Round': '-', 'White': 'MR70', 'Black': 'Matt2233', 'Result': '1-0', 'UTCDate': '2021.08.01', 'UTCTime': '00:00:14', 'WhiteElo': '1208', 'BlackElo': '1526', 'ECO': 'C20', 'Opening': \"King's Pawn Game: Wayward Queen Attack\", 'TimeControl': '480+0', 'Termination': 'Normal'}, {'Event': 'Rated Rapid game', 'Site': 'https://lichess.org/qqhWi90y', 'Date': '2021.08.01', 'Round': '-', 'White': 'Twitch_tv_KugelBuch', 'Black': 'Grimmer-san', 'Result': '1-0', 'UTCDate': '2021.08.01', 'UTCTime': '00:00:21', 'WhiteElo': '1799', 'BlackElo': '1811', 'ECO': 'C00', 'Opening': 'French Defense: Steiner Variation', 'TimeControl': '600+0', 'Termination': 'Normal'}, {'Event': 'Rated Blitz game', 'Site': 'https://lichess.org/bawGgl2u', 'Date': '2021.08.01', 'Round': '-', 'White': 'clezon', 'Black': 'niklas_8', 'Result': '1-0', 'UTCDate': '2021.08.01', 'UTCTime': '00:00:21', 'WhiteElo': '1866', 'BlackElo': '1892', 'ECO': 'A22', 'Opening': \"English Opening: King's English Variation; Two Knights Variation\", 'TimeControl': '180+2', 'Termination': 'Normal'}, {'Event': 'Rated Blitz game', 'Site': 'https://lichess.org/r1HRhulZ', 'Date': '2021.08.01', 'Round': '-', 'White': 'Savoldi', 'Black': 'Hector1309', 'Result': '1-0', 'UTCDate': '2021.08.01', 'UTCTime': '00:00:21', 'WhiteElo': '1658', 'BlackElo': '1646', 'ECO': 'B30', 'Opening': 'Sicilian Defense: Nyezhmetdinov-Rossolimo Attack', 'TimeControl': '180+2', 'Termination': 'Normal'}, {'Event': 'Rated Bullet game', 'Site': 'https://lichess.org/OxamXg22', 'Date': '2021.08.01', 'Round': '-', 'White': 'Cem_Colak', 'Black': 'swili', 'Result': '0-1', 'UTCDate': '2021.08.01', 'UTCTime': '00:00:21', 'WhiteElo': '1551', 'BlackElo': '1543', 'ECO': 'B27', 'Opening': 'Sicilian Defense: Mongoose Variation', 'TimeControl': '60+0', 'Termination': 'Normal'}, {'Event': 'Rated Blitz game', 'Site': 'https://lichess.org/Iz70jxqN', 'Date': '2021.08.01', 'Round': '-', 'White': 'Mani1979', 'Black': 'trashboatsr', 'Result': '0-1', 'UTCDate': '2021.08.01', 'UTCTime': '00:00:22', 'WhiteElo': '1690', 'BlackElo': '1678', 'ECO': 'A40', 'Opening': 'Englund Gambit Complex Declined', 'TimeControl': '300+0', 'Termination': 'Time forfeit'}, {'Event': 'Rated Blitz game', 'Site': 'https://lichess.org/572WBAWi', 'Date': '2021.08.01', 'Round': '-', 'White': 'MrBochwalt', 'Black': 'Alexander_Zubov', 'Result': '1-0', 'UTCDate': '2021.08.01', 'UTCTime': '00:00:22', 'WhiteElo': '2862', 'BlackElo': '2965', 'ECO': 'D85', 'Opening': 'Grünfeld Defense: Exchange Variation', 'TimeControl': '180+0', 'Termination': 'Normal'}, {'Event': 'Rated Blitz tournament https://lichess.org/tournament/zTLnP8ob', 'Site': 'https://lichess.org/8YmgRMhD', 'Date': '2021.08.01', 'Round': '-', 'White': 'Cristy_sarabia', 'Black': 'Brendy_Valentin06', 'Result': '1-0', 'UTCDate': '2021.08.01', 'UTCTime': '00:00:24', 'WhiteElo': '924', 'BlackElo': '1037', 'ECO': 'B00', 'Opening': 'Pirc Defense', 'TimeControl': '180+2', 'Termination': 'Normal'}, {'Event': 'Rated Blitz tournament https://lichess.org/tournament/zTLnP8ob', 'Site': 'https://lichess.org/6vERv0lh', 'Date': '2021.08.01', 'Round': '-', 'White': 'Fany_Vasquez_1500', 'Black': 'Julio_Martinez-98', 'Result': '0-1', 'UTCDate': '2021.08.01', 'UTCTime': '00:00:24', 'WhiteElo': '847', 'BlackElo': '1697', 'ECO': 'C23', 'Opening': \"Bishop's Opening\", 'TimeControl': '180+2', 'Termination': 'Normal'}, {'Event': 'Rated Blitz tournament https://lichess.org/tournament/zTLnP8ob', 'Site': 'https://lichess.org/zguWEDMG', 'Date': '2021.08.01', 'Round': '-', 'White': 'nicolecruz_80', 'Black': 'Gibari7', 'Result': '1-0', 'UTCDate': '2021.08.01', 'UTCTime': '00:00:24', 'WhiteElo': '959', 'BlackElo': '1043', 'ECO': 'A40', 'Opening': \"Queen's Pawn Game\", 'TimeControl': '180+2', 'Termination': 'Time forfeit'}, {'Event': 'Rated Blitz tournament https://lichess.org/tournament/zTLnP8ob', 'Site': 'https://lichess.org/5WucETPR', 'Date': '2021.08.01', 'Round': '-', 'White': 'WalterYanez', 'Black': 'oscaralbert', 'Result': '1-0', 'UTCDate': '2021.08.01', 'UTCTime': '00:00:24', 'WhiteElo': '1591', 'BlackElo': '1150', 'ECO': 'A00', 'Opening': \"Van't Kruijs Opening\", 'TimeControl': '180+2', 'Termination': 'Normal'}, {'Event': 'Rated Blitz game', 'Site': 'https://lichess.org/tcf42SLw', 'Date': '2021.08.01', 'Round': '-', 'White': 'Ivan-1982', 'Black': 'kaan_kiris', 'Result': '1-0', 'UTCDate': '2021.08.01', 'UTCTime': '00:00:16', 'WhiteElo': '1667', 'BlackElo': '1629', 'ECO': 'A00', 'Opening': \"Van't Kruijs Opening\", 'TimeControl': '300+3', 'Termination': 'Normal'}, {'Event': 'Rated Blitz game', 'Site': 'https://lichess.org/9gaw7HTf', 'Date': '2021.08.01', 'Round': '-', 'White': 'fakeidea', 'Black': 'acasapapi', 'Result': '0-1', 'UTCDate': '2021.08.01', 'UTCTime': '00:00:16', 'WhiteElo': '1205', 'BlackElo': '1085', 'ECO': 'C46', 'Opening': 'Three Knights Opening: Winawer Defense', 'TimeControl': '300+3', 'Termination': 'Normal'}, {'Event': 'Rated Bullet game', 'Site': 'https://lichess.org/gLJkjWxm', 'Date': '2021.08.01', 'Round': '-', 'White': 'NoSiciliaN812', 'Black': 'gewoon-dennis010', 'Result': '1-0', 'UTCDate': '2021.08.01', 'UTCTime': '00:00:16', 'WhiteElo': '1340', 'BlackElo': '1338', 'ECO': 'C21', 'Opening': 'Center Game: von der Lasa Gambit', 'TimeControl': '120+1', 'Termination': 'Normal'}, {'Event': 'Rated Rapid game', 'Site': 'https://lichess.org/INQDwsk7', 'Date': '2021.08.01', 'Round': '-', 'White': 'MERIDYEN42', 'Black': 'mwandawiro_mark', 'Result': '0-1', 'UTCDate': '2021.08.01', 'UTCTime': '00:00:16', 'WhiteElo': '1521', 'BlackElo': '1500', 'ECO': 'B12', 'Opening': 'Caro-Kann Defense: Advance Variation; Short Variation', 'TimeControl': '600+5', 'Termination': 'Normal'}]\n"
     ]
    }
   ],
   "source": [
    "notrandgames_checked = []\n",
    "metadata = []\n",
    "old_md_keys = None\n",
    "for id, g in enumerate(notrandgames):\n",
    "    try:\n",
    "        game_to_vectors(g)\n",
    "    except:\n",
    "        pass\n",
    "    else:\n",
    "        notrandgames_checked.append((id,g))\n",
    "        metadata_dict = get_metadata_from_pgn(g)\n",
    "        # get least common denominator among keys in all samples such that there aren't outlier samples that have more metadata than others\n",
    "        md_keys = [k for k in metadata_dict]\n",
    "        if old_md_keys:\n",
    "            md_keys = list(set(md_keys).intersection(old_md_keys))\n",
    "        old_md_keys = md_keys\n",
    "        metadata.append(metadata_dict)\n",
    "        \n",
    "# remove outlier metadata such that only shared metadata among all samples remains\n",
    "for d in metadata:\n",
    "    keys = [k for k in d]\n",
    "    dif = list(set(keys) - set(md_keys))\n",
    "    for k in dif:\n",
    "        d.pop(k)\n",
    "        \n",
    "print(md_keys)\n",
    "print(metadata[:100])"
   ]
  },
  {
   "cell_type": "code",
   "execution_count": 15,
   "metadata": {},
   "outputs": [
    {
     "name": "stdout",
     "output_type": "stream",
     "text": [
      "['c']\n",
      "{'a': 1, 'b': 2}\n"
     ]
    }
   ],
   "source": [
    "d1 = {'a': 1, 'b': 2, 'c': 3}\n",
    "d2 = {'a': 1, 'b': 2}\n",
    "d1k = [k for k in d1]\n",
    "d2k = [k for k in d2]\n",
    "keys = list(set(d1k).difference(d2k))\n",
    "print(keys)\n",
    "for k in keys:\n",
    "    d1.pop(k)\n",
    "print(d1)\n",
    "    "
   ]
  },
  {
   "cell_type": "code",
   "execution_count": 16,
   "metadata": {},
   "outputs": [],
   "source": [
    "# add all games regardless of first move\n",
    "firstmoves = [(g[0],get_moves_from_pgn(g[1])[0]) for g in notrandgames_checked]\n",
    "indices = []\n",
    "for idx, fm in firstmoves:\n",
    "    indices.append(idx)\n",
    "games = ['games/game-{:05d}.pgn'.format(n+1) for n in np.array(indices)]\n",
    "game_matrices = [game_to_vectors(g) for g in games]"
   ]
  },
  {
   "cell_type": "markdown",
   "metadata": {},
   "source": [
    "### handling an error where the last 2 states of each game are equivalent - remove redundant one"
   ]
  },
  {
   "cell_type": "code",
   "execution_count": 17,
   "metadata": {},
   "outputs": [],
   "source": [
    "# game matrices is num_games * num_turns * 832 \n",
    "for game in range(len(game_matrices)):\n",
    "    # check for each game whether last 2 game states are equivalent\n",
    "    if np.all(game_matrices[game][-2] == game_matrices[game][-1]):\n",
    "        # if so, remove the last state\n",
    "        game_matrices[game] = game_matrices[game][:-1]"
   ]
  },
  {
   "cell_type": "markdown",
   "metadata": {},
   "source": [
    "## keep opening moves only\n",
    "https://www.365chess.com/eco.php lists the longest openings at 10 moves, therefore keep 10 moves for each game"
   ]
  },
  {
   "cell_type": "code",
   "execution_count": 18,
   "metadata": {},
   "outputs": [],
   "source": [
    "game_matrices = [x[:10] for x in game_matrices]"
   ]
  },
  {
   "cell_type": "code",
   "execution_count": 19,
   "metadata": {},
   "outputs": [],
   "source": [
    "final_data = np.concatenate(game_matrices)"
   ]
  },
  {
   "cell_type": "code",
   "execution_count": 20,
   "metadata": {},
   "outputs": [],
   "source": [
    "tsne = TSNE(\n",
    "    perplexity=200,\n",
    "    n_jobs=6,\n",
    "    metric='euclidean',\n",
    "    random_state=42\n",
    ")"
   ]
  },
  {
   "cell_type": "code",
   "execution_count": 21,
   "metadata": {
    "scrolled": true
   },
   "outputs": [
    {
     "name": "stdout",
     "output_type": "stream",
     "text": [
      "CPU times: user 8min 8s, sys: 10.9 s, total: 8min 19s\n",
      "Wall time: 1min 51s\n"
     ]
    }
   ],
   "source": [
    "%time embedding = tsne.fit(np.array(final_data))"
   ]
  },
  {
   "cell_type": "code",
   "execution_count": 22,
   "metadata": {},
   "outputs": [],
   "source": [
    "embedding_split = np.array_split(embedding, np.add.accumulate([len(l) for l in game_matrices]))[:-1]"
   ]
  },
  {
   "cell_type": "code",
   "execution_count": 23,
   "metadata": {
    "scrolled": true
   },
   "outputs": [
    {
     "name": "stdout",
     "output_type": "stream",
     "text": [
      "['Opening', 'TimeControl', 'UTCTime', 'White', 'Event', 'Black', 'ECO', 'BlackElo', 'UTCDate', 'Site', 'Termination', 'WhiteElo', 'Round', 'Result', 'Date']\n"
     ]
    }
   ],
   "source": [
    "# fig = plt.figure(figsize=(15,15))\n",
    "# ax = fig.add_subplot(111)\n",
    "# ax.set_aspect(1)\n",
    "# for game in embedding_split[:10]:\n",
    "#     tck, u = interpolate.splprep(game.transpose(), s=0)\n",
    "#     unew = np.arange(0, 1.01, 0.01)\n",
    "#     out = interpolate.splev(unew, tck)\n",
    "#     ax.plot(out[0], out[1], '-r', alpha=0.03, color='red')\n",
    "#     ax.scatter(game[:,0], game[:,1], s=0.1, color='red')\n",
    "# #for game in embedding_split[10:800]:\n",
    "# #    tck, u = interpolate.splprep(game.transpose(), s=0)\n",
    "# #    unew = np.arange(0, 1.01, 0.01)\n",
    "# #    out = interpolate.splev(unew, tck)\n",
    "# #    ax.plot(out[0], out[1], '-r', alpha=0.03, color='blue')\n",
    "# #    ax.scatter(game[:,0], game[:,1], s=0.1, color='blue')\n",
    "# plt.xlim((-40,50));\n",
    "# plt.ylim((-60,40));\n",
    "# #for game in embedding_split[100:]:\n",
    "# #    ax.plot(game[:,0], game[:,1], '-r', alpha=0.1, color='blue')\n",
    "\n",
    "\n",
    "# write header\n",
    "csv = open(\"lichess_tsne.csv\", \"w\")\n",
    "features = \"x,y,line,cp,algo,player,age,\"\n",
    "# TODO join regex metadata with comma separator\n",
    "print(md_keys)\n",
    "features += ','.join(md_keys)\n",
    "features += \",a8,b8,c8,d8,e8,f8,g8,h8,a7,b7,c7,d7,e7,f7,g7,h7,a6,b6,c6,d6,e6,f6,g6,h6,a5,b5,c5,d5,e5,f5,g5,h5,a4,b4,c4,d4,e4,f4,g4,h4,a3,b3,c3,d3,e3,f3,g3,h3,a2,b2,c2,d2,e2,f2,g2,h2,a1,b1,c1,d1,e1,f1,g1,h1\"\n",
    "csv.write(features)\n",
    "csv.write(\"\\n\")\n",
    "idx = 0\n",
    "\n",
    "# for gameIndex, game in enumerate(embedding_split[:450]):\n",
    "for gameIndex, game in enumerate(embedding_split):\n",
    "    pi = 0\n",
    "    for idx, pos in enumerate(game):\n",
    "        csv.write(str(pos[0]))\n",
    "        csv.write(\",\")\n",
    "        csv.write(str(pos[1]))\n",
    "        \n",
    "        # number of game\n",
    "        csv.write(\",\")\n",
    "        csv.write(str(gameIndex))\n",
    "        \n",
    "        # checkpoint\n",
    "        csv.write(\",\")\n",
    "        if idx == 0:\n",
    "            csv.write(\"1\")\n",
    "        elif idx == len(game) - 1:\n",
    "            csv.write(\"1\")\n",
    "        else:\n",
    "            csv.write(\"0\")\n",
    "        \n",
    "        \n",
    "        \n",
    "        # method, in this case the starting move\n",
    "        csv.write(\",\")\n",
    "        # TODO replace with which player wins this game\n",
    "        winner = metadata[gameIndex]['Result']\n",
    "        winner = winner.replace('1-0', metadata[gameIndex]['White'])\n",
    "        winner = winner.replace('0-1', metadata[gameIndex]['Black'])\n",
    "        csv.write(winner)\n",
    "\n",
    "        # player - whose turn is it\n",
    "        csv.write(\",\")\n",
    "        if idx % 2 == 0:\n",
    "            csv.write(metadata[gameIndex]['Black'])\n",
    "        else:\n",
    "            csv.write(metadata[gameIndex]['White'])\n",
    "        \n",
    "        # age\n",
    "        csv.write(\",\")\n",
    "        csv.write(str(idx))\n",
    "        csv.write(\",\")\n",
    "        \n",
    "        # TODO all metadata from regex\n",
    "        md_values = [metadata[gameIndex][k] for k in metadata[gameIndex]]\n",
    "        csv.write(','.join(md_values))\n",
    "        \n",
    "        for n in range(0, 64):\n",
    "            csv.write(\",\")\n",
    "            str1 = ''.join(str(e) for e in game_matrices[gameIndex][idx][n * 13: (n+1) * 13])\n",
    "            csv.write(vector_to_state(str1))\n",
    "            \n",
    "        csv.write(\"\\n\")\n",
    "    gameIndex += 1\n",
    "        \n",
    "csv.close()"
   ]
  },
  {
   "cell_type": "code",
   "execution_count": 24,
   "metadata": {},
   "outputs": [],
   "source": [
    "import umap.umap_ as umap\n",
    "from matplotlib import pyplot as plt\n",
    "np.random.seed(0)"
   ]
  },
  {
   "cell_type": "code",
   "execution_count": 25,
   "metadata": {},
   "outputs": [],
   "source": [
    "reducer = umap.UMAP()"
   ]
  },
  {
   "cell_type": "code",
   "execution_count": 26,
   "metadata": {},
   "outputs": [],
   "source": [
    "umap_embedding = reducer.fit_transform(final_data)"
   ]
  },
  {
   "cell_type": "code",
   "execution_count": 27,
   "metadata": {},
   "outputs": [],
   "source": [
    "umap_embedding_split = np.array_split(umap_embedding, np.add.accumulate([len(l) for l in game_matrices]))[:-1]"
   ]
  },
  {
   "cell_type": "code",
   "execution_count": 28,
   "metadata": {},
   "outputs": [
    {
     "data": {
      "text/html": [
       "<div>\n",
       "<style scoped>\n",
       "    .dataframe tbody tr th:only-of-type {\n",
       "        vertical-align: middle;\n",
       "    }\n",
       "\n",
       "    .dataframe tbody tr th {\n",
       "        vertical-align: top;\n",
       "    }\n",
       "\n",
       "    .dataframe thead th {\n",
       "        text-align: right;\n",
       "    }\n",
       "</style>\n",
       "<table border=\"1\" class=\"dataframe\">\n",
       "  <thead>\n",
       "    <tr style=\"text-align: right;\">\n",
       "      <th></th>\n",
       "      <th>x</th>\n",
       "      <th>y</th>\n",
       "      <th>line</th>\n",
       "      <th>cp</th>\n",
       "      <th>algo</th>\n",
       "      <th>player</th>\n",
       "      <th>age</th>\n",
       "      <th>Opening</th>\n",
       "      <th>TimeControl</th>\n",
       "      <th>UTCTime</th>\n",
       "      <th>...</th>\n",
       "      <th>g2</th>\n",
       "      <th>h2</th>\n",
       "      <th>a1</th>\n",
       "      <th>b1</th>\n",
       "      <th>c1</th>\n",
       "      <th>d1</th>\n",
       "      <th>e1</th>\n",
       "      <th>f1</th>\n",
       "      <th>g1</th>\n",
       "      <th>h1</th>\n",
       "    </tr>\n",
       "  </thead>\n",
       "  <tbody>\n",
       "    <tr>\n",
       "      <th>0</th>\n",
       "      <td>-11.335345</td>\n",
       "      <td>-11.395390</td>\n",
       "      <td>0</td>\n",
       "      <td>1</td>\n",
       "      <td>Gersonz</td>\n",
       "      <td>Scheyla_Perdomo26</td>\n",
       "      <td>0</td>\n",
       "      <td>Rated Blitz tournament https://lichess.org/tou...</td>\n",
       "      <td>https://lichess.org/q5HJFu3Z</td>\n",
       "      <td>2021.08.01</td>\n",
       "      <td>...</td>\n",
       "      <td>wp</td>\n",
       "      <td>wp</td>\n",
       "      <td>wr</td>\n",
       "      <td>wn</td>\n",
       "      <td>wb</td>\n",
       "      <td>wq</td>\n",
       "      <td>wk</td>\n",
       "      <td>wb</td>\n",
       "      <td>wn</td>\n",
       "      <td>wr</td>\n",
       "    </tr>\n",
       "    <tr>\n",
       "      <th>1</th>\n",
       "      <td>5.156773</td>\n",
       "      <td>-14.059902</td>\n",
       "      <td>0</td>\n",
       "      <td>0</td>\n",
       "      <td>Gersonz</td>\n",
       "      <td>Gersonz</td>\n",
       "      <td>1</td>\n",
       "      <td>Rated Blitz tournament https://lichess.org/tou...</td>\n",
       "      <td>https://lichess.org/q5HJFu3Z</td>\n",
       "      <td>2021.08.01</td>\n",
       "      <td>...</td>\n",
       "      <td>wp</td>\n",
       "      <td>wp</td>\n",
       "      <td>wr</td>\n",
       "      <td>wn</td>\n",
       "      <td>wb</td>\n",
       "      <td>wq</td>\n",
       "      <td>wk</td>\n",
       "      <td>wb</td>\n",
       "      <td>wn</td>\n",
       "      <td>wr</td>\n",
       "    </tr>\n",
       "    <tr>\n",
       "      <th>2</th>\n",
       "      <td>5.155588</td>\n",
       "      <td>-2.414431</td>\n",
       "      <td>0</td>\n",
       "      <td>0</td>\n",
       "      <td>Gersonz</td>\n",
       "      <td>Scheyla_Perdomo26</td>\n",
       "      <td>2</td>\n",
       "      <td>Rated Blitz tournament https://lichess.org/tou...</td>\n",
       "      <td>https://lichess.org/q5HJFu3Z</td>\n",
       "      <td>2021.08.01</td>\n",
       "      <td>...</td>\n",
       "      <td>wp</td>\n",
       "      <td>wp</td>\n",
       "      <td>wr</td>\n",
       "      <td>wn</td>\n",
       "      <td>wb</td>\n",
       "      <td>wq</td>\n",
       "      <td>wk</td>\n",
       "      <td>wb</td>\n",
       "      <td>wn</td>\n",
       "      <td>wr</td>\n",
       "    </tr>\n",
       "    <tr>\n",
       "      <th>3</th>\n",
       "      <td>4.304133</td>\n",
       "      <td>-2.025064</td>\n",
       "      <td>0</td>\n",
       "      <td>0</td>\n",
       "      <td>Gersonz</td>\n",
       "      <td>Gersonz</td>\n",
       "      <td>3</td>\n",
       "      <td>Rated Blitz tournament https://lichess.org/tou...</td>\n",
       "      <td>https://lichess.org/q5HJFu3Z</td>\n",
       "      <td>2021.08.01</td>\n",
       "      <td>...</td>\n",
       "      <td>wp</td>\n",
       "      <td>wp</td>\n",
       "      <td>wr</td>\n",
       "      <td>wn</td>\n",
       "      <td>wb</td>\n",
       "      <td>wq</td>\n",
       "      <td>wk</td>\n",
       "      <td>wb</td>\n",
       "      <td>wn</td>\n",
       "      <td>wr</td>\n",
       "    </tr>\n",
       "    <tr>\n",
       "      <th>4</th>\n",
       "      <td>4.662256</td>\n",
       "      <td>-1.438602</td>\n",
       "      <td>0</td>\n",
       "      <td>0</td>\n",
       "      <td>Gersonz</td>\n",
       "      <td>Scheyla_Perdomo26</td>\n",
       "      <td>4</td>\n",
       "      <td>Rated Blitz tournament https://lichess.org/tou...</td>\n",
       "      <td>https://lichess.org/q5HJFu3Z</td>\n",
       "      <td>2021.08.01</td>\n",
       "      <td>...</td>\n",
       "      <td>wp</td>\n",
       "      <td>wp</td>\n",
       "      <td>wr</td>\n",
       "      <td>wn</td>\n",
       "      <td>wb</td>\n",
       "      <td>wq</td>\n",
       "      <td>wk</td>\n",
       "      <td>wb</td>\n",
       "      <td>wn</td>\n",
       "      <td>wr</td>\n",
       "    </tr>\n",
       "  </tbody>\n",
       "</table>\n",
       "<p>5 rows × 86 columns</p>\n",
       "</div>"
      ],
      "text/plain": [
       "           x          y  line  cp     algo             player  age  \\\n",
       "0 -11.335345 -11.395390     0   1  Gersonz  Scheyla_Perdomo26    0   \n",
       "1   5.156773 -14.059902     0   0  Gersonz            Gersonz    1   \n",
       "2   5.155588  -2.414431     0   0  Gersonz  Scheyla_Perdomo26    2   \n",
       "3   4.304133  -2.025064     0   0  Gersonz            Gersonz    3   \n",
       "4   4.662256  -1.438602     0   0  Gersonz  Scheyla_Perdomo26    4   \n",
       "\n",
       "                                             Opening  \\\n",
       "0  Rated Blitz tournament https://lichess.org/tou...   \n",
       "1  Rated Blitz tournament https://lichess.org/tou...   \n",
       "2  Rated Blitz tournament https://lichess.org/tou...   \n",
       "3  Rated Blitz tournament https://lichess.org/tou...   \n",
       "4  Rated Blitz tournament https://lichess.org/tou...   \n",
       "\n",
       "                    TimeControl     UTCTime  ...  g2  h2  a1  b1  c1  d1  e1  \\\n",
       "0  https://lichess.org/q5HJFu3Z  2021.08.01  ...  wp  wp  wr  wn  wb  wq  wk   \n",
       "1  https://lichess.org/q5HJFu3Z  2021.08.01  ...  wp  wp  wr  wn  wb  wq  wk   \n",
       "2  https://lichess.org/q5HJFu3Z  2021.08.01  ...  wp  wp  wr  wn  wb  wq  wk   \n",
       "3  https://lichess.org/q5HJFu3Z  2021.08.01  ...  wp  wp  wr  wn  wb  wq  wk   \n",
       "4  https://lichess.org/q5HJFu3Z  2021.08.01  ...  wp  wp  wr  wn  wb  wq  wk   \n",
       "\n",
       "   f1  g1  h1  \n",
       "0  wb  wn  wr  \n",
       "1  wb  wn  wr  \n",
       "2  wb  wn  wr  \n",
       "3  wb  wn  wr  \n",
       "4  wb  wn  wr  \n",
       "\n",
       "[5 rows x 86 columns]"
      ]
     },
     "execution_count": 28,
     "metadata": {},
     "output_type": "execute_result"
    }
   ],
   "source": [
    "import pandas as pd\n",
    "df = pd.read_csv('lichess_tsne.csv')\n",
    "df.head()"
   ]
  },
  {
   "cell_type": "code",
   "execution_count": 29,
   "metadata": {},
   "outputs": [
    {
     "data": {
      "text/html": [
       "<div>\n",
       "<style scoped>\n",
       "    .dataframe tbody tr th:only-of-type {\n",
       "        vertical-align: middle;\n",
       "    }\n",
       "\n",
       "    .dataframe tbody tr th {\n",
       "        vertical-align: top;\n",
       "    }\n",
       "\n",
       "    .dataframe thead th {\n",
       "        text-align: right;\n",
       "    }\n",
       "</style>\n",
       "<table border=\"1\" class=\"dataframe\">\n",
       "  <thead>\n",
       "    <tr style=\"text-align: right;\">\n",
       "      <th></th>\n",
       "      <th>x</th>\n",
       "      <th>y</th>\n",
       "      <th>line</th>\n",
       "      <th>cp</th>\n",
       "      <th>algo</th>\n",
       "      <th>player</th>\n",
       "      <th>age</th>\n",
       "      <th>Opening</th>\n",
       "      <th>TimeControl</th>\n",
       "      <th>UTCTime</th>\n",
       "      <th>...</th>\n",
       "      <th>g2</th>\n",
       "      <th>h2</th>\n",
       "      <th>a1</th>\n",
       "      <th>b1</th>\n",
       "      <th>c1</th>\n",
       "      <th>d1</th>\n",
       "      <th>e1</th>\n",
       "      <th>f1</th>\n",
       "      <th>g1</th>\n",
       "      <th>h1</th>\n",
       "    </tr>\n",
       "  </thead>\n",
       "  <tbody>\n",
       "    <tr>\n",
       "      <th>0</th>\n",
       "      <td>11.815928</td>\n",
       "      <td>17.154633</td>\n",
       "      <td>0</td>\n",
       "      <td>1</td>\n",
       "      <td>Gersonz</td>\n",
       "      <td>Scheyla_Perdomo26</td>\n",
       "      <td>0</td>\n",
       "      <td>Rated Blitz tournament https://lichess.org/tou...</td>\n",
       "      <td>https://lichess.org/q5HJFu3Z</td>\n",
       "      <td>2021.08.01</td>\n",
       "      <td>...</td>\n",
       "      <td>wp</td>\n",
       "      <td>wp</td>\n",
       "      <td>wr</td>\n",
       "      <td>wn</td>\n",
       "      <td>wb</td>\n",
       "      <td>wq</td>\n",
       "      <td>wk</td>\n",
       "      <td>wb</td>\n",
       "      <td>wn</td>\n",
       "      <td>wr</td>\n",
       "    </tr>\n",
       "    <tr>\n",
       "      <th>1</th>\n",
       "      <td>1.292129</td>\n",
       "      <td>15.669477</td>\n",
       "      <td>0</td>\n",
       "      <td>0</td>\n",
       "      <td>Gersonz</td>\n",
       "      <td>Gersonz</td>\n",
       "      <td>1</td>\n",
       "      <td>Rated Blitz tournament https://lichess.org/tou...</td>\n",
       "      <td>https://lichess.org/q5HJFu3Z</td>\n",
       "      <td>2021.08.01</td>\n",
       "      <td>...</td>\n",
       "      <td>wp</td>\n",
       "      <td>wp</td>\n",
       "      <td>wr</td>\n",
       "      <td>wn</td>\n",
       "      <td>wb</td>\n",
       "      <td>wq</td>\n",
       "      <td>wk</td>\n",
       "      <td>wb</td>\n",
       "      <td>wn</td>\n",
       "      <td>wr</td>\n",
       "    </tr>\n",
       "    <tr>\n",
       "      <th>2</th>\n",
       "      <td>17.470268</td>\n",
       "      <td>-5.515378</td>\n",
       "      <td>0</td>\n",
       "      <td>0</td>\n",
       "      <td>Gersonz</td>\n",
       "      <td>Scheyla_Perdomo26</td>\n",
       "      <td>2</td>\n",
       "      <td>Rated Blitz tournament https://lichess.org/tou...</td>\n",
       "      <td>https://lichess.org/q5HJFu3Z</td>\n",
       "      <td>2021.08.01</td>\n",
       "      <td>...</td>\n",
       "      <td>wp</td>\n",
       "      <td>wp</td>\n",
       "      <td>wr</td>\n",
       "      <td>wn</td>\n",
       "      <td>wb</td>\n",
       "      <td>wq</td>\n",
       "      <td>wk</td>\n",
       "      <td>wb</td>\n",
       "      <td>wn</td>\n",
       "      <td>wr</td>\n",
       "    </tr>\n",
       "    <tr>\n",
       "      <th>3</th>\n",
       "      <td>3.014392</td>\n",
       "      <td>3.620153</td>\n",
       "      <td>0</td>\n",
       "      <td>0</td>\n",
       "      <td>Gersonz</td>\n",
       "      <td>Gersonz</td>\n",
       "      <td>3</td>\n",
       "      <td>Rated Blitz tournament https://lichess.org/tou...</td>\n",
       "      <td>https://lichess.org/q5HJFu3Z</td>\n",
       "      <td>2021.08.01</td>\n",
       "      <td>...</td>\n",
       "      <td>wp</td>\n",
       "      <td>wp</td>\n",
       "      <td>wr</td>\n",
       "      <td>wn</td>\n",
       "      <td>wb</td>\n",
       "      <td>wq</td>\n",
       "      <td>wk</td>\n",
       "      <td>wb</td>\n",
       "      <td>wn</td>\n",
       "      <td>wr</td>\n",
       "    </tr>\n",
       "    <tr>\n",
       "      <th>4</th>\n",
       "      <td>2.951796</td>\n",
       "      <td>3.480122</td>\n",
       "      <td>0</td>\n",
       "      <td>0</td>\n",
       "      <td>Gersonz</td>\n",
       "      <td>Scheyla_Perdomo26</td>\n",
       "      <td>4</td>\n",
       "      <td>Rated Blitz tournament https://lichess.org/tou...</td>\n",
       "      <td>https://lichess.org/q5HJFu3Z</td>\n",
       "      <td>2021.08.01</td>\n",
       "      <td>...</td>\n",
       "      <td>wp</td>\n",
       "      <td>wp</td>\n",
       "      <td>wr</td>\n",
       "      <td>wn</td>\n",
       "      <td>wb</td>\n",
       "      <td>wq</td>\n",
       "      <td>wk</td>\n",
       "      <td>wb</td>\n",
       "      <td>wn</td>\n",
       "      <td>wr</td>\n",
       "    </tr>\n",
       "  </tbody>\n",
       "</table>\n",
       "<p>5 rows × 86 columns</p>\n",
       "</div>"
      ],
      "text/plain": [
       "           x          y  line  cp     algo             player  age  \\\n",
       "0  11.815928  17.154633     0   1  Gersonz  Scheyla_Perdomo26    0   \n",
       "1   1.292129  15.669477     0   0  Gersonz            Gersonz    1   \n",
       "2  17.470268  -5.515378     0   0  Gersonz  Scheyla_Perdomo26    2   \n",
       "3   3.014392   3.620153     0   0  Gersonz            Gersonz    3   \n",
       "4   2.951796   3.480122     0   0  Gersonz  Scheyla_Perdomo26    4   \n",
       "\n",
       "                                             Opening  \\\n",
       "0  Rated Blitz tournament https://lichess.org/tou...   \n",
       "1  Rated Blitz tournament https://lichess.org/tou...   \n",
       "2  Rated Blitz tournament https://lichess.org/tou...   \n",
       "3  Rated Blitz tournament https://lichess.org/tou...   \n",
       "4  Rated Blitz tournament https://lichess.org/tou...   \n",
       "\n",
       "                    TimeControl     UTCTime  ...  g2  h2  a1  b1  c1  d1  e1  \\\n",
       "0  https://lichess.org/q5HJFu3Z  2021.08.01  ...  wp  wp  wr  wn  wb  wq  wk   \n",
       "1  https://lichess.org/q5HJFu3Z  2021.08.01  ...  wp  wp  wr  wn  wb  wq  wk   \n",
       "2  https://lichess.org/q5HJFu3Z  2021.08.01  ...  wp  wp  wr  wn  wb  wq  wk   \n",
       "3  https://lichess.org/q5HJFu3Z  2021.08.01  ...  wp  wp  wr  wn  wb  wq  wk   \n",
       "4  https://lichess.org/q5HJFu3Z  2021.08.01  ...  wp  wp  wr  wn  wb  wq  wk   \n",
       "\n",
       "   f1  g1  h1  \n",
       "0  wb  wn  wr  \n",
       "1  wb  wn  wr  \n",
       "2  wb  wn  wr  \n",
       "3  wb  wn  wr  \n",
       "4  wb  wn  wr  \n",
       "\n",
       "[5 rows x 86 columns]"
      ]
     },
     "execution_count": 29,
     "metadata": {},
     "output_type": "execute_result"
    }
   ],
   "source": [
    "df['x'] = umap_embedding[:,0]\n",
    "df['y'] = umap_embedding[:,1]\n",
    "df.head()\n",
    "# store"
   ]
  },
  {
   "cell_type": "code",
   "execution_count": 30,
   "metadata": {},
   "outputs": [],
   "source": [
    "df.to_csv('lichess_umap_seed0.csv')"
   ]
  },
  {
   "cell_type": "code",
   "execution_count": 31,
   "metadata": {},
   "outputs": [],
   "source": [
    "# fig = plt.figure(figsize=(8,8))\n",
    "# ax = fig.add_subplot(111)\n",
    "# ax.set_aspect(1)\n",
    "# for game in umap_embedding_split[:100]:\n",
    "#     ax.plot(game[:,0], game[:,1], '-r', alpha=0.1, color='red')\n",
    "# for game in umap_embedding_split[100:]:\n",
    "#     ax.plot(game[:,0], game[:,1], '-r', alpha=0.1, color='blue')"
   ]
  },
  {
   "cell_type": "markdown",
   "metadata": {},
   "source": [
    "## default parameters for UMAP over multiple seeds"
   ]
  },
  {
   "cell_type": "code",
   "execution_count": 32,
   "metadata": {},
   "outputs": [],
   "source": [
    "# import pandas as pd\n",
    "# import numpy as np\n",
    "\n",
    "# for seed in range(20):\n",
    "#     np.random.seed(seed)\n",
    "#     reducer = umap.UMAP()\n",
    "#     umap_embedding = reducer.fit_transform(final_data)\n",
    "#     df = pd.read_csv('tsne.csv')\n",
    "#     df['x'] = umap_embedding[:,0]\n",
    "#     df['y'] = umap_embedding[:,1]\n",
    "#     save_path = 'umap_seed_'+str(seed)+'.csv'\n",
    "#     print('storing to', save_path)\n",
    "#     df.to_csv(save_path)"
   ]
  },
  {
   "cell_type": "markdown",
   "metadata": {},
   "source": [
    "## UMAP Hparam Search"
   ]
  },
  {
   "cell_type": "code",
   "execution_count": 33,
   "metadata": {},
   "outputs": [],
   "source": [
    "# import pandas as pd\n",
    "# import umap.umap_ as umap\n",
    "# from matplotlib import pyplot as plt\n",
    "# OUTPUT_FILE_NAME = 'umap_outputs/'"
   ]
  },
  {
   "cell_type": "code",
   "execution_count": 34,
   "metadata": {},
   "outputs": [],
   "source": [
    "# def run_umap(data, path, learning_rate, nn, n_epochs, min_dist=0.1\n",
    "#     reducer = umap.UMAP(n_neighbors=nn, learning_rate=learning_rate, n_epochs=n_epochs, min_dist=min_dist)\n",
    "    \n",
    "#     csv_path = path+'_nn'+str(nn)+'_lr'+str(learning_rate)+'_nepochs'+str(n_epochs)+'_mindist'+str(min_dist)+'.csv'\n",
    "#     image_file_name = path+'_nn'+str(nn)+'_lr'+str(learning_rate)+'_nepochs'+str(n_epochs)+'_mindist'+str(min_dist)+'.png'\n",
    "    \n",
    "#     print('fitting umap embedding for', csv_path)\n",
    "#     umap_embedding = reducer.fit_transform(data)\n",
    "    \n",
    "#     umap_df = pd.DataFrame(umap_embedding)\n",
    "#     umap_df.to_csv(csv_path)\n",
    "    \n",
    "#     plt.figure()\n",
    "#     plt.scatter(umap_embedding[:,0],umap_embedding[:,1])\n",
    "#     print('storing to', csv_path)\n",
    "#     plt.savefig(image_file_name)\n",
    "#     plt.close()"
   ]
  },
  {
   "cell_type": "code",
   "execution_count": 35,
   "metadata": {},
   "outputs": [],
   "source": [
    "# nns = [25,30,35,40,45]\n",
    "# n_epochs_settings = [200, 300, 400, 500, 600, 700,]\n",
    "# min_dist = [0.1]\n",
    "# learning_rate = [1.0]\n",
    "# for nn in nns:\n",
    "#     for n_epochs in n_epochs_settings:\n",
    "#         for md in min_dist:\n",
    "#             for lr in learning_rate:\n",
    "#                 run_umap(data=final_data, path=OUTPUT_FILE_NAME, learning_rate=lr, nn=nn, n_epochs=n_epochs, min_dist=md)"
   ]
  }
 ],
 "metadata": {
  "kernelspec": {
   "display_name": "Python 3 (ipykernel)",
   "language": "python",
   "name": "python3"
  },
  "language_info": {
   "codemirror_mode": {
    "name": "ipython",
    "version": 3
   },
   "file_extension": ".py",
   "mimetype": "text/x-python",
   "name": "python",
   "nbconvert_exporter": "python",
   "pygments_lexer": "ipython3",
   "version": "3.9.6"
  }
 },
 "nbformat": 4,
 "nbformat_minor": 4
}
