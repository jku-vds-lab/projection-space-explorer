{
 "cells": [
  {
   "cell_type": "code",
   "execution_count": 40,
   "id": "a171c8f2",
   "metadata": {},
   "outputs": [],
   "source": [
    "import torch as th\n",
    "import numpy as np\n",
    "import pandas as pd\n",
    "\n",
    "FILE_NAME = 'tensors.csv'"
   ]
  },
  {
   "cell_type": "markdown",
   "id": "2c0a044d",
   "metadata": {},
   "source": [
    "## create tensor"
   ]
  },
  {
   "cell_type": "code",
   "execution_count": 41,
   "id": "aaf84408",
   "metadata": {},
   "outputs": [],
   "source": [
    "x = th.rand(10,128,8,8)"
   ]
  },
  {
   "cell_type": "markdown",
   "id": "45f9e8ef",
   "metadata": {},
   "source": [
    "## saving tensor to pd"
   ]
  },
  {
   "cell_type": "code",
   "execution_count": 43,
   "id": "8799d985",
   "metadata": {},
   "outputs": [
    {
     "data": {
      "text/html": [
       "<div>\n",
       "<style scoped>\n",
       "    .dataframe tbody tr th:only-of-type {\n",
       "        vertical-align: middle;\n",
       "    }\n",
       "\n",
       "    .dataframe tbody tr th {\n",
       "        vertical-align: top;\n",
       "    }\n",
       "\n",
       "    .dataframe thead th {\n",
       "        text-align: right;\n",
       "    }\n",
       "</style>\n",
       "<table border=\"1\" class=\"dataframe\">\n",
       "  <thead>\n",
       "    <tr style=\"text-align: right;\">\n",
       "      <th></th>\n",
       "      <th>0</th>\n",
       "      <th>1</th>\n",
       "      <th>2</th>\n",
       "      <th>3</th>\n",
       "      <th>4</th>\n",
       "      <th>5</th>\n",
       "      <th>6</th>\n",
       "      <th>7</th>\n",
       "      <th>8</th>\n",
       "      <th>9</th>\n",
       "      <th>...</th>\n",
       "      <th>8182</th>\n",
       "      <th>8183</th>\n",
       "      <th>8184</th>\n",
       "      <th>8185</th>\n",
       "      <th>8186</th>\n",
       "      <th>8187</th>\n",
       "      <th>8188</th>\n",
       "      <th>8189</th>\n",
       "      <th>8190</th>\n",
       "      <th>8191</th>\n",
       "    </tr>\n",
       "  </thead>\n",
       "  <tbody>\n",
       "    <tr>\n",
       "      <th>0</th>\n",
       "      <td>0.300848</td>\n",
       "      <td>0.875582</td>\n",
       "      <td>0.239145</td>\n",
       "      <td>0.838301</td>\n",
       "      <td>0.797737</td>\n",
       "      <td>0.971929</td>\n",
       "      <td>0.064944</td>\n",
       "      <td>0.894372</td>\n",
       "      <td>0.511040</td>\n",
       "      <td>0.494494</td>\n",
       "      <td>...</td>\n",
       "      <td>0.707076</td>\n",
       "      <td>0.365867</td>\n",
       "      <td>0.856714</td>\n",
       "      <td>0.615019</td>\n",
       "      <td>0.755865</td>\n",
       "      <td>0.976913</td>\n",
       "      <td>0.753942</td>\n",
       "      <td>0.587880</td>\n",
       "      <td>0.259744</td>\n",
       "      <td>0.861574</td>\n",
       "    </tr>\n",
       "    <tr>\n",
       "      <th>1</th>\n",
       "      <td>0.881660</td>\n",
       "      <td>0.772498</td>\n",
       "      <td>0.081795</td>\n",
       "      <td>0.180832</td>\n",
       "      <td>0.203808</td>\n",
       "      <td>0.308231</td>\n",
       "      <td>0.351960</td>\n",
       "      <td>0.785366</td>\n",
       "      <td>0.930059</td>\n",
       "      <td>0.519310</td>\n",
       "      <td>...</td>\n",
       "      <td>0.492000</td>\n",
       "      <td>0.411297</td>\n",
       "      <td>0.167433</td>\n",
       "      <td>0.934171</td>\n",
       "      <td>0.531664</td>\n",
       "      <td>0.931035</td>\n",
       "      <td>0.204400</td>\n",
       "      <td>0.062413</td>\n",
       "      <td>0.634579</td>\n",
       "      <td>0.060938</td>\n",
       "    </tr>\n",
       "    <tr>\n",
       "      <th>2</th>\n",
       "      <td>0.629755</td>\n",
       "      <td>0.885070</td>\n",
       "      <td>0.005306</td>\n",
       "      <td>0.260184</td>\n",
       "      <td>0.710663</td>\n",
       "      <td>0.293522</td>\n",
       "      <td>0.124815</td>\n",
       "      <td>0.474495</td>\n",
       "      <td>0.238731</td>\n",
       "      <td>0.976248</td>\n",
       "      <td>...</td>\n",
       "      <td>0.942404</td>\n",
       "      <td>0.981487</td>\n",
       "      <td>0.880133</td>\n",
       "      <td>0.589129</td>\n",
       "      <td>0.880702</td>\n",
       "      <td>0.223161</td>\n",
       "      <td>0.488522</td>\n",
       "      <td>0.465535</td>\n",
       "      <td>0.481670</td>\n",
       "      <td>0.147570</td>\n",
       "    </tr>\n",
       "    <tr>\n",
       "      <th>3</th>\n",
       "      <td>0.092078</td>\n",
       "      <td>0.708037</td>\n",
       "      <td>0.420098</td>\n",
       "      <td>0.759910</td>\n",
       "      <td>0.690128</td>\n",
       "      <td>0.635686</td>\n",
       "      <td>0.396679</td>\n",
       "      <td>0.887019</td>\n",
       "      <td>0.712099</td>\n",
       "      <td>0.559251</td>\n",
       "      <td>...</td>\n",
       "      <td>0.944218</td>\n",
       "      <td>0.093074</td>\n",
       "      <td>0.226462</td>\n",
       "      <td>0.853999</td>\n",
       "      <td>0.856130</td>\n",
       "      <td>0.658201</td>\n",
       "      <td>0.776455</td>\n",
       "      <td>0.390075</td>\n",
       "      <td>0.817285</td>\n",
       "      <td>0.071388</td>\n",
       "    </tr>\n",
       "    <tr>\n",
       "      <th>4</th>\n",
       "      <td>0.504641</td>\n",
       "      <td>0.651844</td>\n",
       "      <td>0.838734</td>\n",
       "      <td>0.838753</td>\n",
       "      <td>0.988780</td>\n",
       "      <td>0.745986</td>\n",
       "      <td>0.262605</td>\n",
       "      <td>0.982133</td>\n",
       "      <td>0.340343</td>\n",
       "      <td>0.877390</td>\n",
       "      <td>...</td>\n",
       "      <td>0.405358</td>\n",
       "      <td>0.398688</td>\n",
       "      <td>0.666205</td>\n",
       "      <td>0.287524</td>\n",
       "      <td>0.533347</td>\n",
       "      <td>0.269622</td>\n",
       "      <td>0.641120</td>\n",
       "      <td>0.313836</td>\n",
       "      <td>0.335726</td>\n",
       "      <td>0.713856</td>\n",
       "    </tr>\n",
       "  </tbody>\n",
       "</table>\n",
       "<p>5 rows × 8192 columns</p>\n",
       "</div>"
      ],
      "text/plain": [
       "       0         1         2         3         4         5         6     \\\n",
       "0  0.300848  0.875582  0.239145  0.838301  0.797737  0.971929  0.064944   \n",
       "1  0.881660  0.772498  0.081795  0.180832  0.203808  0.308231  0.351960   \n",
       "2  0.629755  0.885070  0.005306  0.260184  0.710663  0.293522  0.124815   \n",
       "3  0.092078  0.708037  0.420098  0.759910  0.690128  0.635686  0.396679   \n",
       "4  0.504641  0.651844  0.838734  0.838753  0.988780  0.745986  0.262605   \n",
       "\n",
       "       7         8         9     ...      8182      8183      8184      8185  \\\n",
       "0  0.894372  0.511040  0.494494  ...  0.707076  0.365867  0.856714  0.615019   \n",
       "1  0.785366  0.930059  0.519310  ...  0.492000  0.411297  0.167433  0.934171   \n",
       "2  0.474495  0.238731  0.976248  ...  0.942404  0.981487  0.880133  0.589129   \n",
       "3  0.887019  0.712099  0.559251  ...  0.944218  0.093074  0.226462  0.853999   \n",
       "4  0.982133  0.340343  0.877390  ...  0.405358  0.398688  0.666205  0.287524   \n",
       "\n",
       "       8186      8187      8188      8189      8190      8191  \n",
       "0  0.755865  0.976913  0.753942  0.587880  0.259744  0.861574  \n",
       "1  0.531664  0.931035  0.204400  0.062413  0.634579  0.060938  \n",
       "2  0.880702  0.223161  0.488522  0.465535  0.481670  0.147570  \n",
       "3  0.856130  0.658201  0.776455  0.390075  0.817285  0.071388  \n",
       "4  0.533347  0.269622  0.641120  0.313836  0.335726  0.713856  \n",
       "\n",
       "[5 rows x 8192 columns]"
      ]
     },
     "execution_count": 43,
     "metadata": {},
     "output_type": "execute_result"
    }
   ],
   "source": [
    "df = pd.DataFrame(x.reshape(-1,128*8*8).numpy())\n",
    "df.head()"
   ]
  },
  {
   "cell_type": "code",
   "execution_count": 44,
   "id": "bdeb3d96",
   "metadata": {},
   "outputs": [
    {
     "name": "stdout",
     "output_type": "stream",
     "text": [
      "<class 'pandas.core.frame.DataFrame'>\n",
      "RangeIndex: 10 entries, 0 to 9\n",
      "Columns: 8192 entries, 0 to 8191\n",
      "dtypes: float32(8192)\n",
      "memory usage: 320.1 KB\n"
     ]
    }
   ],
   "source": [
    "df.info()"
   ]
  },
  {
   "cell_type": "markdown",
   "id": "fd7860ed",
   "metadata": {},
   "source": [
    "## iteratively add to tensor"
   ]
  },
  {
   "cell_type": "code",
   "execution_count": 45,
   "id": "fdae3c55",
   "metadata": {},
   "outputs": [
    {
     "name": "stdout",
     "output_type": "stream",
     "text": [
      "<class 'pandas.core.frame.DataFrame'>\n",
      "Int64Index: 20 entries, 0 to 9\n",
      "Columns: 8192 entries, 0 to 8191\n",
      "dtypes: float32(8192)\n",
      "memory usage: 640.2 KB\n"
     ]
    }
   ],
   "source": [
    "x2 = th.rand(10,128,8,8)\n",
    "df = df.append(pd.DataFrame(x2.reshape(-1,128*8*8).numpy()))\n",
    "df.info()"
   ]
  },
  {
   "cell_type": "markdown",
   "id": "ffd3026f",
   "metadata": {},
   "source": [
    "## storing as csv"
   ]
  },
  {
   "cell_type": "code",
   "execution_count": 46,
   "id": "9c945945",
   "metadata": {},
   "outputs": [],
   "source": [
    "df.to_csv(FILE_NAME)"
   ]
  },
  {
   "cell_type": "markdown",
   "id": "8fd95432",
   "metadata": {},
   "source": [
    "## loading"
   ]
  },
  {
   "cell_type": "code",
   "execution_count": 47,
   "id": "c7963e93",
   "metadata": {},
   "outputs": [
    {
     "data": {
      "text/html": [
       "<div>\n",
       "<style scoped>\n",
       "    .dataframe tbody tr th:only-of-type {\n",
       "        vertical-align: middle;\n",
       "    }\n",
       "\n",
       "    .dataframe tbody tr th {\n",
       "        vertical-align: top;\n",
       "    }\n",
       "\n",
       "    .dataframe thead th {\n",
       "        text-align: right;\n",
       "    }\n",
       "</style>\n",
       "<table border=\"1\" class=\"dataframe\">\n",
       "  <thead>\n",
       "    <tr style=\"text-align: right;\">\n",
       "      <th></th>\n",
       "      <th>Unnamed: 0</th>\n",
       "      <th>0</th>\n",
       "      <th>1</th>\n",
       "      <th>2</th>\n",
       "      <th>3</th>\n",
       "      <th>4</th>\n",
       "      <th>5</th>\n",
       "      <th>6</th>\n",
       "      <th>7</th>\n",
       "      <th>8</th>\n",
       "      <th>...</th>\n",
       "      <th>8182</th>\n",
       "      <th>8183</th>\n",
       "      <th>8184</th>\n",
       "      <th>8185</th>\n",
       "      <th>8186</th>\n",
       "      <th>8187</th>\n",
       "      <th>8188</th>\n",
       "      <th>8189</th>\n",
       "      <th>8190</th>\n",
       "      <th>8191</th>\n",
       "    </tr>\n",
       "  </thead>\n",
       "  <tbody>\n",
       "    <tr>\n",
       "      <th>0</th>\n",
       "      <td>0</td>\n",
       "      <td>0.300848</td>\n",
       "      <td>0.875582</td>\n",
       "      <td>0.239145</td>\n",
       "      <td>0.838301</td>\n",
       "      <td>0.797737</td>\n",
       "      <td>0.971929</td>\n",
       "      <td>0.064944</td>\n",
       "      <td>0.894372</td>\n",
       "      <td>0.511040</td>\n",
       "      <td>...</td>\n",
       "      <td>0.707076</td>\n",
       "      <td>0.365867</td>\n",
       "      <td>0.856714</td>\n",
       "      <td>0.615019</td>\n",
       "      <td>0.755865</td>\n",
       "      <td>0.976913</td>\n",
       "      <td>0.753942</td>\n",
       "      <td>0.587880</td>\n",
       "      <td>0.259744</td>\n",
       "      <td>0.861574</td>\n",
       "    </tr>\n",
       "    <tr>\n",
       "      <th>1</th>\n",
       "      <td>1</td>\n",
       "      <td>0.881660</td>\n",
       "      <td>0.772498</td>\n",
       "      <td>0.081795</td>\n",
       "      <td>0.180832</td>\n",
       "      <td>0.203808</td>\n",
       "      <td>0.308231</td>\n",
       "      <td>0.351960</td>\n",
       "      <td>0.785366</td>\n",
       "      <td>0.930059</td>\n",
       "      <td>...</td>\n",
       "      <td>0.492000</td>\n",
       "      <td>0.411297</td>\n",
       "      <td>0.167433</td>\n",
       "      <td>0.934171</td>\n",
       "      <td>0.531664</td>\n",
       "      <td>0.931035</td>\n",
       "      <td>0.204400</td>\n",
       "      <td>0.062413</td>\n",
       "      <td>0.634579</td>\n",
       "      <td>0.060938</td>\n",
       "    </tr>\n",
       "    <tr>\n",
       "      <th>2</th>\n",
       "      <td>2</td>\n",
       "      <td>0.629755</td>\n",
       "      <td>0.885070</td>\n",
       "      <td>0.005306</td>\n",
       "      <td>0.260184</td>\n",
       "      <td>0.710663</td>\n",
       "      <td>0.293522</td>\n",
       "      <td>0.124815</td>\n",
       "      <td>0.474495</td>\n",
       "      <td>0.238731</td>\n",
       "      <td>...</td>\n",
       "      <td>0.942404</td>\n",
       "      <td>0.981487</td>\n",
       "      <td>0.880133</td>\n",
       "      <td>0.589129</td>\n",
       "      <td>0.880702</td>\n",
       "      <td>0.223161</td>\n",
       "      <td>0.488522</td>\n",
       "      <td>0.465535</td>\n",
       "      <td>0.481670</td>\n",
       "      <td>0.147570</td>\n",
       "    </tr>\n",
       "    <tr>\n",
       "      <th>3</th>\n",
       "      <td>3</td>\n",
       "      <td>0.092078</td>\n",
       "      <td>0.708037</td>\n",
       "      <td>0.420098</td>\n",
       "      <td>0.759910</td>\n",
       "      <td>0.690128</td>\n",
       "      <td>0.635686</td>\n",
       "      <td>0.396679</td>\n",
       "      <td>0.887019</td>\n",
       "      <td>0.712099</td>\n",
       "      <td>...</td>\n",
       "      <td>0.944218</td>\n",
       "      <td>0.093074</td>\n",
       "      <td>0.226462</td>\n",
       "      <td>0.853999</td>\n",
       "      <td>0.856130</td>\n",
       "      <td>0.658201</td>\n",
       "      <td>0.776455</td>\n",
       "      <td>0.390075</td>\n",
       "      <td>0.817285</td>\n",
       "      <td>0.071388</td>\n",
       "    </tr>\n",
       "    <tr>\n",
       "      <th>4</th>\n",
       "      <td>4</td>\n",
       "      <td>0.504640</td>\n",
       "      <td>0.651844</td>\n",
       "      <td>0.838734</td>\n",
       "      <td>0.838753</td>\n",
       "      <td>0.988780</td>\n",
       "      <td>0.745986</td>\n",
       "      <td>0.262605</td>\n",
       "      <td>0.982133</td>\n",
       "      <td>0.340343</td>\n",
       "      <td>...</td>\n",
       "      <td>0.405358</td>\n",
       "      <td>0.398688</td>\n",
       "      <td>0.666205</td>\n",
       "      <td>0.287524</td>\n",
       "      <td>0.533347</td>\n",
       "      <td>0.269622</td>\n",
       "      <td>0.641120</td>\n",
       "      <td>0.313836</td>\n",
       "      <td>0.335726</td>\n",
       "      <td>0.713856</td>\n",
       "    </tr>\n",
       "  </tbody>\n",
       "</table>\n",
       "<p>5 rows × 8193 columns</p>\n",
       "</div>"
      ],
      "text/plain": [
       "   Unnamed: 0         0         1         2         3         4         5  \\\n",
       "0           0  0.300848  0.875582  0.239145  0.838301  0.797737  0.971929   \n",
       "1           1  0.881660  0.772498  0.081795  0.180832  0.203808  0.308231   \n",
       "2           2  0.629755  0.885070  0.005306  0.260184  0.710663  0.293522   \n",
       "3           3  0.092078  0.708037  0.420098  0.759910  0.690128  0.635686   \n",
       "4           4  0.504640  0.651844  0.838734  0.838753  0.988780  0.745986   \n",
       "\n",
       "          6         7         8  ...      8182      8183      8184      8185  \\\n",
       "0  0.064944  0.894372  0.511040  ...  0.707076  0.365867  0.856714  0.615019   \n",
       "1  0.351960  0.785366  0.930059  ...  0.492000  0.411297  0.167433  0.934171   \n",
       "2  0.124815  0.474495  0.238731  ...  0.942404  0.981487  0.880133  0.589129   \n",
       "3  0.396679  0.887019  0.712099  ...  0.944218  0.093074  0.226462  0.853999   \n",
       "4  0.262605  0.982133  0.340343  ...  0.405358  0.398688  0.666205  0.287524   \n",
       "\n",
       "       8186      8187      8188      8189      8190      8191  \n",
       "0  0.755865  0.976913  0.753942  0.587880  0.259744  0.861574  \n",
       "1  0.531664  0.931035  0.204400  0.062413  0.634579  0.060938  \n",
       "2  0.880702  0.223161  0.488522  0.465535  0.481670  0.147570  \n",
       "3  0.856130  0.658201  0.776455  0.390075  0.817285  0.071388  \n",
       "4  0.533347  0.269622  0.641120  0.313836  0.335726  0.713856  \n",
       "\n",
       "[5 rows x 8193 columns]"
      ]
     },
     "execution_count": 47,
     "metadata": {},
     "output_type": "execute_result"
    }
   ],
   "source": [
    "df = pd.read_csv(FILE_NAME)\n",
    "df.head()"
   ]
  },
  {
   "cell_type": "code",
   "execution_count": 48,
   "id": "0f5a8b9b",
   "metadata": {},
   "outputs": [
    {
     "name": "stdout",
     "output_type": "stream",
     "text": [
      "<class 'pandas.core.frame.DataFrame'>\n",
      "RangeIndex: 20 entries, 0 to 19\n",
      "Columns: 8193 entries, Unnamed: 0 to 8191\n",
      "dtypes: float64(8192), int64(1)\n",
      "memory usage: 1.3 MB\n"
     ]
    }
   ],
   "source": [
    "df.info()"
   ]
  },
  {
   "cell_type": "code",
   "execution_count": 53,
   "id": "b1712f64",
   "metadata": {},
   "outputs": [
    {
     "name": "stdout",
     "output_type": "stream",
     "text": [
      "tensor([[0.3008, 0.8756, 0.2391,  ..., 0.5879, 0.2597, 0.8616],\n",
      "        [0.8817, 0.7725, 0.0818,  ..., 0.0624, 0.6346, 0.0609],\n",
      "        [0.6298, 0.8851, 0.0053,  ..., 0.4655, 0.4817, 0.1476],\n",
      "        ...,\n",
      "        [0.2730, 0.3379, 0.0751,  ..., 0.0171, 0.8183, 0.9141],\n",
      "        [0.3614, 0.9075, 0.0400,  ..., 0.1994, 0.5149, 0.0997],\n",
      "        [0.7749, 0.6609, 0.6746,  ..., 0.3625, 0.1245, 0.2074]],\n",
      "       dtype=torch.float64)\n",
      "torch.Size([20, 8192])\n"
     ]
    }
   ],
   "source": [
    "loaded_x = th.tensor(df.values[:,1:])\n",
    "print(loaded_x)\n",
    "print(loaded_x.shape)"
   ]
  },
  {
   "cell_type": "markdown",
   "id": "76f03a0d",
   "metadata": {},
   "source": [
    "## umap on this"
   ]
  },
  {
   "cell_type": "code",
   "execution_count": 54,
   "id": "06f32320",
   "metadata": {},
   "outputs": [],
   "source": [
    "import umap"
   ]
  },
  {
   "cell_type": "code",
   "execution_count": 55,
   "id": "2ccdcedc",
   "metadata": {},
   "outputs": [
    {
     "ename": "AttributeError",
     "evalue": "module 'umap' has no attribute 'UMAP'",
     "output_type": "error",
     "traceback": [
      "\u001b[1;31m---------------------------------------------------------------------------\u001b[0m",
      "\u001b[1;31mAttributeError\u001b[0m                            Traceback (most recent call last)",
      "\u001b[1;32m<ipython-input-55-670e0ad4d6f6>\u001b[0m in \u001b[0;36m<module>\u001b[1;34m\u001b[0m\n\u001b[1;32m----> 1\u001b[1;33m \u001b[0mreducer\u001b[0m \u001b[1;33m=\u001b[0m \u001b[0mumap\u001b[0m\u001b[1;33m.\u001b[0m\u001b[0mUMAP\u001b[0m\u001b[1;33m(\u001b[0m\u001b[1;33m)\u001b[0m\u001b[1;33m\u001b[0m\u001b[1;33m\u001b[0m\u001b[0m\n\u001b[0m",
      "\u001b[1;31mAttributeError\u001b[0m: module 'umap' has no attribute 'UMAP'"
     ]
    }
   ],
   "source": [
    "reducer = umap.UMAP()"
   ]
  },
  {
   "cell_type": "code",
   "execution_count": null,
   "id": "b671e0e0",
   "metadata": {},
   "outputs": [],
   "source": [
    "umap_embedding = reducer.fit_transform(final_data)"
   ]
  },
  {
   "cell_type": "code",
   "execution_count": null,
   "id": "5f1b12fc",
   "metadata": {},
   "outputs": [],
   "source": [
    "umap_embedding_split = np.array_split(umap_embedding, np.add.accumulate([len(l) for l in game_matrices]))[:-1]"
   ]
  },
  {
   "cell_type": "code",
   "execution_count": null,
   "id": "01a132ba",
   "metadata": {},
   "outputs": [],
   "source": [
    "fig = plt.figure(figsize=(8,8))\n",
    "ax = fig.add_subplot(111)\n",
    "ax.set_aspect(1)\n",
    "for game in umap_embedding_split[:100]:\n",
    "    ax.plot(game[:,0], game[:,1], '-r', alpha=0.1, color='red')\n",
    "for game in umap_embedding_split[100:]:\n",
    "    ax.plot(game[:,0], game[:,1], '-r', alpha=0.1, color='blue')"
   ]
  },
  {
   "cell_type": "markdown",
   "id": "153cb908",
   "metadata": {},
   "source": [
    "## storing again with x,y"
   ]
  }
 ],
 "metadata": {
  "kernelspec": {
   "display_name": "Python 3",
   "language": "python",
   "name": "python3"
  },
  "language_info": {
   "codemirror_mode": {
    "name": "ipython",
    "version": 3
   },
   "file_extension": ".py",
   "mimetype": "text/x-python",
   "name": "python",
   "nbconvert_exporter": "python",
   "pygments_lexer": "ipython3",
   "version": "3.8.5"
  }
 },
 "nbformat": 4,
 "nbformat_minor": 5
}
