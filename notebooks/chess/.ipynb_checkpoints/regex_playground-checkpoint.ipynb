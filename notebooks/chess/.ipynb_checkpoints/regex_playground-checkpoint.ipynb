{
 "cells": [
  {
   "cell_type": "code",
   "execution_count": 1,
   "id": "3fc7aa02",
   "metadata": {},
   "outputs": [],
   "source": [
    "import re"
   ]
  },
  {
   "cell_type": "code",
   "execution_count": 3,
   "id": "cea33559",
   "metadata": {},
   "outputs": [],
   "source": [
    "pgn = '''\n",
    "[Event \"Computer Match\"]\n",
    "[Site \"London, UK\"]\n",
    "[Date \"2018.01.18\"]\n",
    "[Round \"11542767294934054345\"]\n",
    "[White \"AlphaZero\"]\n",
    "[Black \"Stockfish 8\"]\n",
    "[Result \"1-0\"]\n",
    "\n",
    "1. Nf3 Nf6 2. c4 e6\n",
    "3. Nc3 Bb4 4. Qc2 O-O\n",
    "5. a3 Bxc3 6. Qxc3 a5\n",
    "7. b4 d6 8. e3 Ne4\n",
    "9. Qc2 Ng5 10. b5 Nxf3+'''"
   ]
  },
  {
   "cell_type": "code",
   "execution_count": 17,
   "id": "9542047f",
   "metadata": {},
   "outputs": [],
   "source": [
    "def get_metadata_from_pgn(data):\n",
    "        data = re.sub(r'\\{.*?\\}', '', data)  # Removes pgn comments\n",
    "        metadata = {}\n",
    "        metadata['white'] = re.findall(\n",
    "            r'\\[White \"(.*)\"]',\n",
    "            data)\n",
    "        metadata['black'] = re.findall(\n",
    "            r'\\[Black \"(.*)\"]',\n",
    "            data)\n",
    "        metadata['result'] = re.findall(\n",
    "            r'\\[Result \"(.*)\"]',\n",
    "            data)\n",
    "        return metadata"
   ]
  },
  {
   "cell_type": "code",
   "execution_count": 18,
   "id": "05a5254b",
   "metadata": {},
   "outputs": [
    {
     "name": "stdout",
     "output_type": "stream",
     "text": [
      "{'white': ['AlphaZero'], 'black': ['Stockfish 8'], 'result': ['1-0']}\n"
     ]
    }
   ],
   "source": [
    "print(get_metadata_from_pgn(pgn))"
   ]
  }
 ],
 "metadata": {
  "kernelspec": {
   "display_name": "Python 3",
   "language": "python",
   "name": "python3"
  },
  "language_info": {
   "codemirror_mode": {
    "name": "ipython",
    "version": 3
   },
   "file_extension": ".py",
   "mimetype": "text/x-python",
   "name": "python",
   "nbconvert_exporter": "python",
   "pygments_lexer": "ipython3",
   "version": "3.8.5"
  }
 },
 "nbformat": 4,
 "nbformat_minor": 5
}
