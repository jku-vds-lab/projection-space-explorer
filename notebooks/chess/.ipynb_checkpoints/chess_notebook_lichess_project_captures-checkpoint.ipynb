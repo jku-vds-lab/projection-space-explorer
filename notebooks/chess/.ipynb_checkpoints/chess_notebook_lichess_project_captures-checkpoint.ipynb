{
 "cells": [
  {
   "cell_type": "code",
   "execution_count": 1,
   "metadata": {},
   "outputs": [
    {
     "name": "stderr",
     "output_type": "stream",
     "text": [
      "2022-01-13 10:55:29.435333: W tensorflow/stream_executor/platform/default/dso_loader.cc:64] Could not load dynamic library 'libcudart.so.11.0'; dlerror: libcudart.so.11.0: cannot open shared object file: No such file or directory\n",
      "2022-01-13 10:55:29.435397: I tensorflow/stream_executor/cuda/cudart_stub.cc:29] Ignore above cudart dlerror if you do not have a GPU set up on your machine.\n"
     ]
    }
   ],
   "source": [
    "from pgn2gif import chess\n",
    "import numpy as np\n",
    "from openTSNE import TSNE\n",
    "from openTSNE.callbacks import ErrorApproximations\n",
    "from matplotlib import pyplot as plt\n",
    "from scipy import interpolate\n",
    "import re\n",
    "import pandas as pd\n",
    "from custom_chess_utils.utils import *\n",
    "import umap.umap_ as umap\n",
    "from matplotlib import pyplot as plt\n",
    "seed = 0\n",
    "np.random.seed(seed)\n",
    "\n",
    "chess_games_path = '/mnt/d/Work/CG Institute/chess/lichess data/lichess_db_standard_rated_2021-08.pgn'\n",
    "pgn_folder = 'games'\n",
    "tsne_path = 'lichess_project_captures_tsne_seed'+str(seed)+'.csv'\n",
    "umap_path = 'lichess_project_captures_umap_seed'+str(seed)+'.csv'"
   ]
  },
  {
   "cell_type": "markdown",
   "metadata": {},
   "source": [
    "### Data loading and preprocessing"
   ]
  },
  {
   "cell_type": "markdown",
   "metadata": {},
   "source": [
    "#### Extract individual games from PGN file"
   ]
  },
  {
   "cell_type": "code",
   "execution_count": 2,
   "metadata": {},
   "outputs": [],
   "source": [
    "split_games = extract_individual_games_from_pgn(chess_games_path, pgn_folder, lines_to_read=800000)"
   ]
  },
  {
   "cell_type": "markdown",
   "metadata": {},
   "source": [
    "#### Filter out games without eval score or without clk"
   ]
  },
  {
   "cell_type": "code",
   "execution_count": 3,
   "metadata": {},
   "outputs": [
    {
     "name": "stdout",
     "output_type": "stream",
     "text": [
      "2228\n"
     ]
    }
   ],
   "source": [
    "split_games = get_games_with_eval_and_clk(split_games)\n",
    "print(len(split_games))"
   ]
  },
  {
   "cell_type": "markdown",
   "metadata": {},
   "source": [
    "#### keep n games"
   ]
  },
  {
   "cell_type": "code",
   "execution_count": 4,
   "metadata": {},
   "outputs": [
    {
     "name": "stdout",
     "output_type": "stream",
     "text": [
      "250\n"
     ]
    }
   ],
   "source": [
    "n_games = 250\n",
    "split_games = split_games[:n_games]\n",
    "print(len(split_games))"
   ]
  },
  {
   "cell_type": "markdown",
   "metadata": {},
   "source": [
    "#### store individual games as PGN files"
   ]
  },
  {
   "cell_type": "code",
   "execution_count": 5,
   "metadata": {},
   "outputs": [],
   "source": [
    "store_games_as_pgn(split_games, pgn_folder)\n",
    "game_paths = [pgn_folder+'/game-{:05d}.pgn'.format(n+1) for n in range(n_games)]"
   ]
  },
  {
   "cell_type": "markdown",
   "metadata": {},
   "source": [
    "#### Loading games from individual PGN files"
   ]
  },
  {
   "cell_type": "code",
   "execution_count": 6,
   "metadata": {},
   "outputs": [
    {
     "name": "stdout",
     "output_type": "stream",
     "text": [
      "['Termination', 'Round', 'Black', 'WhiteElo', 'Result', 'UTCTime', 'White', 'Opening', 'UTCDate', 'BlackElo', 'TimeControl', 'Event', 'Site', 'ECO', 'Date']\n"
     ]
    }
   ],
   "source": [
    "game_paths_checked, metadata, metadata_evals, metadata_clks, md_keys = get_metadata_from_pgns(game_paths)\n",
    "print(md_keys)"
   ]
  },
  {
   "cell_type": "code",
   "execution_count": 7,
   "metadata": {},
   "outputs": [
    {
     "name": "stdout",
     "output_type": "stream",
     "text": [
      "250\n"
     ]
    }
   ],
   "source": [
    "game_matrices, games_pgn = game_matrices_from_pgn(pgn_folder, game_paths_checked, first_moves_filter=None)\n",
    "print(len(game_matrices))"
   ]
  },
  {
   "cell_type": "markdown",
   "metadata": {},
   "source": [
    "#### keep opening moves only\n",
    "using the list of openings that corresponds to the lichess dataset https://github.com/niklasf/chess-openings"
   ]
  },
  {
   "cell_type": "code",
   "execution_count": 8,
   "metadata": {},
   "outputs": [],
   "source": [
    "eco_df = get_eco_df('ECOs')"
   ]
  },
  {
   "cell_type": "markdown",
   "metadata": {},
   "source": [
    "#### add ECO category (A,B,C,D,E,F) to metadata"
   ]
  },
  {
   "cell_type": "code",
   "execution_count": 9,
   "metadata": {},
   "outputs": [],
   "source": [
    "metadata = create_opening_categories_feature(metadata)"
   ]
  },
  {
   "cell_type": "markdown",
   "metadata": {},
   "source": [
    "#### filter games with Openings that don't exist in our ECO dataset"
   ]
  },
  {
   "cell_type": "code",
   "execution_count": 10,
   "metadata": {},
   "outputs": [],
   "source": [
    "game_matrices, metadata, metadata_evals, metadata_clks, games_pgn = filter_unknown_ecos(eco_df, game_matrices, metadata, metadata_evals, metadata_clks, games_pgn)"
   ]
  },
  {
   "cell_type": "markdown",
   "metadata": {},
   "source": [
    "#### using eco dataframe to determine amount n of moves in the corresponding opening, cutting off each game after n"
   ]
  },
  {
   "cell_type": "code",
   "execution_count": 11,
   "metadata": {},
   "outputs": [],
   "source": [
    "game_matrices = cut_off_games_after_opening(game_matrices, eco_df, metadata)"
   ]
  },
  {
   "cell_type": "markdown",
   "metadata": {},
   "source": [
    "#### get captured pieces throughout games and turns"
   ]
  },
  {
   "cell_type": "code",
   "execution_count": 12,
   "metadata": {},
   "outputs": [],
   "source": [
    "captures, _ = get_captures(game_matrices, games_pgn)"
   ]
  },
  {
   "cell_type": "markdown",
   "metadata": {},
   "source": [
    "#### concatenate games into final data that will be projected"
   ]
  },
  {
   "cell_type": "code",
   "execution_count": 13,
   "metadata": {},
   "outputs": [],
   "source": [
    "final_data = np.concatenate(game_matrices)"
   ]
  },
  {
   "cell_type": "markdown",
   "metadata": {},
   "source": [
    "#### concat captured pieces data onto chess board data such that it is also used for projection"
   ]
  },
  {
   "cell_type": "code",
   "execution_count": 14,
   "metadata": {},
   "outputs": [],
   "source": [
    "final_data = np.concatenate([final_data, np.concatenate(captures)], axis=1)"
   ]
  },
  {
   "cell_type": "markdown",
   "metadata": {},
   "source": [
    "### Calculating Embeddings / Projections and Writing to Files"
   ]
  },
  {
   "cell_type": "markdown",
   "metadata": {},
   "source": [
    "#### project using t-sne"
   ]
  },
  {
   "cell_type": "code",
   "execution_count": 15,
   "metadata": {},
   "outputs": [],
   "source": [
    "tsne = TSNE(\n",
    "    perplexity=200,\n",
    "    n_jobs=6,\n",
    "    metric='euclidean',\n",
    "    random_state=seed,\n",
    "    verbose=True\n",
    ")"
   ]
  },
  {
   "cell_type": "code",
   "execution_count": 16,
   "metadata": {
    "scrolled": true
   },
   "outputs": [
    {
     "name": "stdout",
     "output_type": "stream",
     "text": [
      "--------------------------------------------------------------------------------\n",
      "TSNE(n_jobs=6, perplexity=200, random_state=0, verbose=True)\n",
      "--------------------------------------------------------------------------------\n",
      "===> Finding 600 nearest neighbors using Annoy approximate search using euclidean distance...\n",
      "   --> Time elapsed: 0.84 seconds\n",
      "===> Calculating affinity matrix...\n",
      "   --> Time elapsed: 0.26 seconds\n",
      "===> Calculating PCA-based initialization...\n",
      "   --> Time elapsed: 0.09 seconds\n",
      "===> Running optimization with exaggeration=12.00, lr=200.00 for 250 iterations...\n",
      "Iteration   50, KL divergence 1.7260, 50 iterations in 0.3235 sec\n",
      "Iteration  100, KL divergence 1.7435, 50 iterations in 0.3409 sec\n",
      "Iteration  150, KL divergence 1.7406, 50 iterations in 0.3211 sec\n",
      "Iteration  200, KL divergence 1.7225, 50 iterations in 0.3500 sec\n",
      "Iteration  250, KL divergence 1.7180, 50 iterations in 0.3186 sec\n",
      "   --> Time elapsed: 1.66 seconds\n",
      "===> Running optimization with exaggeration=1.00, lr=200.00 for 500 iterations...\n",
      "Iteration   50, KL divergence 0.3830, 50 iterations in 0.3475 sec\n",
      "Iteration  100, KL divergence 0.3401, 50 iterations in 0.3502 sec\n",
      "Iteration  150, KL divergence 0.3290, 50 iterations in 0.3498 sec\n",
      "Iteration  200, KL divergence 0.3258, 50 iterations in 0.3515 sec\n",
      "Iteration  250, KL divergence 0.3186, 50 iterations in 0.3488 sec\n",
      "Iteration  300, KL divergence 0.3162, 50 iterations in 0.3544 sec\n",
      "Iteration  350, KL divergence 0.3184, 50 iterations in 0.3498 sec\n",
      "Iteration  400, KL divergence 0.3215, 50 iterations in 0.3546 sec\n",
      "Iteration  450, KL divergence 0.3193, 50 iterations in 0.3494 sec\n",
      "Iteration  500, KL divergence 0.3184, 50 iterations in 0.3536 sec\n",
      "   --> Time elapsed: 3.51 seconds\n",
      "CPU times: user 35.9 s, sys: 1.17 s, total: 37.1 s\n",
      "Wall time: 6.39 s\n"
     ]
    }
   ],
   "source": [
    "%time embedding = tsne.fit(np.array(final_data))"
   ]
  },
  {
   "cell_type": "markdown",
   "metadata": {},
   "source": [
    "#### reshape resulting embedding into games, states, 2"
   ]
  },
  {
   "cell_type": "code",
   "execution_count": 17,
   "metadata": {},
   "outputs": [],
   "source": [
    "embedding_split = reshape_embedding(embedding, game_matrices)"
   ]
  },
  {
   "cell_type": "markdown",
   "metadata": {},
   "source": [
    "### create resulting csv file using all metadata and embedding"
   ]
  },
  {
   "cell_type": "code",
   "execution_count": 18,
   "metadata": {},
   "outputs": [
    {
     "name": "stdout",
     "output_type": "stream",
     "text": [
      "['Termination', 'Round', 'Black', 'WhiteElo', 'Result', 'UTCTime', 'White', 'Opening', 'UTCDate', 'BlackElo', 'TimeControl', 'Event', 'Site', 'ECO', 'Date']\n"
     ]
    }
   ],
   "source": [
    "write_csv(tsne_path, md_keys, embedding_split, game_matrices, metadata, captures, metadata_evals, metadata_clks)"
   ]
  },
  {
   "cell_type": "markdown",
   "metadata": {},
   "source": [
    "#### project using umap"
   ]
  },
  {
   "cell_type": "code",
   "execution_count": 19,
   "metadata": {},
   "outputs": [],
   "source": [
    "reducer = umap.UMAP(verbose=True, random_state=seed)"
   ]
  },
  {
   "cell_type": "code",
   "execution_count": 20,
   "metadata": {
    "collapsed": true
   },
   "outputs": [
    {
     "name": "stdout",
     "output_type": "stream",
     "text": [
      "UMAP(dens_frac=0.0, dens_lambda=0.0, random_state=0, verbose=True)\n",
      "Construct fuzzy simplicial set\n",
      "Thu Jan 13 10:55:56 2022 Finding Nearest Neighbors\n",
      "Thu Jan 13 10:55:59 2022 Finished Nearest Neighbor Search\n",
      "Thu Jan 13 10:56:01 2022 Construct embedding\n",
      "\tcompleted  0  /  500 epochs\n",
      "\tcompleted  50  /  500 epochs\n",
      "\tcompleted  100  /  500 epochs\n",
      "\tcompleted  150  /  500 epochs\n",
      "\tcompleted  200  /  500 epochs\n",
      "\tcompleted  250  /  500 epochs\n",
      "\tcompleted  300  /  500 epochs\n",
      "\tcompleted  350  /  500 epochs\n",
      "\tcompleted  400  /  500 epochs\n",
      "\tcompleted  450  /  500 epochs\n",
      "Thu Jan 13 10:56:10 2022 Finished embedding\n"
     ]
    }
   ],
   "source": [
    "umap_embedding = reducer.fit_transform(final_data)"
   ]
  },
  {
   "cell_type": "markdown",
   "metadata": {},
   "source": [
    "#### reshape resulting embedding into games, states, 2"
   ]
  },
  {
   "cell_type": "code",
   "execution_count": 21,
   "metadata": {},
   "outputs": [],
   "source": [
    "umap_embedding_split = reshape_embedding(umap_embedding, game_matrices)"
   ]
  },
  {
   "cell_type": "markdown",
   "metadata": {},
   "source": [
    "#### use existing csv and simply overwrite x,y before storing to new file"
   ]
  },
  {
   "cell_type": "code",
   "execution_count": 22,
   "metadata": {},
   "outputs": [],
   "source": [
    "store_embedding_over_existing_file(tsne_path, umap_embedding, umap_path)"
   ]
  }
 ],
 "metadata": {
  "kernelspec": {
   "display_name": "Python 3 (ipykernel)",
   "language": "python",
   "name": "python3"
  },
  "language_info": {
   "codemirror_mode": {
    "name": "ipython",
    "version": 3
   },
   "file_extension": ".py",
   "mimetype": "text/x-python",
   "name": "python",
   "nbconvert_exporter": "python",
   "pygments_lexer": "ipython3",
   "version": "3.9.5"
  }
 },
 "nbformat": 4,
 "nbformat_minor": 4
}
