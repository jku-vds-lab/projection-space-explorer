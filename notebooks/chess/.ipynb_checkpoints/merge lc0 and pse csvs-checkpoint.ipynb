{
 "cells": [
  {
   "cell_type": "code",
   "execution_count": null,
   "metadata": {},
   "outputs": [],
   "source": [
    "import torch as th\n",
    "import numpy as np\n",
    "import pandas as pd\n",
    "\n",
    "csvs_folder = 'csvs/interesting ones/'\n",
    "\n",
    "LC0_UMAP_FILE_NAME = 'a0sf_valuedense2_umap_embedding_nn15_lr1_0_nepochs1000_mindist0.csv'\n",
    "PSE_FILE_NAME = 'alphazero_vs_stockfish_all.csv'\n",
    "MERGED_FILE_NAME = 'merged_a0sf_valuedense2_umap_embedding_nn15_lr1_0_nepochs1000_mindist0.csv'"
   ]
  },
  {
   "cell_type": "code",
   "execution_count": null,
   "metadata": {},
   "outputs": [],
   "source": [
    "import os\n",
    "cwd = os.getcwd()\n",
    "print(cwd)"
   ]
  },
  {
   "cell_type": "code",
   "execution_count": null,
   "metadata": {},
   "outputs": [],
   "source": [
    "import os\n",
    "csvs = []\n",
    "for file in os.listdir(csvs_folder):\n",
    "    if file.endswith('.csv'):\n",
    "        csvs += [os.path.join(csvs_folder, file)]\n",
    "        \n",
    "print(csvs)"
   ]
  },
  {
   "cell_type": "code",
   "execution_count": null,
   "metadata": {},
   "outputs": [],
   "source": [
    "f = csvs[0]\n",
    "folder = os.path.dirname(f)\n",
    "base = os.path.basename(f)\n",
    "print(folder)\n",
    "print(base)\n",
    "merged_folder = os.path.join(folder, 'merged/')\n",
    "print(merged_folder)"
   ]
  },
  {
   "cell_type": "code",
   "execution_count": null,
   "metadata": {},
   "outputs": [],
   "source": [
    "for f in csvs:\n",
    "    embedding_df = pd.read_csv(f)\n",
    "    pse_df = pd.read_csv(PSE_FILE_NAME)\n",
    "    \n",
    "    pse_df['x'] = embedding_df['0']\n",
    "    pse_df['y'] = embedding_df['1']\n",
    "    \n",
    "    folder = os.path.dirname(f)\n",
    "    merged_folder = os.path.join(folder, 'merged/')\n",
    "    save_path = os.path.join(merged_folder, os.path.basename(f))\n",
    "    \n",
    "    print('saving to', save_path)\n",
    "    pse_df.to_csv(save_path)"
   ]
  },
  {
   "cell_type": "markdown",
   "metadata": {},
   "source": [
    "## Old code for a single specific file"
   ]
  },
  {
   "cell_type": "code",
   "execution_count": null,
   "metadata": {},
   "outputs": [],
   "source": [
    "# embedding_df = pd.read_csv(LC0_UMAP_FILE_NAME)\n",
    "# embedding_df.head()"
   ]
  },
  {
   "cell_type": "code",
   "execution_count": null,
   "metadata": {},
   "outputs": [],
   "source": [
    "# embedding_df.info()"
   ]
  },
  {
   "cell_type": "code",
   "execution_count": null,
   "metadata": {},
   "outputs": [],
   "source": [
    "# pse_df = pd.read_csv(PSE_FILE_NAME)\n",
    "# pse_df.head()"
   ]
  },
  {
   "cell_type": "code",
   "execution_count": null,
   "metadata": {},
   "outputs": [],
   "source": [
    "# pse_df.info()"
   ]
  },
  {
   "cell_type": "code",
   "execution_count": null,
   "metadata": {},
   "outputs": [],
   "source": [
    "# pse_df['x'] = embedding_df['0']\n",
    "# pse_df['y'] = embedding_df['1']\n",
    "# pse_df.head()"
   ]
  },
  {
   "cell_type": "code",
   "execution_count": null,
   "metadata": {},
   "outputs": [],
   "source": [
    "# pse_df.to_csv(MERGED_FILE_NAME)"
   ]
  }
 ],
 "metadata": {
  "kernelspec": {
   "display_name": "Python 3",
   "language": "python",
   "name": "python3"
  },
  "language_info": {
   "codemirror_mode": {
    "name": "ipython",
    "version": 3
   },
   "file_extension": ".py",
   "mimetype": "text/x-python",
   "name": "python",
   "nbconvert_exporter": "python",
   "pygments_lexer": "ipython3",
   "version": "3.8.5"
  }
 },
 "nbformat": 4,
 "nbformat_minor": 5
}
