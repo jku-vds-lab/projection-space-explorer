{
 "cells": [
  {
   "cell_type": "code",
   "execution_count": 1,
   "metadata": {},
   "outputs": [
    {
     "name": "stderr",
     "output_type": "stream",
     "text": [
      "2022-01-13 14:08:07.413882: W tensorflow/stream_executor/platform/default/dso_loader.cc:64] Could not load dynamic library 'libcudart.so.11.0'; dlerror: libcudart.so.11.0: cannot open shared object file: No such file or directory\n",
      "2022-01-13 14:08:07.413933: I tensorflow/stream_executor/cuda/cudart_stub.cc:29] Ignore above cudart dlerror if you do not have a GPU set up on your machine.\n"
     ]
    }
   ],
   "source": [
    "from pgn2gif import chess\n",
    "import numpy as np\n",
    "from openTSNE import TSNE\n",
    "from openTSNE.callbacks import ErrorApproximations\n",
    "from matplotlib import pyplot as plt\n",
    "from scipy import interpolate\n",
    "import re\n",
    "import pandas as pd\n",
    "from custom_chess_utils.utils import *\n",
    "from umap.parametric_umap import ParametricUMAP\n",
    "from matplotlib import pyplot as plt\n",
    "import tensorflow as tf\n",
    "seed = 2\n",
    "np.random.seed(seed)\n",
    "tf.random.set_seed(seed)\n",
    "\n",
    "chess_games_path = '/mnt/d/Work/CG Institute/chess/lichess data/lichess_db_standard_rated_2021-08.pgn'\n",
    "pgn_folder = 'games'\n",
    "umap_path = 'lichess_param_umap_nodup_custom_seed'+str(seed)+'.csv'"
   ]
  },
  {
   "cell_type": "markdown",
   "metadata": {},
   "source": [
    "### Data loading and preprocessing"
   ]
  },
  {
   "cell_type": "markdown",
   "metadata": {},
   "source": [
    "#### Extract individual games from PGN file"
   ]
  },
  {
   "cell_type": "code",
   "execution_count": 2,
   "metadata": {},
   "outputs": [],
   "source": [
    "split_games = extract_individual_games_from_pgn(chess_games_path, pgn_folder, lines_to_read=800000)"
   ]
  },
  {
   "cell_type": "markdown",
   "metadata": {},
   "source": [
    "#### Filter out games without eval score or without clk"
   ]
  },
  {
   "cell_type": "code",
   "execution_count": 3,
   "metadata": {},
   "outputs": [
    {
     "name": "stdout",
     "output_type": "stream",
     "text": [
      "2228\n"
     ]
    }
   ],
   "source": [
    "split_games = get_games_with_eval_and_clk(split_games)\n",
    "print(len(split_games))"
   ]
  },
  {
   "cell_type": "markdown",
   "metadata": {},
   "source": [
    "#### keep n games"
   ]
  },
  {
   "cell_type": "code",
   "execution_count": 4,
   "metadata": {},
   "outputs": [
    {
     "name": "stdout",
     "output_type": "stream",
     "text": [
      "250\n"
     ]
    }
   ],
   "source": [
    "n_games = 250\n",
    "split_games = split_games[:n_games]\n",
    "print(len(split_games))"
   ]
  },
  {
   "cell_type": "markdown",
   "metadata": {},
   "source": [
    "#### store individual games as PGN files"
   ]
  },
  {
   "cell_type": "code",
   "execution_count": 5,
   "metadata": {},
   "outputs": [],
   "source": [
    "store_games_as_pgn(split_games, pgn_folder)\n",
    "game_paths = [pgn_folder+'/game-{:05d}.pgn'.format(n+1) for n in range(n_games)]"
   ]
  },
  {
   "cell_type": "markdown",
   "metadata": {},
   "source": [
    "#### Loading games from individual PGN files"
   ]
  },
  {
   "cell_type": "code",
   "execution_count": 6,
   "metadata": {},
   "outputs": [
    {
     "name": "stdout",
     "output_type": "stream",
     "text": [
      "['Event', 'TimeControl', 'Black', 'ECO', 'Result', 'BlackElo', 'Termination', 'White', 'Site', 'Date', 'Opening', 'WhiteElo', 'UTCDate', 'Round', 'UTCTime']\n"
     ]
    }
   ],
   "source": [
    "game_paths_checked, metadata, metadata_evals, metadata_clks, md_keys = get_metadata_from_pgns(game_paths)\n",
    "print(md_keys)"
   ]
  },
  {
   "cell_type": "code",
   "execution_count": 7,
   "metadata": {},
   "outputs": [
    {
     "name": "stdout",
     "output_type": "stream",
     "text": [
      "250\n"
     ]
    }
   ],
   "source": [
    "game_matrices, games_pgn = game_matrices_from_pgn(pgn_folder, game_paths_checked, first_moves_filter=None)\n",
    "print(len(game_matrices))"
   ]
  },
  {
   "cell_type": "markdown",
   "metadata": {},
   "source": [
    "#### keep opening moves only\n",
    "using the list of openings that corresponds to the lichess dataset https://github.com/niklasf/chess-openings"
   ]
  },
  {
   "cell_type": "code",
   "execution_count": 8,
   "metadata": {},
   "outputs": [],
   "source": [
    "eco_df = get_eco_df('ECOs')"
   ]
  },
  {
   "cell_type": "markdown",
   "metadata": {},
   "source": [
    "#### add ECO category (A,B,C,D,E,F) to metadata"
   ]
  },
  {
   "cell_type": "code",
   "execution_count": 9,
   "metadata": {},
   "outputs": [],
   "source": [
    "metadata = create_opening_categories_feature(metadata)"
   ]
  },
  {
   "cell_type": "markdown",
   "metadata": {},
   "source": [
    "#### filter games with Openings that don't exist in our ECO dataset"
   ]
  },
  {
   "cell_type": "code",
   "execution_count": 10,
   "metadata": {},
   "outputs": [],
   "source": [
    "game_matrices, metadata, metadata_evals, metadata_clks, games_pgn = filter_unknown_ecos(eco_df, game_matrices, metadata, metadata_evals, metadata_clks, games_pgn)"
   ]
  },
  {
   "cell_type": "markdown",
   "metadata": {},
   "source": [
    "#### using eco dataframe to determine amount n of moves in the corresponding opening, cutting off each game after n"
   ]
  },
  {
   "cell_type": "code",
   "execution_count": 11,
   "metadata": {},
   "outputs": [],
   "source": [
    "game_matrices = cut_off_games_after_opening(game_matrices, eco_df, metadata)"
   ]
  },
  {
   "cell_type": "markdown",
   "metadata": {},
   "source": [
    "#### get captured pieces throughout games and turns"
   ]
  },
  {
   "cell_type": "code",
   "execution_count": 12,
   "metadata": {},
   "outputs": [],
   "source": [
    "captures, _ = get_captures(game_matrices, games_pgn)"
   ]
  },
  {
   "cell_type": "markdown",
   "metadata": {},
   "source": [
    "#### Create dummy csv without embedding to be able to load it as a pandas df"
   ]
  },
  {
   "cell_type": "code",
   "execution_count": 13,
   "metadata": {},
   "outputs": [],
   "source": [
    "embedding_split = all_zeros_embedding_shape(game_matrices)"
   ]
  },
  {
   "cell_type": "code",
   "execution_count": 14,
   "metadata": {},
   "outputs": [],
   "source": [
    "write_csv(umap_path, md_keys, embedding_split, game_matrices, metadata, captures, metadata_evals, metadata_clks)"
   ]
  },
  {
   "cell_type": "markdown",
   "metadata": {},
   "source": [
    "#### finding duplicates"
   ]
  },
  {
   "cell_type": "code",
   "execution_count": 15,
   "metadata": {},
   "outputs": [],
   "source": [
    "dup_df, drop_dup_df = find_duplicates(umap_path)"
   ]
  },
  {
   "cell_type": "markdown",
   "metadata": {},
   "source": [
    "#### concatenate games into final data that will be projected, remove duplicates"
   ]
  },
  {
   "cell_type": "code",
   "execution_count": 16,
   "metadata": {},
   "outputs": [],
   "source": [
    "final_data = np.concatenate(game_matrices)\n",
    "drop_dup_idx = drop_dup_df.index.array\n",
    "final_data = np.take(final_data, drop_dup_idx, axis=0)"
   ]
  },
  {
   "cell_type": "markdown",
   "metadata": {},
   "source": [
    "### Calculating Embeddings / Projections and Writing to Files"
   ]
  },
  {
   "cell_type": "markdown",
   "metadata": {},
   "source": [
    "#### define the network, create UMAP object"
   ]
  },
  {
   "cell_type": "code",
   "execution_count": 17,
   "metadata": {
    "collapsed": true
   },
   "outputs": [
    {
     "name": "stdout",
     "output_type": "stream",
     "text": [
      "Model: \"sequential\"\n",
      "_________________________________________________________________\n",
      " Layer (type)                Output Shape              Param #   \n",
      "=================================================================\n",
      " conv2d (Conv2D)             (None, 4, 4, 16)          1888      \n",
      "                                                                 \n",
      " conv2d_1 (Conv2D)           (None, 2, 2, 32)          4640      \n",
      "                                                                 \n",
      " conv2d_2 (Conv2D)           (None, 1, 1, 64)          18496     \n",
      "                                                                 \n",
      " conv2d_3 (Conv2D)           (None, 1, 1, 128)         73856     \n",
      "                                                                 \n",
      " conv2d_4 (Conv2D)           (None, 1, 1, 256)         295168    \n",
      "                                                                 \n",
      " flatten (Flatten)           (None, 256)               0         \n",
      "                                                                 \n",
      " dense (Dense)               (None, 100)               25700     \n",
      "                                                                 \n",
      " dense_1 (Dense)             (None, 100)               10100     \n",
      "                                                                 \n",
      " dense_2 (Dense)             (None, 100)               10100     \n",
      "                                                                 \n",
      " dense_3 (Dense)             (None, 2)                 202       \n",
      "                                                                 \n",
      "=================================================================\n",
      "Total params: 440,150\n",
      "Trainable params: 440,150\n",
      "Non-trainable params: 0\n",
      "_________________________________________________________________\n"
     ]
    },
    {
     "name": "stderr",
     "output_type": "stream",
     "text": [
      "2022-01-13 14:08:23.579857: W tensorflow/stream_executor/platform/default/dso_loader.cc:64] Could not load dynamic library 'libcuda.so.1'; dlerror: libcuda.so.1: cannot open shared object file: No such file or directory\n",
      "2022-01-13 14:08:23.579914: W tensorflow/stream_executor/cuda/cuda_driver.cc:269] failed call to cuInit: UNKNOWN ERROR (303)\n",
      "2022-01-13 14:08:23.579936: I tensorflow/stream_executor/cuda/cuda_diagnostics.cc:156] kernel driver does not appear to be running on this host (DESKTOP-857SMRC): /proc/driver/nvidia/version does not exist\n"
     ]
    }
   ],
   "source": [
    "dims = (8, 8, 13)\n",
    "n_components = 2\n",
    "encoder = tf.keras.Sequential([\n",
    "    tf.keras.layers.InputLayer(input_shape=dims),\n",
    "    tf.keras.layers.Conv2D(\n",
    "        filters=16, kernel_size=3, strides=(2, 2), activation=\"relu\", padding=\"same\"\n",
    "    ),\n",
    "    tf.keras.layers.Conv2D(\n",
    "        filters=32, kernel_size=3, strides=(2, 2), activation=\"relu\", padding=\"same\"\n",
    "    ),\n",
    "    tf.keras.layers.Conv2D(\n",
    "        filters=64, kernel_size=3, strides=(2, 2), activation=\"relu\", padding=\"same\"\n",
    "    ),\n",
    "    tf.keras.layers.Conv2D(\n",
    "        filters=128, kernel_size=3, strides=(2, 2), activation=\"relu\", padding=\"same\"\n",
    "    ),\n",
    "    tf.keras.layers.Conv2D(\n",
    "        filters=256, kernel_size=3, strides=(2, 2), activation=\"relu\", padding=\"same\"\n",
    "    ),\n",
    "    tf.keras.layers.Flatten(),\n",
    "    tf.keras.layers.Dense(units=100),\n",
    "    tf.keras.layers.Dense(units=100),\n",
    "    tf.keras.layers.Dense(units=100),\n",
    "    tf.keras.layers.Dense(units=n_components),\n",
    "])\n",
    "encoder.summary()"
   ]
  },
  {
   "cell_type": "code",
   "execution_count": 18,
   "metadata": {},
   "outputs": [],
   "source": [
    "keras_fit_kwargs = {\"callbacks\": [\n",
    "    tf.keras.callbacks.EarlyStopping(\n",
    "        monitor='loss',\n",
    "        min_delta=10**-2,\n",
    "        patience=10,\n",
    "        verbose=1,\n",
    "    )\n",
    "]}"
   ]
  },
  {
   "cell_type": "code",
   "execution_count": 19,
   "metadata": {},
   "outputs": [],
   "source": [
    "# pass encoder network to ParametricUMAP\n",
    "reducer = ParametricUMAP(\n",
    "    verbose=True,\n",
    "    keras_fit_kwargs = keras_fit_kwargs,\n",
    "    encoder=encoder,\n",
    "    dims=dims,\n",
    "    random_state=seed,\n",
    "    n_training_epochs=20)"
   ]
  },
  {
   "cell_type": "markdown",
   "metadata": {},
   "source": [
    "#### project using parametric UMAP"
   ]
  },
  {
   "cell_type": "code",
   "execution_count": 20,
   "metadata": {
    "collapsed": true
   },
   "outputs": [
    {
     "name": "stdout",
     "output_type": "stream",
     "text": [
      "ParametricUMAP(dims=(8, 8, 13),\n",
      "               encoder=<keras.engine.sequential.Sequential object at 0x7f1fac659100>,\n",
      "               keras_fit_kwargs={'callbacks': [<keras.callbacks.EarlyStopping object at 0x7f1facf89e80>]},\n",
      "               n_training_epochs=20,\n",
      "               optimizer=<keras.optimizer_v2.adam.Adam object at 0x7f1facf89520>)\n",
      "Construct fuzzy simplicial set\n",
      "Thu Jan 13 14:08:24 2022 Finding Nearest Neighbors\n",
      "Thu Jan 13 14:08:27 2022 Finished Nearest Neighbor Search\n",
      "Thu Jan 13 14:08:30 2022 Construct embedding\n",
      "Epoch 1/200\n",
      "13/13 [==============================] - 2s 53ms/step - loss: 3.6140\n",
      "Epoch 2/200\n",
      "13/13 [==============================] - 1s 46ms/step - loss: 0.5852\n",
      "Epoch 3/200\n",
      "13/13 [==============================] - 1s 47ms/step - loss: 0.6009\n",
      "Epoch 4/200\n",
      "13/13 [==============================] - 1s 45ms/step - loss: 0.5637\n",
      "Epoch 5/200\n",
      "13/13 [==============================] - 1s 48ms/step - loss: 0.5203\n",
      "Epoch 6/200\n",
      "13/13 [==============================] - 1s 48ms/step - loss: 0.4865\n",
      "Epoch 7/200\n",
      "13/13 [==============================] - 1s 47ms/step - loss: 0.4396\n",
      "Epoch 8/200\n",
      "13/13 [==============================] - 1s 47ms/step - loss: 0.4108\n",
      "Epoch 9/200\n",
      "13/13 [==============================] - 1s 50ms/step - loss: 0.4082\n",
      "Epoch 10/200\n",
      "13/13 [==============================] - 1s 49ms/step - loss: 0.4012\n",
      "Epoch 11/200\n",
      "13/13 [==============================] - 1s 49ms/step - loss: 0.3890\n",
      "Epoch 12/200\n",
      "13/13 [==============================] - 1s 54ms/step - loss: 0.3981\n",
      "Epoch 13/200\n",
      "13/13 [==============================] - 1s 50ms/step - loss: 0.3917\n",
      "Epoch 14/200\n",
      "13/13 [==============================] - 1s 47ms/step - loss: 0.3836\n",
      "Epoch 15/200\n",
      "13/13 [==============================] - 1s 47ms/step - loss: 0.3822\n",
      "Epoch 16/200\n",
      "13/13 [==============================] - 1s 46ms/step - loss: 0.3843\n",
      "Epoch 17/200\n",
      "13/13 [==============================] - 1s 47ms/step - loss: 0.3837\n",
      "Epoch 18/200\n",
      "13/13 [==============================] - 1s 45ms/step - loss: 0.3781\n",
      "Epoch 19/200\n",
      "13/13 [==============================] - 1s 46ms/step - loss: 0.3810\n",
      "Epoch 20/200\n",
      "13/13 [==============================] - 1s 47ms/step - loss: 0.3815\n",
      "Epoch 21/200\n",
      "13/13 [==============================] - 1s 47ms/step - loss: 0.3789\n",
      "Epoch 22/200\n",
      "13/13 [==============================] - 1s 45ms/step - loss: 0.3787\n",
      "Epoch 23/200\n",
      "13/13 [==============================] - 1s 47ms/step - loss: 0.3775\n",
      "Epoch 24/200\n",
      "13/13 [==============================] - 1s 46ms/step - loss: 0.3751\n",
      "Epoch 25/200\n",
      "13/13 [==============================] - 1s 47ms/step - loss: 0.3728\n",
      "Epoch 26/200\n",
      "13/13 [==============================] - 1s 52ms/step - loss: 0.3702\n",
      "Epoch 27/200\n",
      "13/13 [==============================] - 1s 63ms/step - loss: 0.3666\n",
      "Epoch 28/200\n",
      "13/13 [==============================] - 1s 58ms/step - loss: 0.3670\n",
      "Epoch 29/200\n",
      "13/13 [==============================] - 1s 57ms/step - loss: 0.3696\n",
      "Epoch 30/200\n",
      "13/13 [==============================] - 1s 56ms/step - loss: 0.3683\n",
      "Epoch 31/200\n",
      "13/13 [==============================] - 1s 55ms/step - loss: 0.3679\n",
      "Epoch 32/200\n",
      "13/13 [==============================] - 1s 65ms/step - loss: 0.3751\n",
      "Epoch 33/200\n",
      "13/13 [==============================] - 1s 85ms/step - loss: 0.3674\n",
      "Epoch 34/200\n",
      "13/13 [==============================] - 1s 100ms/step - loss: 0.3638\n",
      "Epoch 35/200\n",
      "13/13 [==============================] - 1s 80ms/step - loss: 0.3639\n",
      "Epoch 36/200\n",
      "13/13 [==============================] - 1s 66ms/step - loss: 0.3617\n",
      "Epoch 37/200\n",
      "13/13 [==============================] - 1s 60ms/step - loss: 0.3618\n",
      "Epoch 00037: early stopping\n",
      "14/14 [==============================] - 0s 3ms/step\n",
      "Thu Jan 13 14:08:58 2022 Finished embedding\n"
     ]
    }
   ],
   "source": [
    "umap_embedding = reducer.fit_transform(final_data)"
   ]
  },
  {
   "cell_type": "code",
   "execution_count": 21,
   "metadata": {
    "collapsed": true
   },
   "outputs": [
    {
     "data": {
      "text/plain": [
       "Text(0.5, 0, 'Epoch')"
      ]
     },
     "execution_count": 21,
     "metadata": {},
     "output_type": "execute_result"
    },
    {
     "data": {
      "image/png": "[encoded data removed]",
      "text/plain": [
       "<Figure size 432x288 with 1 Axes>"
      ]
     },
     "metadata": {
      "needs_background": "light"
     },
     "output_type": "display_data"
    }
   ],
   "source": [
    "fig, ax = plt.subplots()\n",
    "ax.plot(reducer._history['loss'])\n",
    "ax.set_ylabel('Cross Entropy')\n",
    "ax.set_xlabel('Epoch')"
   ]
  },
  {
   "cell_type": "markdown",
   "metadata": {},
   "source": [
    "#### reshape resulting embedding into games, states, 2"
   ]
  },
  {
   "cell_type": "code",
   "execution_count": 22,
   "metadata": {},
   "outputs": [],
   "source": [
    "umap_embedding_split = reshape_embedding(umap_embedding, game_matrices)"
   ]
  },
  {
   "cell_type": "markdown",
   "metadata": {},
   "source": [
    "#### merge the embeddings with duplicate states and store"
   ]
  },
  {
   "cell_type": "code",
   "execution_count": 23,
   "metadata": {},
   "outputs": [],
   "source": [
    "concat_df = merge_embeddings_with_duplicate_states(dup_df, drop_dup_df, umap_embedding)\n",
    "concat_df.to_csv(umap_path)"
   ]
  }
 ],
 "metadata": {
  "kernelspec": {
   "display_name": "Python 3 (ipykernel)",
   "language": "python",
   "name": "python3"
  },
  "language_info": {
   "codemirror_mode": {
    "name": "ipython",
    "version": 3
   },
   "file_extension": ".py",
   "mimetype": "text/x-python",
   "name": "python",
   "nbconvert_exporter": "python",
   "pygments_lexer": "ipython3",
   "version": "3.9.5"
  }
 },
 "nbformat": 4,
 "nbformat_minor": 4
}
