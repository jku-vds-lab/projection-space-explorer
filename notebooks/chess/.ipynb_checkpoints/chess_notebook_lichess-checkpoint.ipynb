{
 "cells": [
  {
   "cell_type": "code",
   "execution_count": 1,
   "metadata": {},
   "outputs": [],
   "source": [
    "from pgn2gif import chess\n",
    "import numpy as np\n",
    "from openTSNE import TSNE\n",
    "from openTSNE.callbacks import ErrorApproximations\n",
    "from matplotlib import pyplot as plt\n",
    "from scipy import interpolate\n",
    "import re\n",
    "import pandas as pd\n",
    "\n",
    "FILE_NAME = '/mnt/d/Work/CG Institute/chess/lichess data/lichess_db_standard_rated_2021-08.pgn'"
   ]
  },
  {
   "cell_type": "code",
   "execution_count": 2,
   "metadata": {},
   "outputs": [],
   "source": [
    "def state_to_vector(state):\n",
    "    piece_dict = {\n",
    "        'wr': [1,0,0,0,0,0,0,0,0,0,0,0,0],\n",
    "        'wn': [0,1,0,0,0,0,0,0,0,0,0,0,0],\n",
    "        'wb': [0,0,1,0,0,0,0,0,0,0,0,0,0],\n",
    "        'wk': [0,0,0,1,0,0,0,0,0,0,0,0,0],\n",
    "        'wq': [0,0,0,0,1,0,0,0,0,0,0,0,0],\n",
    "        'wp': [0,0,0,0,0,1,0,0,0,0,0,0,0],\n",
    "        'br': [0,0,0,0,0,0,1,0,0,0,0,0,0],\n",
    "        'bn': [0,0,0,0,0,0,0,1,0,0,0,0,0],\n",
    "        'bb': [0,0,0,0,0,0,0,0,1,0,0,0,0],\n",
    "        'bk': [0,0,0,0,0,0,0,0,0,1,0,0,0],\n",
    "        'bq': [0,0,0,0,0,0,0,0,0,0,1,0,0],\n",
    "        'bp': [0,0,0,0,0,0,0,0,0,0,0,1,0],\n",
    "        '':   [0,0,0,0,0,0,0,0,0,0,0,0,1],\n",
    "    }    \n",
    "    state_list = list(state.values())    \n",
    "    vector = []\n",
    "    for piece in state_list:\n",
    "        vector.append(piece_dict[piece])\n",
    "    return np.array(vector).ravel()\n",
    "\n",
    "def vector_to_state(vector):\n",
    "    vec_dict = {\n",
    "        '1000000000000': \"wr\",\n",
    "        '0100000000000': \"wn\",\n",
    "        '0010000000000': \"wb\",\n",
    "        '0001000000000': \"wk\",\n",
    "        '0000100000000': \"wq\",\n",
    "        '0000010000000': \"wp\",\n",
    "        '0000001000000': \"br\",\n",
    "        '0000000100000': \"bn\",\n",
    "        '0000000010000': \"bb\",\n",
    "        '0000000001000': \"bk\",\n",
    "        '0000000000100': \"bq\",\n",
    "        '0000000000010': \"bp\",\n",
    "        '0000000000001': \"\"\n",
    "    }\n",
    "    \n",
    "    return vec_dict[vector]"
   ]
  },
  {
   "cell_type": "code",
   "execution_count": 3,
   "metadata": {},
   "outputs": [],
   "source": [
    "def game_to_vectors(file):\n",
    "    game = chess.ChessGame(file)\n",
    "    vectors = [state_to_vector(game.state)]\n",
    "    while not game.is_finished:\n",
    "        try:\n",
    "            game.next()\n",
    "        except:\n",
    "            pass\n",
    "        vectors.append(state_to_vector(game.state))\n",
    "    return np.stack(vectors)"
   ]
  },
  {
   "cell_type": "code",
   "execution_count": 4,
   "metadata": {},
   "outputs": [],
   "source": [
    "def get_moves_from_pgn(pgn):\n",
    "    with open(pgn) as p:\n",
    "        data = p.read()\n",
    "        data = re.sub(r'\\{.*?\\}', '', data)  # Removes pgn comments\n",
    "        moves = re.findall(\n",
    "            r'[a-h]x?[a-h]?[1-8]=?[BKNRQ]?|O-O-?O?|[BKNRQ][a-h1-8]?[a-h1-8]?x?[a-h][1-8]',\n",
    "            data)\n",
    "        return [move.replace('x', '') for move in moves]"
   ]
  },
  {
   "cell_type": "markdown",
   "metadata": {},
   "source": [
    "# method for retrieving all metadata"
   ]
  },
  {
   "cell_type": "code",
   "execution_count": 5,
   "metadata": {},
   "outputs": [],
   "source": [
    "def get_metadata_from_pgn(pgn):\n",
    "    with open(pgn) as p:\n",
    "        data = p.read()\n",
    "        \n",
    "        # per mvoe metadata\n",
    "        evals = re.findall(r'\\[%eval (.*?)\\]',data)\n",
    "        clks = re.findall(r'\\[%clk (.*?)\\]',data)\n",
    "        # add metadata for before first move\n",
    "        evals = ['0']+evals\n",
    "        clks = ['0:00:00'] + clks\n",
    "        \n",
    "        # per game metadata\n",
    "        data = re.sub(r'\\{.*?\\}', '', data)  # Removes pgn comments\n",
    "        m = re.findall(r'\\[(.*) \"(.*)\"]',data)\n",
    "        metadata_keys = [i[0] for i in m]\n",
    "        metadata_values = [i[1].replace(',',';') for i in m]\n",
    "        \n",
    "        return dict(zip(metadata_keys, metadata_values)), evals, clks"
   ]
  },
  {
   "cell_type": "code",
   "execution_count": 6,
   "metadata": {},
   "outputs": [
    {
     "name": "stdout",
     "output_type": "stream",
     "text": [
      "start loading\n"
     ]
    }
   ],
   "source": [
    "print(\"start loading\")"
   ]
  },
  {
   "cell_type": "markdown",
   "metadata": {},
   "source": [
    "# Extract individual games from PGN file"
   ]
  },
  {
   "cell_type": "code",
   "execution_count": 7,
   "metadata": {},
   "outputs": [],
   "source": [
    "lines_to_read = 800000"
   ]
  },
  {
   "cell_type": "code",
   "execution_count": 8,
   "metadata": {},
   "outputs": [
    {
     "name": "stdout",
     "output_type": "stream",
     "text": [
      "[Event \"Rated UltraBullet game\"]\n",
      "[Site \"https://lichess.org/1kMq0rEz\"]\n",
      "[Date \"2021.08.01\"]\n",
      "[Round \"-\"]\n",
      "[White \"Body9\"]\n",
      "[Black \"Snlyldrm37\"]\n",
      "[Result \"0-1\"]\n",
      "[UTCDate \"2021.08.01\"]\n",
      "[UTCTime \"00:30:19\"]\n",
      "[WhiteElo \"1300\"]\n",
      "[BlackElo \"1486\"]\n",
      "[WhiteRatingDiff \"-3\"]\n",
      "[BlackRatingDiff \"+3\"]\n",
      "[ECO \"A40\"]\n",
      "[Opening \"English Defense\"]\n",
      "[TimeControl \"15+0\"]\n",
      "[Termination \"Time forfeit\"]\n",
      "\n",
      "1. d4 { [%clk 0:00:15] } 1... b6 { [%clk 0:00:15] } 2. c4 { [%clk 0:00:15] } 2... Bb7 { [%clk 0:00:15] } 3. e4 { [%clk 0:00:14] } 3... e6 { [%clk 0:00:13] } 4. d5 { [%clk 0:00:14] } 4... d6 { [%clk 0:00:13] } 5. dxe6 { [%clk 0:00:13] } 5... fxe6 { [%clk 0:00:13] } 6. c5 { [%clk 0:00:13] } 6... Bxe4 { [%clk 0:00:12] } 7. c6 { [%clk 0:00:13] } 7... Bxb1 { [%clk 0:00:11] } 8. Rxb1 { [%clk 0:00:12] } 8... Nxc6 { [%clk 0:00:10] } 9. Qxd6 { [%clk 0:00:12] } 9... Qxd6 { [%clk 0:00:09] } 10. f3 { [%clk 0:00:11] } 10... Qb4+ { [%clk 0:00:08] } 11. Bd2 { [%clk 0:00:10] } 11... Qa5 { [%clk 0:00:08] } 12. Bxa5 { [%clk 0:00:08] } 12... bxa5 { [%clk 0:00:08] } 13. Ne2 { [%clk 0:00:08] } 13... Rd8 { [%clk 0:00:08] } 14. Nf4 { [%clk 0:00:07] } 14... Bb4+ { [%clk 0:00:06] } 15. Kf2 { [%clk 0:00:06] } 15... e5 { [%clk 0:00:06] } 16. Kg1 { [%clk 0:00:06] } 16... exf4 { [%clk 0:00:06] } 17. g3 { [%clk 0:00:05] } 17... Nf6 { [%clk 0:00:06] } 18. gxf4 { [%clk 0:00:04] } 18... O-O { [%clk 0:00:06] } 19. f5 { [%clk 0:00:03] } 19... Nd5 { [%clk 0:00:05] } 20. h4 { [%clk 0:00:03] } 20... Nf4 { [%clk 0:00:05] } 21. h5 { [%clk 0:00:03] } 21... Ne2+ { [%clk 0:00:05] } 22. Bxe2 { [%clk 0:00:02] } 22... Rxf5 { [%clk 0:00:04] } 23. Bb5 { [%clk 0:00:02] } 23... Rxf3 { [%clk 0:00:04] } 24. Bxc6 { [%clk 0:00:01] } 24... Rd2 { [%clk 0:00:03] } 25. Rf1 { [%clk 0:00:01] } 25... Rff2 { [%clk 0:00:02] } 26. Rxf2 { [%clk 0:00:01] } 26... Rxf2 { [%clk 0:00:02] } 27. Kxf2 { [%clk 0:00:00] } 27... Bc5+ { [%clk 0:00:02] } 0-1\n",
      "39980\n"
     ]
    }
   ],
   "source": [
    "from pathlib import Path\n",
    "Path(\"games\").mkdir(parents=True, exist_ok=True)\n",
    "\n",
    "with open(FILE_NAME, 'r') as f:\n",
    "    all_games = ''.join([f.readline() for i in range(lines_to_read)])\n",
    "\n",
    "span = 2\n",
    "all_games = all_games.split(\"\\n\\n\")\n",
    "split_games  = [\"\\n\\n\".join(all_games[i:i+span]) for i in range(0, len(all_games), span)]\n",
    "print(split_games[-2])\n",
    "print(len(split_games))"
   ]
  },
  {
   "cell_type": "markdown",
   "metadata": {},
   "source": [
    "## filter out games without eval score or without clk"
   ]
  },
  {
   "cell_type": "code",
   "execution_count": 9,
   "metadata": {},
   "outputs": [
    {
     "name": "stdout",
     "output_type": "stream",
     "text": [
      "2228\n"
     ]
    }
   ],
   "source": [
    "# only games that contain clk and eval metadata for moves\n",
    "filtered = []\n",
    "for game in split_games:\n",
    "    if '%eval' in game and '%clk' in game:\n",
    "        filtered.append(game)\n",
    "split_games = filtered\n",
    "\n",
    "# sometimes there are individual turns that only have a clk but no eval, discard those games\n",
    "filtered = []\n",
    "for game in split_games:\n",
    "    m = re.findall(r'{ \\[%clk(.*?) (.*?)\\] }', game)\n",
    "    if len(m) == 0:\n",
    "        filtered.append(game)\n",
    "split_games = filtered\n",
    "\n",
    "print(len(split_games))"
   ]
  },
  {
   "cell_type": "markdown",
   "metadata": {},
   "source": [
    "## keep n games"
   ]
  },
  {
   "cell_type": "code",
   "execution_count": 10,
   "metadata": {},
   "outputs": [
    {
     "name": "stdout",
     "output_type": "stream",
     "text": [
      "2000\n",
      "[Event \"Rated Bullet game\"]\n",
      "[Site \"https://lichess.org/xSvZlUvX\"]\n",
      "[Date \"2021.08.01\"]\n",
      "[Round \"-\"]\n",
      "[White \"gutidaniel\"]\n",
      "[Black \"JonathanTB\"]\n",
      "[Result \"0-1\"]\n",
      "[UTCDate \"2021.08.01\"]\n",
      "[UTCTime \"00:26:48\"]\n",
      "[WhiteElo \"1076\"]\n",
      "[BlackElo \"1098\"]\n",
      "[WhiteRatingDiff \"-5\"]\n",
      "[BlackRatingDiff \"+5\"]\n",
      "[ECO \"C00\"]\n",
      "[Opening \"St. George Defense\"]\n",
      "[TimeControl \"120+1\"]\n",
      "[Termination \"Time forfeit\"]\n",
      "\n",
      "1. e4 { [%eval 0.24] [%clk 0:02:00] } 1... e6 { [%eval 0.13] [%clk 0:02:00] } 2. d4 { [%eval 0.0] [%clk 0:02:00] } 2... a6 { [%eval 0.48] [%clk 0:01:59] } 3. Nf3 { [%eval 0.29] [%clk 0:01:59] } 3... b5?! { [%eval 0.88] [%clk 0:02:00] } 4. c4 { [%eval 0.79] [%clk 0:01:58] } 4... c6?! { [%eval 1.36] [%clk 0:01:59] } 5. c5 { [%eval 0.98] [%clk 0:01:53] } 5... Bb7? { [%eval 3.68] [%clk 0:01:59] } 6. Bd3? { [%eval 1.17] [%clk 0:01:51] } 6... h6?? { [%eval 5.16] [%clk 0:01:55] } 7. O-O? { [%eval 2.74] [%clk 0:01:51] } 7... g5?? { [%eval 6.4] [%clk 0:01:55] } 8. Be3?? { [%eval 2.97] [%clk 0:01:44] } 8... g4? { [%eval 4.09] [%clk 0:01:55] } 9. Ne5 { [%eval 3.6] [%clk 0:01:43] } 9... h5 { [%eval 3.64] [%clk 0:01:54] } 10. Nc3 { [%eval 3.56] [%clk 0:01:34] } 10... Bg7? { [%eval 5.04] [%clk 0:01:54] } 11. Qd2 { [%eval 4.37] [%clk 0:00:58] } 11... Bxe5? { [%eval 6.58] [%clk 0:01:48] } 12. dxe5 { [%eval 6.47] [%clk 0:00:56] } 12... d6 { [%eval 8.91] [%clk 0:01:11] } 13. cxd6 { [%eval 6.36] [%clk 0:00:54] } 13... f6?? { [%eval 9.47] [%clk 0:01:08] } 14. exf6 { [%eval 9.89] [%clk 0:00:47] } 14... Nxf6 { [%eval 10.67] [%clk 0:01:01] } 15. Bg5 { [%eval 9.21] [%clk 0:00:42] } 15... Rf8 { [%eval 12.37] [%clk 0:00:52] } 16. e5 { [%eval 12.3] [%clk 0:00:40] } 16... Nbd7 { [%eval 12.4] [%clk 0:00:44] } 17. exf6 { [%eval 12.46] [%clk 0:00:31] } 17... Nxf6 { [%eval 12.53] [%clk 0:00:43] } 18. Bg6+ { [%eval 12.71] [%clk 0:00:30] } 18... Kd7 { [%eval 12.52] [%clk 0:00:41] } 19. Rad1 { [%eval 12.61] [%clk 0:00:17] } 19... Ra7 { [%eval 13.68] [%clk 0:00:24] } 20. Ne4 { [%eval 13.14] [%clk 0:00:15] } 20... Qa8?! { [%eval #5] [%clk 0:00:21] } 21. Nxf6+ { [%eval #10] [%clk 0:00:13] } 21... Rxf6 { [%eval 33.44] [%clk 0:00:19] } 22. Bxf6 { [%eval 14.0] [%clk 0:00:12] } 22... c5 { [%eval 15.09] [%clk 0:00:19] } 23. Be7 { [%eval 13.46] [%clk 0:00:12] } 23... Bxg2 { [%eval 13.36] [%clk 0:00:18] } 24. Qe3 { [%eval 12.44] [%clk 0:00:03] } 24... Bh1 { [%eval 16.37] [%clk 0:00:18] } 25. Qg3 { [%eval 11.92] [%clk 0:00:02] } 25... h4 { [%eval 13.5] [%clk 0:00:18] } 0-1\n"
     ]
    }
   ],
   "source": [
    "n_games = 2000\n",
    "split_games = split_games[:n_games]\n",
    "print(len(split_games))\n",
    "print(split_games[-1])"
   ]
  },
  {
   "cell_type": "markdown",
   "metadata": {},
   "source": [
    "## store individual games as PGN files"
   ]
  },
  {
   "cell_type": "code",
   "execution_count": 11,
   "metadata": {},
   "outputs": [],
   "source": [
    "for i in range(len(split_games)):\n",
    "    with open('games/game-{:05d}.pgn'.format(i+1),'w') as f:\n",
    "        f.write(split_games[i])"
   ]
  },
  {
   "cell_type": "code",
   "execution_count": 12,
   "metadata": {},
   "outputs": [
    {
     "name": "stdout",
     "output_type": "stream",
     "text": [
      "10000\n"
     ]
    }
   ],
   "source": [
    "notrandgames = ['games/game-{:05d}.pgn'.format(n+1) for n in range(10000)]\n",
    "print(len(notrandgames))"
   ]
  },
  {
   "cell_type": "markdown",
   "metadata": {},
   "source": [
    "# Loading games from individual PGN files"
   ]
  },
  {
   "cell_type": "code",
   "execution_count": 13,
   "metadata": {},
   "outputs": [
    {
     "name": "stdout",
     "output_type": "stream",
     "text": [
      "['TimeControl', 'UTCDate', 'Opening', 'White', 'Round', 'UTCTime', 'BlackElo', 'ECO', 'WhiteElo', 'Date', 'Termination', 'Result', 'Site', 'Event', 'Black']\n",
      "[{'Event': 'Rated Blitz tournament https://lichess.org/tournament/zTLnP8ob', 'Site': 'https://lichess.org/q5HJFu3Z', 'Date': '2021.08.01', 'Round': '-', 'White': 'Gersonz', 'Black': 'Scheyla_Perdomo26', 'Result': '1-0', 'UTCDate': '2021.08.01', 'UTCTime': '00:00:24', 'WhiteElo': '1552', 'BlackElo': '1321', 'ECO': 'B22', 'Opening': 'Sicilian Defense: Alapin Variation', 'TimeControl': '180+2', 'Termination': 'Time forfeit'}, {'Event': 'Rated Bullet game', 'Site': 'https://lichess.org/PstuIwhh', 'Date': '2021.08.01', 'Round': '-', 'White': 'Mezoo777000222', 'Black': 'rj270', 'Result': '0-1', 'UTCDate': '2021.08.01', 'UTCTime': '00:00:25', 'WhiteElo': '1083', 'BlackElo': '1099', 'ECO': 'B10', 'Opening': 'Caro-Kann Defense', 'TimeControl': '60+0', 'Termination': 'Time forfeit'}, {'Event': 'Rated Bullet game', 'Site': 'https://lichess.org/7Ne4f8st', 'Date': '2021.08.01', 'Round': '-', 'White': 'Fredylopez', 'Black': 'ig_olualabi', 'Result': '1-0', 'UTCDate': '2021.08.01', 'UTCTime': '00:00:25', 'WhiteElo': '1120', 'BlackElo': '1036', 'ECO': 'B23', 'Opening': 'Sicilian Defense: Closed; Traditional', 'TimeControl': '60+0', 'Termination': 'Time forfeit'}, {'Event': 'Rated Rapid tournament https://lichess.org/tournament/cu9aqMOJ', 'Site': 'https://lichess.org/ajRPL5gr', 'Date': '2021.08.01', 'Round': '-', 'White': 'Anastasia_mir', 'Black': 'TATHAoo7', 'Result': '0-1', 'UTCDate': '2021.08.01', 'UTCTime': '00:00:26', 'WhiteElo': '1511', 'BlackElo': '1503', 'ECO': 'B00', 'Opening': 'Carr Defense', 'TimeControl': '600+0', 'Termination': 'Normal'}, {'Event': 'Rated Blitz tournament https://lichess.org/tournament/JeUQ1f9Z', 'Site': 'https://lichess.org/R3ItqGHy', 'Date': '2021.08.01', 'Round': '-', 'White': 'MequinhoCover', 'Black': 'StenioVargas', 'Result': '1-0', 'UTCDate': '2021.08.01', 'UTCTime': '00:00:26', 'WhiteElo': '2062', 'BlackElo': '2151', 'ECO': 'B06', 'Opening': 'Pterodactyl Defense: Eastern; Anhanguera', 'TimeControl': '180+2', 'Termination': 'Normal'}, {'Event': 'Rated Blitz game', 'Site': 'https://lichess.org/q1m8E5GB', 'Date': '2021.08.01', 'Round': '-', 'White': 'Munzogra', 'Black': 'XenonHawk', 'Result': '1-0', 'UTCDate': '2021.08.01', 'UTCTime': '00:00:27', 'WhiteElo': '1460', 'BlackElo': '1455', 'ECO': 'B21', 'Opening': 'Sicilian Defense: Smith-Morra Gambit', 'TimeControl': '180+0', 'Termination': 'Time forfeit'}, {'Event': 'Rated Blitz game', 'Site': 'https://lichess.org/ou3kaOGV', 'Date': '2021.08.01', 'Round': '-', 'White': 'Owais20', 'Black': 'crazydio', 'Result': '1-0', 'UTCDate': '2021.08.01', 'UTCTime': '00:00:27', 'WhiteElo': '1441', 'BlackElo': '1443', 'ECO': 'C40', 'Opening': \"King's Pawn Game: Busch-Gass Gambit\", 'TimeControl': '180+0', 'Termination': 'Normal'}, {'Event': 'Rated Rapid game', 'Site': 'https://lichess.org/WfvlX54i', 'Date': '2021.08.01', 'Round': '-', 'White': 'Kr11000', 'Black': 'juliancj', 'Result': '0-1', 'UTCDate': '2021.08.01', 'UTCTime': '00:00:32', 'WhiteElo': '1843', 'BlackElo': '1849', 'ECO': 'E30', 'Opening': 'Nimzo-Indian Defense: Leningrad Variation', 'TimeControl': '600+0', 'Termination': 'Normal'}, {'Event': 'Rated Blitz game', 'Site': 'https://lichess.org/fhdS1fDM', 'Date': '2021.08.01', 'Round': '-', 'White': 'Eldiosdelajedrez2021', 'Black': 'KILLERVIENNA', 'Result': '1-0', 'UTCDate': '2021.08.01', 'UTCTime': '00:00:33', 'WhiteElo': '1608', 'BlackElo': '1976', 'ECO': 'A10', 'Opening': 'English Opening: Anglo-Dutch Defense', 'TimeControl': '180+0', 'Termination': 'Time forfeit'}, {'Event': 'Rated Blitz game', 'Site': 'https://lichess.org/E1GAZJ0K', 'Date': '2021.08.01', 'Round': '-', 'White': 'juancruzariasTDF', 'Black': 'Guzman70', 'Result': '1/2-1/2', 'UTCDate': '2021.08.01', 'UTCTime': '00:00:33', 'WhiteElo': '2601', 'BlackElo': '2404', 'ECO': 'B14', 'Opening': 'Caro-Kann Defense: Panov Attack; Fianchetto Defense', 'TimeControl': '180+0', 'Termination': 'Normal'}, {'Event': 'Rated Rapid tournament https://lichess.org/tournament/FPGcdrg4', 'Site': 'https://lichess.org/j6k3rxzG', 'Date': '2021.08.01', 'Round': '-', 'White': 'Matsubot05', 'Black': 'buitrecito', 'Result': '1/2-1/2', 'UTCDate': '2021.08.01', 'UTCTime': '00:00:03', 'WhiteElo': '1816', 'BlackElo': '1928', 'ECO': 'A30', 'Opening': 'English Opening: Symmetrical Variation', 'TimeControl': '420+3', 'Termination': 'Normal'}, {'Event': 'Rated Blitz tournament https://lichess.org/tournament/JTRjXWm8', 'Site': 'https://lichess.org/RFBYc5fI', 'Date': '2021.08.01', 'Round': '-', 'White': 'Moderate_Chess', 'Black': 'DennisMoreno', 'Result': '1-0', 'UTCDate': '2021.08.01', 'UTCTime': '00:00:03', 'WhiteElo': '2255', 'BlackElo': '2260', 'ECO': 'B50', 'Opening': 'Sicilian Defense: Delayed Alapin', 'TimeControl': '300+0', 'Termination': 'Normal'}, {'Event': 'Rated Bullet game', 'Site': 'https://lichess.org/KNTXHNBL', 'Date': '2021.08.01', 'Round': '-', 'White': 'Niclas90', 'Black': 'PabloMNZS', 'Result': '1-0', 'UTCDate': '2021.08.01', 'UTCTime': '00:00:03', 'WhiteElo': '1507', 'BlackElo': '1479', 'ECO': 'D20', 'Opening': \"Queen's Gambit Accepted: Old Variation\", 'TimeControl': '120+1', 'Termination': 'Normal'}, {'Event': 'Rated Blitz game', 'Site': 'https://lichess.org/ALhOGf4q', 'Date': '2021.08.01', 'Round': '-', 'White': 'AlexR09', 'Black': 'Outrunner', 'Result': '1-0', 'UTCDate': '2021.08.01', 'UTCTime': '00:00:04', 'WhiteElo': '2436', 'BlackElo': '2617', 'ECO': 'A04', 'Opening': 'Zukertort Opening: Sicilian Invitation', 'TimeControl': '180+2', 'Termination': 'Normal'}, {'Event': 'Rated Blitz game', 'Site': 'https://lichess.org/cRuWjt7M', 'Date': '2021.08.01', 'Round': '-', 'White': 'najlepszyz6', 'Black': 'andrewqa', 'Result': '0-1', 'UTCDate': '2021.08.01', 'UTCTime': '00:00:04', 'WhiteElo': '1545', 'BlackElo': '1572', 'ECO': 'C46', 'Opening': 'Four Knights Game: Halloween Gambit', 'TimeControl': '180+2', 'Termination': 'Normal'}, {'Event': 'Rated Blitz tournament https://lichess.org/tournament/zAVGui18', 'Site': 'https://lichess.org/YaQqZ6hR', 'Date': '2021.08.01', 'Round': '-', 'White': 'ChSalas', 'Black': 'RafinhaGOD', 'Result': '1-0', 'UTCDate': '2021.08.01', 'UTCTime': '00:00:05', 'WhiteElo': '2459', 'BlackElo': '2365', 'ECO': 'A04', 'Opening': 'Zukertort Opening: Herrstrom Gambit', 'TimeControl': '180+0', 'Termination': 'Normal'}, {'Event': 'Rated Blitz tournament https://lichess.org/tournament/CR5BEZjV', 'Site': 'https://lichess.org/wf7i6Prh', 'Date': '2021.08.01', 'Round': '-', 'White': 'chaneli16', 'Black': 'fishino', 'Result': '1-0', 'UTCDate': '2021.08.01', 'UTCTime': '00:00:35', 'WhiteElo': '2044', 'BlackElo': '2038', 'ECO': 'A48', 'Opening': 'East Indian Defense', 'TimeControl': '180+0', 'Termination': 'Time forfeit'}, {'Event': 'Rated Blitz tournament https://lichess.org/tournament/CR5BEZjV', 'Site': 'https://lichess.org/VBq8jrwi', 'Date': '2021.08.01', 'Round': '-', 'White': 'offspring1476', 'Black': 'Guillermotello2150', 'Result': '0-1', 'UTCDate': '2021.08.01', 'UTCTime': '00:00:35', 'WhiteElo': '2383', 'BlackElo': '2383', 'ECO': 'A49', 'Opening': 'Indian Defense: Przepiorka Variation', 'TimeControl': '180+0', 'Termination': 'Normal'}, {'Event': 'Rated Blitz tournament https://lichess.org/tournament/CR5BEZjV', 'Site': 'https://lichess.org/DCW2AiYv', 'Date': '2021.08.01', 'Round': '-', 'White': 'Fasmc17', 'Black': 'EGNfanclub', 'Result': '0-1', 'UTCDate': '2021.08.01', 'UTCTime': '00:00:35', 'WhiteElo': '2412', 'BlackElo': '2404', 'ECO': 'D14', 'Opening': 'Slav Defense: Exchange Variation; Symmetrical Line', 'TimeControl': '180+0', 'Termination': 'Normal'}, {'Event': 'Rated Blitz tournament https://lichess.org/tournament/CR5BEZjV', 'Site': 'https://lichess.org/RleAAKpJ', 'Date': '2021.08.01', 'Round': '-', 'White': 'Spaine', 'Black': 'eldidi', 'Result': '1-0', 'UTCDate': '2021.08.01', 'UTCTime': '00:00:35', 'WhiteElo': '2542', 'BlackElo': '2413', 'ECO': 'B22', 'Opening': 'Sicilian Defense: Alapin Variation; Smith-Morra Declined', 'TimeControl': '180+0', 'Termination': 'Normal'}, {'Event': 'Rated Bullet game', 'Site': 'https://lichess.org/QLKsV3wP', 'Date': '2021.08.01', 'Round': '-', 'White': 'nyal', 'Black': 'yura1234567899', 'Result': '1-0', 'UTCDate': '2021.08.01', 'UTCTime': '00:00:35', 'WhiteElo': '1594', 'BlackElo': '1679', 'ECO': 'A40', 'Opening': 'Horwitz Defense', 'TimeControl': '60+0', 'Termination': 'Normal'}, {'Event': 'Rated Blitz game', 'Site': 'https://lichess.org/UIEzjgGi', 'Date': '2021.08.01', 'Round': '-', 'White': 'Apu1969', 'Black': 'gerar3351', 'Result': '0-1', 'UTCDate': '2021.08.01', 'UTCTime': '00:00:35', 'WhiteElo': '1856', 'BlackElo': '1977', 'ECO': 'D00', 'Opening': \"Queen's Pawn Game: Stonewall Attack\", 'TimeControl': '300+0', 'Termination': 'Normal'}, {'Event': 'Rated Rapid game', 'Site': 'https://lichess.org/HoQn42bj', 'Date': '2021.08.01', 'Round': '-', 'White': 'Hicham_chess', 'Black': 'GabrielSarfati', 'Result': '0-1', 'UTCDate': '2021.08.01', 'UTCTime': '00:00:37', 'WhiteElo': '1969', 'BlackElo': '1918', 'ECO': 'A57', 'Opening': 'Benko Gambit', 'TimeControl': '600+5', 'Termination': 'Normal'}, {'Event': 'Rated Rapid game', 'Site': 'https://lichess.org/7L4zxlhR', 'Date': '2021.08.01', 'Round': '-', 'White': 'mtywdc', 'Black': 'Apocalipchess', 'Result': '0-1', 'UTCDate': '2021.08.01', 'UTCTime': '00:00:37', 'WhiteElo': '2233', 'BlackElo': '2138', 'ECO': 'C45', 'Opening': 'Scotch Game: Schmidt Variation', 'TimeControl': '600+5', 'Termination': 'Normal'}, {'Event': 'Rated Rapid game', 'Site': 'https://lichess.org/Ejq0Q8eG', 'Date': '2021.08.01', 'Round': '-', 'White': 'The-wolf86', 'Black': 'Jorn_chess', 'Result': '0-1', 'UTCDate': '2021.08.01', 'UTCTime': '00:00:37', 'WhiteElo': '2041', 'BlackElo': '2001', 'ECO': 'C42', 'Opening': 'Russian Game: Italian Variation', 'TimeControl': '600+5', 'Termination': 'Normal'}, {'Event': 'Rated Blitz game', 'Site': 'https://lichess.org/dsFAbiII', 'Date': '2021.08.01', 'Round': '-', 'White': 'billy55', 'Black': 'cruh', 'Result': '1-0', 'UTCDate': '2021.08.01', 'UTCTime': '00:00:43', 'WhiteElo': '727', 'BlackElo': '882', 'ECO': 'C20', 'Opening': 'Portuguese Opening', 'TimeControl': '180+0', 'Termination': 'Time forfeit'}, {'Event': 'Rated Blitz game', 'Site': 'https://lichess.org/Ugs0D5J5', 'Date': '2021.08.01', 'Round': '-', 'White': 'Charles_tony', 'Black': 'JaymeMiranda', 'Result': '0-1', 'UTCDate': '2021.08.01', 'UTCTime': '00:00:43', 'WhiteElo': '2166', 'BlackElo': '2320', 'ECO': 'A13', 'Opening': 'English Opening: Agincourt Defense; Catalan Defense; Semi-Slav Defense', 'TimeControl': '180+2', 'Termination': 'Normal'}, {'Event': 'Rated Bullet tournament https://lichess.org/tournament/iyUwBp3P', 'Site': 'https://lichess.org/PDxlsaSW', 'Date': '2021.08.01', 'Round': '-', 'White': 'Magnocarlo', 'Black': 'christianmendoza285', 'Result': '0-1', 'UTCDate': '2021.08.01', 'UTCTime': '00:00:43', 'WhiteElo': '1341', 'BlackElo': '1897', 'ECO': 'B84', 'Opening': 'Sicilian Defense: Scheveningen Variation; Classical Variation', 'TimeControl': '120+0', 'Termination': 'Time forfeit'}, {'Event': 'Rated Bullet game', 'Site': 'https://lichess.org/4i0lIQSk', 'Date': '2021.08.01', 'Round': '-', 'White': 'Montoyaa', 'Black': 'KayakGuy', 'Result': '0-1', 'UTCDate': '2021.08.01', 'UTCTime': '00:00:43', 'WhiteElo': '2169', 'BlackElo': '2207', 'ECO': 'E21', 'Opening': 'Nimzo-Indian Defense: Three Knights Variation', 'TimeControl': '60+0', 'Termination': 'Normal'}, {'Event': 'Rated Blitz game', 'Site': 'https://lichess.org/zyRLJvlq', 'Date': '2021.08.01', 'Round': '-', 'White': 'fmpion', 'Black': 'charney2', 'Result': '0-1', 'UTCDate': '2021.08.01', 'UTCTime': '00:00:44', 'WhiteElo': '1844', 'BlackElo': '1857', 'ECO': 'B23', 'Opening': 'Sicilian Defense: Grand Prix Attack', 'TimeControl': '300+3', 'Termination': 'Time forfeit'}, {'Event': 'Rated Blitz game', 'Site': 'https://lichess.org/cYlh2kJ1', 'Date': '2021.08.01', 'Round': '-', 'White': 'Wahyu4', 'Black': 'NoSleepBlunder', 'Result': '1-0', 'UTCDate': '2021.08.01', 'UTCTime': '00:00:44', 'WhiteElo': '1266', 'BlackElo': '1280', 'ECO': 'E60', 'Opening': 'Indian Defense: West Indian Defense', 'TimeControl': '300+3', 'Termination': 'Time forfeit'}, {'Event': 'Rated Blitz game', 'Site': 'https://lichess.org/C2bsokhy', 'Date': '2021.08.01', 'Round': '-', 'White': 'Ash-12', 'Black': 'T35090', 'Result': '0-1', 'UTCDate': '2021.08.01', 'UTCTime': '00:00:44', 'WhiteElo': '1537', 'BlackElo': '1531', 'ECO': 'E71', 'Opening': \"King's Indian Defense: Makogonov Variation\", 'TimeControl': '300+3', 'Termination': 'Time forfeit'}, {'Event': 'Rated Rapid game', 'Site': 'https://lichess.org/mlLyiS2Y', 'Date': '2021.08.01', 'Round': '-', 'White': 'ankitdoshi1', 'Black': 'JLEnamorado', 'Result': '0-1', 'UTCDate': '2021.08.01', 'UTCTime': '00:00:00', 'WhiteElo': '1275', 'BlackElo': '2034', 'ECO': 'A45', 'Opening': 'Amazon Attack: Siberian Attack', 'TimeControl': '600+0', 'Termination': 'Time forfeit'}, {'Event': 'Rated Rapid game', 'Site': 'https://lichess.org/9zhTq3yw', 'Date': '2021.08.01', 'Round': '-', 'White': 'laserchess', 'Black': 'Gmmobs', 'Result': '0-1', 'UTCDate': '2021.08.01', 'UTCTime': '00:00:00', 'WhiteElo': '1578', 'BlackElo': '2135', 'ECO': 'B15', 'Opening': 'Caro-Kann Defense: Tartakower Variation', 'TimeControl': '600+0', 'Termination': 'Normal'}, {'Event': 'Rated Blitz game', 'Site': 'https://lichess.org/Vr5vQJzo', 'Date': '2021.08.01', 'Round': '-', 'White': 'Ferjasali', 'Black': 'Crisiqueira1', 'Result': '1-0', 'UTCDate': '2021.08.01', 'UTCTime': '00:00:00', 'WhiteElo': '1914', 'BlackElo': '1529', 'ECO': 'B21', 'Opening': 'Sicilian Defense: Smith-Morra Gambit Accepted; Scheveningen Formation', 'TimeControl': '420+0', 'Termination': 'Time forfeit'}, {'Event': 'Rated Bullet game', 'Site': 'https://lichess.org/1TI8mEBz', 'Date': '2021.08.01', 'Round': '-', 'White': 'KushDoktor', 'Black': 'Youssef477', 'Result': '1-0', 'UTCDate': '2021.08.01', 'UTCTime': '00:00:01', 'WhiteElo': '848', 'BlackElo': '768', 'ECO': 'D07', 'Opening': \"Queen's Gambit Declined: Chigorin Defense\", 'TimeControl': '60+0', 'Termination': 'Time forfeit'}, {'Event': 'Rated Blitz game', 'Site': 'https://lichess.org/e8g5Rdxc', 'Date': '2021.08.01', 'Round': '-', 'White': 'RL12', 'Black': 'fussi', 'Result': '1/2-1/2', 'UTCDate': '2021.08.01', 'UTCTime': '00:00:03', 'WhiteElo': '2517', 'BlackElo': '2499', 'ECO': 'B12', 'Opening': 'Caro-Kann Defense: Advance Variation; Short Variation', 'TimeControl': '180+0', 'Termination': 'Time forfeit'}, {'Event': 'Rated Rapid tournament https://lichess.org/tournament/P1T3MvYX', 'Site': 'https://lichess.org/LS1SVvMK', 'Date': '2021.08.01', 'Round': '-', 'White': 'Auraa51', 'Black': 'Maxell411', 'Result': '1-0', 'UTCDate': '2021.08.01', 'UTCTime': '00:00:09', 'WhiteElo': '1211', 'BlackElo': '1214', 'ECO': 'B00', 'Opening': 'Nimzowitsch Defense; Declined Variation', 'TimeControl': '600+0', 'Termination': 'Normal'}, {'Event': 'Rated Rapid tournament https://lichess.org/tournament/P1T3MvYX', 'Site': 'https://lichess.org/TUsBP3t0', 'Date': '2021.08.01', 'Round': '-', 'White': 'ibrahim0MC', 'Black': 'Mikeru475', 'Result': '0-1', 'UTCDate': '2021.08.01', 'UTCTime': '00:00:09', 'WhiteElo': '993', 'BlackElo': '1098', 'ECO': 'D00', 'Opening': \"Queen's Pawn Game: Mason Variation\", 'TimeControl': '600+0', 'Termination': 'Normal'}, {'Event': 'Rated Blitz game', 'Site': 'https://lichess.org/VSogV0nt', 'Date': '2021.08.01', 'Round': '-', 'White': 'yolospg', 'Black': 'PRangelBomeisel', 'Result': '1/2-1/2', 'UTCDate': '2021.08.01', 'UTCTime': '00:00:13', 'WhiteElo': '1500', 'BlackElo': '1659', 'ECO': 'B12', 'Opening': 'Caro-Kann Defense: Advance Variation', 'TimeControl': '180+2', 'Termination': 'Normal'}, {'Event': 'Rated Blitz game', 'Site': 'https://lichess.org/8EF157bF', 'Date': '2021.08.01', 'Round': '-', 'White': 'AwakenedMemory', 'Black': 'hakangsl', 'Result': '1-0', 'UTCDate': '2021.08.01', 'UTCTime': '00:00:13', 'WhiteElo': '1862', 'BlackElo': '1861', 'ECO': 'A02', 'Opening': 'Bird Opening', 'TimeControl': '300+0', 'Termination': 'Normal'}, {'Event': 'Rated Blitz game', 'Site': 'https://lichess.org/A8kGbJr7', 'Date': '2021.08.01', 'Round': '-', 'White': 'Mashiaj', 'Black': 'YummyPawns', 'Result': '0-1', 'UTCDate': '2021.08.01', 'UTCTime': '00:00:13', 'WhiteElo': '1501', 'BlackElo': '1513', 'ECO': 'B06', 'Opening': 'Modern Defense', 'TimeControl': '300+0', 'Termination': 'Normal'}, {'Event': 'Rated Blitz game', 'Site': 'https://lichess.org/n2Bqjo4X', 'Date': '2021.08.01', 'Round': '-', 'White': 'jtblin', 'Black': 'Badking1981', 'Result': '1-0', 'UTCDate': '2021.08.01', 'UTCTime': '00:00:13', 'WhiteElo': '1241', 'BlackElo': '1242', 'ECO': 'C50', 'Opening': 'Italian Game: Anti-Fried Liver Defense', 'TimeControl': '300+0', 'Termination': 'Normal'}, {'Event': 'Rated Blitz tournament https://lichess.org/tournament/zAVGui18', 'Site': 'https://lichess.org/022DQ15C', 'Date': '2021.08.01', 'Round': '-', 'White': 'manitodeplomo', 'Black': 'greennight', 'Result': '0-1', 'UTCDate': '2021.08.01', 'UTCTime': '00:00:05', 'WhiteElo': '2507', 'BlackElo': '2649', 'ECO': 'A00', 'Opening': 'Van Geet Opening', 'TimeControl': '180+0', 'Termination': 'Normal'}, {'Event': 'Rated Blitz tournament https://lichess.org/tournament/zAVGui18', 'Site': 'https://lichess.org/Kn5RdaGl', 'Date': '2021.08.01', 'Round': '-', 'White': 'Heinemansito', 'Black': 'Boudicca64', 'Result': '0-1', 'UTCDate': '2021.08.01', 'UTCTime': '00:00:05', 'WhiteElo': '1947', 'BlackElo': '2011', 'ECO': 'A06', 'Opening': 'Zukertort Opening: Tennison Gambit', 'TimeControl': '180+0', 'Termination': 'Normal'}, {'Event': 'Rated Blitz game', 'Site': 'https://lichess.org/hTSoBx1X', 'Date': '2021.08.01', 'Round': '-', 'White': 'Diego544', 'Black': 'Safwat123', 'Result': '1-0', 'UTCDate': '2021.08.01', 'UTCTime': '00:00:06', 'WhiteElo': '1795', 'BlackElo': '1687', 'ECO': 'C61', 'Opening': 'Ruy Lopez: Bird Variation', 'TimeControl': '300+3', 'Termination': 'Normal'}, {'Event': 'Rated Rapid game', 'Site': 'https://lichess.org/RghX0KIU', 'Date': '2021.08.01', 'Round': '-', 'White': 'handry_conan', 'Black': 'PauloMendes71', 'Result': '1-0', 'UTCDate': '2021.08.01', 'UTCTime': '00:00:07', 'WhiteElo': '1977', 'BlackElo': '1930', 'ECO': 'A06', 'Opening': 'Zukertort Opening: Tennison Gambit', 'TimeControl': '600+0', 'Termination': 'Normal'}, {'Event': 'Rated Rapid game', 'Site': 'https://lichess.org/Cnp3664G', 'Date': '2021.08.01', 'Round': '-', 'White': 'troutcar', 'Black': 'burofiz', 'Result': '0-1', 'UTCDate': '2021.08.01', 'UTCTime': '00:00:08', 'WhiteElo': '1984', 'BlackElo': '2028', 'ECO': 'C42', 'Opening': 'Russian Game', 'TimeControl': '600+0', 'Termination': 'Time forfeit'}, {'Event': 'Rated Blitz game', 'Site': 'https://lichess.org/xjGhaQtw', 'Date': '2021.08.01', 'Round': '-', 'White': 'strange24', 'Black': 'albertwinestein', 'Result': '1-0', 'UTCDate': '2021.08.01', 'UTCTime': '00:00:08', 'WhiteElo': '1609', 'BlackElo': '1631', 'ECO': 'C45', 'Opening': 'Scotch Game: Classical Variation', 'TimeControl': '300+0', 'Termination': 'Normal'}, {'Event': 'Rated Blitz tournament https://lichess.org/tournament/ggHdw75U', 'Site': 'https://lichess.org/zByiJ3vl', 'Date': '2021.08.01', 'Round': '-', 'White': 'gvgual', 'Black': 'samidescalona2002', 'Result': '0-1', 'UTCDate': '2021.08.01', 'UTCTime': '00:00:28', 'WhiteElo': '2460', 'BlackElo': '2602', 'ECO': 'E62', 'Opening': \"King's Indian Defense: Fianchetto Variation; Larsen Defense\", 'TimeControl': '180+0', 'Termination': 'Normal'}, {'Event': 'Rated Blitz tournament https://lichess.org/tournament/ggHdw75U', 'Site': 'https://lichess.org/MqMWhV41', 'Date': '2021.08.01', 'Round': '-', 'White': 'THUNDERCTAS13', 'Black': 'soldadoCR06', 'Result': '1-0', 'UTCDate': '2021.08.01', 'UTCTime': '00:00:28', 'WhiteElo': '2127', 'BlackElo': '2130', 'ECO': 'A58', 'Opening': 'Benko Gambit Accepted: Fully Accepted Variation', 'TimeControl': '180+0', 'Termination': 'Time forfeit'}, {'Event': 'Rated Blitz tournament https://lichess.org/tournament/ggHdw75U', 'Site': 'https://lichess.org/Ov1aUvEq', 'Date': '2021.08.01', 'Round': '-', 'White': 'DefiantChair', 'Black': 'balachess2006', 'Result': '0-1', 'UTCDate': '2021.08.01', 'UTCTime': '00:00:28', 'WhiteElo': '2456', 'BlackElo': '2481', 'ECO': 'B09', 'Opening': 'Pirc Defense: Austrian Attack; Dragon Formation', 'TimeControl': '180+0', 'Termination': 'Normal'}, {'Event': 'Rated Blitz game', 'Site': 'https://lichess.org/K0aFaZUH', 'Date': '2021.08.01', 'Round': '-', 'White': 'z99j', 'Black': 'zmove', 'Result': '1-0', 'UTCDate': '2021.08.01', 'UTCTime': '00:00:29', 'WhiteElo': '2015', 'BlackElo': '1922', 'ECO': 'B07', 'Opening': 'Czech Defense', 'TimeControl': '300+0', 'Termination': 'Time forfeit'}, {'Event': 'Rated Blitz game', 'Site': 'https://lichess.org/BuC5w1Jk', 'Date': '2021.08.01', 'Round': '-', 'White': 'PreisedHawk', 'Black': 'marausan', 'Result': '0-1', 'UTCDate': '2021.08.01', 'UTCTime': '00:00:29', 'WhiteElo': '1915', 'BlackElo': '1908', 'ECO': 'A51', 'Opening': 'Indian Defense: Budapest Defense', 'TimeControl': '180+2', 'Termination': 'Normal'}, {'Event': 'Rated Blitz game', 'Site': 'https://lichess.org/M5CXy8GZ', 'Date': '2021.08.01', 'Round': '-', 'White': 'Aguja', 'Black': 'BlondEngineer', 'Result': '0-1', 'UTCDate': '2021.08.01', 'UTCTime': '00:00:29', 'WhiteElo': '1381', 'BlackElo': '1484', 'ECO': 'C50', 'Opening': 'Four Knights Game: Italian Variation', 'TimeControl': '180+2', 'Termination': 'Normal'}, {'Event': 'Rated Blitz game', 'Site': 'https://lichess.org/XkWKT6wM', 'Date': '2021.08.01', 'Round': '-', 'White': 'jjgoodday', 'Black': 'Nakamura101', 'Result': '0-1', 'UTCDate': '2021.08.01', 'UTCTime': '00:00:31', 'WhiteElo': '1484', 'BlackElo': '1512', 'ECO': 'B06', 'Opening': 'Modern Defense', 'TimeControl': '180+2', 'Termination': 'Time forfeit'}, {'Event': 'Rated Blitz game', 'Site': 'https://lichess.org/hkf1Ez3L', 'Date': '2021.08.01', 'Round': '-', 'White': 'Cindyespana30', 'Black': 'merrkuh', 'Result': '0-1', 'UTCDate': '2021.08.01', 'UTCTime': '00:00:31', 'WhiteElo': '731', 'BlackElo': '747', 'ECO': 'C20', 'Opening': \"King's Pawn Game: Leonardis Variation\", 'TimeControl': '300+3', 'Termination': 'Time forfeit'}, {'Event': 'Rated Blitz game', 'Site': 'https://lichess.org/q1QD2oA3', 'Date': '2021.08.01', 'Round': '-', 'White': 'Celebi23', 'Black': 'pralaym', 'Result': '1/2-1/2', 'UTCDate': '2021.08.01', 'UTCTime': '00:00:31', 'WhiteElo': '1286', 'BlackElo': '1206', 'ECO': 'C48', 'Opening': 'Four Knights Game: Spanish Variation', 'TimeControl': '300+3', 'Termination': 'Normal'}, {'Event': 'Rated Bullet tournament https://lichess.org/tournament/ona064pj', 'Site': 'https://lichess.org/46XvsQRQ', 'Date': '2021.08.01', 'Round': '-', 'White': 'starsheens', 'Black': 'Tamsho79', 'Result': '0-1', 'UTCDate': '2021.08.01', 'UTCTime': '00:00:14', 'WhiteElo': '1554', 'BlackElo': '1700', 'ECO': 'C45', 'Opening': 'Scotch Game: Classical Variation', 'TimeControl': '60+2', 'Termination': 'Normal'}, {'Event': 'Rated Blitz tournament https://lichess.org/tournament/3x0nUOEL', 'Site': 'https://lichess.org/Sx1cfj5W', 'Date': '2021.08.01', 'Round': '-', 'White': 'Asianed', 'Black': 'Oxxxy1992199215', 'Result': '0-1', 'UTCDate': '2021.08.01', 'UTCTime': '00:00:14', 'WhiteElo': '1399', 'BlackElo': '1389', 'ECO': 'A45', 'Opening': 'Indian Defense', 'TimeControl': '300+0', 'Termination': 'Normal'}, {'Event': 'Rated Blitz game', 'Site': 'https://lichess.org/bawGgl2u', 'Date': '2021.08.01', 'Round': '-', 'White': 'clezon', 'Black': 'niklas_8', 'Result': '1-0', 'UTCDate': '2021.08.01', 'UTCTime': '00:00:21', 'WhiteElo': '1866', 'BlackElo': '1892', 'ECO': 'A22', 'Opening': \"English Opening: King's English Variation; Two Knights Variation\", 'TimeControl': '180+2', 'Termination': 'Normal'}, {'Event': 'Rated Bullet game', 'Site': 'https://lichess.org/OxamXg22', 'Date': '2021.08.01', 'Round': '-', 'White': 'Cem_Colak', 'Black': 'swili', 'Result': '0-1', 'UTCDate': '2021.08.01', 'UTCTime': '00:00:21', 'WhiteElo': '1551', 'BlackElo': '1543', 'ECO': 'B27', 'Opening': 'Sicilian Defense: Mongoose Variation', 'TimeControl': '60+0', 'Termination': 'Normal'}, {'Event': 'Rated Blitz game', 'Site': 'https://lichess.org/Iz70jxqN', 'Date': '2021.08.01', 'Round': '-', 'White': 'Mani1979', 'Black': 'trashboatsr', 'Result': '0-1', 'UTCDate': '2021.08.01', 'UTCTime': '00:00:22', 'WhiteElo': '1690', 'BlackElo': '1678', 'ECO': 'A40', 'Opening': 'Englund Gambit Complex Declined', 'TimeControl': '300+0', 'Termination': 'Time forfeit'}, {'Event': 'Rated Blitz game', 'Site': 'https://lichess.org/572WBAWi', 'Date': '2021.08.01', 'Round': '-', 'White': 'MrBochwalt', 'Black': 'Alexander_Zubov', 'Result': '1-0', 'UTCDate': '2021.08.01', 'UTCTime': '00:00:22', 'WhiteElo': '2862', 'BlackElo': '2965', 'ECO': 'D85', 'Opening': 'Grünfeld Defense: Exchange Variation', 'TimeControl': '180+0', 'Termination': 'Normal'}, {'Event': 'Rated Blitz tournament https://lichess.org/tournament/zTLnP8ob', 'Site': 'https://lichess.org/zguWEDMG', 'Date': '2021.08.01', 'Round': '-', 'White': 'nicolecruz_80', 'Black': 'Gibari7', 'Result': '1-0', 'UTCDate': '2021.08.01', 'UTCTime': '00:00:24', 'WhiteElo': '959', 'BlackElo': '1043', 'ECO': 'A40', 'Opening': \"Queen's Pawn Game\", 'TimeControl': '180+2', 'Termination': 'Time forfeit'}, {'Event': 'Rated Blitz game', 'Site': 'https://lichess.org/tcf42SLw', 'Date': '2021.08.01', 'Round': '-', 'White': 'Ivan-1982', 'Black': 'kaan_kiris', 'Result': '1-0', 'UTCDate': '2021.08.01', 'UTCTime': '00:00:16', 'WhiteElo': '1667', 'BlackElo': '1629', 'ECO': 'A00', 'Opening': \"Van't Kruijs Opening\", 'TimeControl': '300+3', 'Termination': 'Normal'}, {'Event': 'Rated Blitz game', 'Site': 'https://lichess.org/9gaw7HTf', 'Date': '2021.08.01', 'Round': '-', 'White': 'fakeidea', 'Black': 'acasapapi', 'Result': '0-1', 'UTCDate': '2021.08.01', 'UTCTime': '00:00:16', 'WhiteElo': '1205', 'BlackElo': '1085', 'ECO': 'C46', 'Opening': 'Three Knights Opening: Winawer Defense', 'TimeControl': '300+3', 'Termination': 'Normal'}, {'Event': 'Rated Blitz game', 'Site': 'https://lichess.org/gQ43QmG1', 'Date': '2021.08.01', 'Round': '-', 'White': 'castanedastral', 'Black': 'Tasic69Vladimir', 'Result': '1-0', 'UTCDate': '2021.08.01', 'UTCTime': '00:00:38', 'WhiteElo': '2639', 'BlackElo': '2470', 'ECO': 'B52', 'Opening': 'Sicilian Defense: Canal Attack; Main Line', 'TimeControl': '180+0', 'Termination': 'Normal'}, {'Event': 'Rated Blitz game', 'Site': 'https://lichess.org/4WBCwHzG', 'Date': '2021.08.01', 'Round': '-', 'White': 'AbesOddysee', 'Black': 'bakunaut', 'Result': '0-1', 'UTCDate': '2021.08.01', 'UTCTime': '00:00:38', 'WhiteElo': '1285', 'BlackElo': '1301', 'ECO': 'A45', 'Opening': 'Indian Defense', 'TimeControl': '180+0', 'Termination': 'Normal'}, {'Event': 'Rated Blitz game', 'Site': 'https://lichess.org/uF7aFCG2', 'Date': '2021.08.01', 'Round': '-', 'White': 'MillerDominguez', 'Black': 'arturogonzalez', 'Result': '1-0', 'UTCDate': '2021.08.01', 'UTCTime': '00:00:38', 'WhiteElo': '2290', 'BlackElo': '2286', 'ECO': 'B07', 'Opening': 'Pirc Defense', 'TimeControl': '180+2', 'Termination': 'Time forfeit'}, {'Event': 'Rated Classical game', 'Site': 'https://lichess.org/Ot8xQUOM', 'Date': '2021.08.01', 'Round': '-', 'White': 'justinavidos', 'Black': 'GrooveChesss', 'Result': '1-0', 'UTCDate': '2021.08.01', 'UTCTime': '00:00:38', 'WhiteElo': '1383', 'BlackElo': '1414', 'ECO': 'C24', 'Opening': \"Bishop's Opening: Berlin Defense\", 'TimeControl': '1800+0', 'Termination': 'Normal'}, {'Event': 'Rated Rapid game', 'Site': 'https://lichess.org/gvnwpnGH', 'Date': '2021.08.01', 'Round': '-', 'White': 'bultacoJunior', 'Black': 'PolishRifle', 'Result': '0-1', 'UTCDate': '2021.08.01', 'UTCTime': '00:00:39', 'WhiteElo': '1102', 'BlackElo': '1117', 'ECO': 'B30', 'Opening': 'Sicilian Defense: Old Sicilian', 'TimeControl': '600+0', 'Termination': 'Normal'}, {'Event': 'Rated Blitz tournament https://lichess.org/tournament/05WBonzD', 'Site': 'https://lichess.org/O0GaFMp5', 'Date': '2021.08.01', 'Round': '-', 'White': 'laritolcc21', 'Black': 'ISRRAEL_GV16', 'Result': '1-0', 'UTCDate': '2021.08.01', 'UTCTime': '00:00:39', 'WhiteElo': '1753', 'BlackElo': '1468', 'ECO': 'C60', 'Opening': 'Ruy Lopez', 'TimeControl': '240+2', 'Termination': 'Normal'}, {'Event': 'Rated Blitz tournament https://lichess.org/tournament/DBjwAx0B', 'Site': 'https://lichess.org/w6ADpefm', 'Date': '2021.08.01', 'Round': '-', 'White': 'DrSiegbertstain', 'Black': 'ReiWgt', 'Result': '1/2-1/2', 'UTCDate': '2021.08.01', 'UTCTime': '00:00:39', 'WhiteElo': '2125', 'BlackElo': '2253', 'ECO': 'C46', 'Opening': 'Four Knights Game: Gunsberg Variation', 'TimeControl': '180+2', 'Termination': 'Normal'}, {'Event': 'Rated Blitz game', 'Site': 'https://lichess.org/BksEJFzo', 'Date': '2021.08.01', 'Round': '-', 'White': 'superewe', 'Black': 'cr1994', 'Result': '0-1', 'UTCDate': '2021.08.01', 'UTCTime': '00:00:39', 'WhiteElo': '2058', 'BlackElo': '2018', 'ECO': 'E70', 'Opening': \"King's Indian Defense: Normal Variation\", 'TimeControl': '180+2', 'Termination': 'Time forfeit'}, {'Event': 'Rated Blitz game', 'Site': 'https://lichess.org/2n3S1BZt', 'Date': '2021.08.01', 'Round': '-', 'White': 'Iiger', 'Black': 'imcrxzy', 'Result': '0-1', 'UTCDate': '2021.08.01', 'UTCTime': '00:00:39', 'WhiteElo': '1525', 'BlackElo': '1487', 'ECO': 'C58', 'Opening': 'Italian Game: Two Knights Defense; Polerio Defense', 'TimeControl': '180+2', 'Termination': 'Normal'}, {'Event': 'Rated Blitz game', 'Site': 'https://lichess.org/ZxpW6NVu', 'Date': '2021.08.01', 'Round': '-', 'White': 'iiDrxgonFxreii', 'Black': 'poroshok_ariel', 'Result': '1-0', 'UTCDate': '2021.08.01', 'UTCTime': '00:01:34', 'WhiteElo': '1858', 'BlackElo': '1839', 'ECO': 'B50', 'Opening': 'Sicilian Defense: Modern Variations', 'TimeControl': '180+0', 'Termination': 'Time forfeit'}, {'Event': 'Rated Rapid game', 'Site': 'https://lichess.org/Zqz13rBY', 'Date': '2021.08.01', 'Round': '-', 'White': 'ABkum', 'Black': 'propais', 'Result': '1-0', 'UTCDate': '2021.08.01', 'UTCTime': '00:01:35', 'WhiteElo': '1901', 'BlackElo': '2062', 'ECO': 'B30', 'Opening': 'Sicilian Defense: Old Sicilian', 'TimeControl': '300+15', 'Termination': 'Normal'}, {'Event': 'Rated Rapid game', 'Site': 'https://lichess.org/o19TlNUZ', 'Date': '2021.08.01', 'Round': '-', 'White': 'KonstantinVas', 'Black': 'matiasovichxd', 'Result': '0-1', 'UTCDate': '2021.08.01', 'UTCTime': '00:01:36', 'WhiteElo': '1812', 'BlackElo': '1803', 'ECO': 'C24', 'Opening': \"Bishop's Opening: Berlin Defense\", 'TimeControl': '600+0', 'Termination': 'Normal'}, {'Event': 'Rated Bullet game', 'Site': 'https://lichess.org/joWLAjiK', 'Date': '2021.08.01', 'Round': '-', 'White': 'Kaspaquique1', 'Black': 'AllesDope', 'Result': '1-0', 'UTCDate': '2021.08.01', 'UTCTime': '00:01:36', 'WhiteElo': '1079', 'BlackElo': '1078', 'ECO': 'C34', 'Opening': \"King's Gambit Accepted: MacLeod Defense\", 'TimeControl': '60+0', 'Termination': 'Time forfeit'}, {'Event': 'Rated Blitz game', 'Site': 'https://lichess.org/SI4dRWcV', 'Date': '2021.08.01', 'Round': '-', 'White': 'Ecuakandy', 'Black': 'mattluke', 'Result': '0-1', 'UTCDate': '2021.08.01', 'UTCTime': '00:01:38', 'WhiteElo': '1879', 'BlackElo': '1948', 'ECO': 'B21', 'Opening': 'Sicilian Defense: Smith-Morra Gambit Accepted; Pin Defense', 'TimeControl': '300+0', 'Termination': 'Normal'}, {'Event': 'Rated Blitz game', 'Site': 'https://lichess.org/PIvJ4eKd', 'Date': '2021.08.01', 'Round': '-', 'White': 'oliviergvidal', 'Black': 'Wamford', 'Result': '1-0', 'UTCDate': '2021.08.01', 'UTCTime': '00:01:38', 'WhiteElo': '1207', 'BlackElo': '1190', 'ECO': 'A40', 'Opening': \"Queen's Pawn Game\", 'TimeControl': '300+0', 'Termination': 'Time forfeit'}, {'Event': 'Rated Rapid game', 'Site': 'https://lichess.org/lNFxCcTD', 'Date': '2021.08.01', 'Round': '-', 'White': 'Phorealzz', 'Black': 'jvinson', 'Result': '1-0', 'UTCDate': '2021.08.01', 'UTCTime': '00:01:38', 'WhiteElo': '1502', 'BlackElo': '1567', 'ECO': 'C60', 'Opening': 'Ruy Lopez: Cozio Defense', 'TimeControl': '600+5', 'Termination': 'Normal'}, {'Event': 'Rated Rapid game', 'Site': 'https://lichess.org/oat0ZgKM', 'Date': '2021.08.01', 'Round': '-', 'White': 'sicromoft', 'Black': 'chasechess20', 'Result': '0-1', 'UTCDate': '2021.08.01', 'UTCTime': '00:01:38', 'WhiteElo': '1346', 'BlackElo': '1328', 'ECO': 'B22', 'Opening': 'Sicilian Defense: Alapin Variation', 'TimeControl': '600+5', 'Termination': 'Normal'}, {'Event': 'Rated Rapid game', 'Site': 'https://lichess.org/6BTJYwzM', 'Date': '2021.08.01', 'Round': '-', 'White': 'NotOrange', 'Black': 'astr10Omer', 'Result': '1-0', 'UTCDate': '2021.08.01', 'UTCTime': '00:01:38', 'WhiteElo': '1807', 'BlackElo': '1763', 'ECO': 'C01', 'Opening': 'French Defense: Exchange Variation', 'TimeControl': '600+5', 'Termination': 'Normal'}, {'Event': 'Rated Bullet game', 'Site': 'https://lichess.org/QtnWLuor', 'Date': '2021.08.01', 'Round': '-', 'White': 'wildwarrior', 'Black': 'Ivoryy', 'Result': '1-0', 'UTCDate': '2021.08.01', 'UTCTime': '00:01:39', 'WhiteElo': '1606', 'BlackElo': '1702', 'ECO': 'A00', 'Opening': 'Saragossa Opening', 'TimeControl': '60+0', 'Termination': 'Time forfeit'}, {'Event': 'Rated Bullet game', 'Site': 'https://lichess.org/BE5PjXIB', 'Date': '2021.08.01', 'Round': '-', 'White': 'joe55460', 'Black': 'men8888', 'Result': '1-0', 'UTCDate': '2021.08.01', 'UTCTime': '00:01:39', 'WhiteElo': '1508', 'BlackElo': '1964', 'ECO': 'A10', 'Opening': 'English Opening', 'TimeControl': '120+0', 'Termination': 'Time forfeit'}, {'Event': 'Rated Bullet game', 'Site': 'https://lichess.org/sdmmWiIr', 'Date': '2021.08.01', 'Round': '-', 'White': 'Martinious', 'Black': 'qed', 'Result': '0-1', 'UTCDate': '2021.08.01', 'UTCTime': '00:01:39', 'WhiteElo': '1638', 'BlackElo': '1632', 'ECO': 'B31', 'Opening': 'Sicilian Defense: Nyezhmetdinov-Rossolimo Attack; Fianchetto Variation', 'TimeControl': '0+4', 'Termination': 'Normal'}, {'Event': 'Rated Rapid game', 'Site': 'https://lichess.org/8eNjdpME', 'Date': '2021.08.01', 'Round': '-', 'White': 'Hantouchi', 'Black': 'carloVI', 'Result': '0-1', 'UTCDate': '2021.08.01', 'UTCTime': '00:01:41', 'WhiteElo': '1674', 'BlackElo': '1680', 'ECO': 'C02', 'Opening': 'French Defense: Advance Variation; Nimzowitsch System', 'TimeControl': '900+3', 'Termination': 'Normal'}, {'Event': 'Rated Rapid game', 'Site': 'https://lichess.org/QgzxjZW3', 'Date': '2021.08.01', 'Round': '-', 'White': 'cmcdf', 'Black': 'jbustos', 'Result': '1-0', 'UTCDate': '2021.08.01', 'UTCTime': '00:01:43', 'WhiteElo': '1647', 'BlackElo': '1899', 'ECO': 'A30', 'Opening': 'English Opening: Symmetrical Variation', 'TimeControl': '600+2', 'Termination': 'Normal'}, {'Event': 'Rated Blitz tournament https://lichess.org/tournament/lbe85fPq', 'Site': 'https://lichess.org/yKXY7JF9', 'Date': '2021.08.01', 'Round': '-', 'White': 'Sr-Quesito', 'Black': 'mariposademilcolores', 'Result': '1-0', 'UTCDate': '2021.08.01', 'UTCTime': '00:01:08', 'WhiteElo': '1069', 'BlackElo': '1378', 'ECO': 'C42', 'Opening': 'Russian Game: French Attack', 'TimeControl': '300+0', 'Termination': 'Time forfeit'}, {'Event': 'Rated Bullet tournament https://lichess.org/tournament/ona064pj', 'Site': 'https://lichess.org/TJOMbFoc', 'Date': '2021.08.01', 'Round': '-', 'White': 'ahmedtkr', 'Black': 'Elrabatt88', 'Result': '0-1', 'UTCDate': '2021.08.01', 'UTCTime': '00:01:11', 'WhiteElo': '1245', 'BlackElo': '1501', 'ECO': 'B01', 'Opening': 'Scandinavian Defense', 'TimeControl': '60+2', 'Termination': 'Time forfeit'}, {'Event': 'Rated Blitz tournament https://lichess.org/tournament/zTLnP8ob', 'Site': 'https://lichess.org/qF6DQXuW', 'Date': '2021.08.01', 'Round': '-', 'White': 'GabrielaZeron', 'Black': 'Isaacmej7', 'Result': '1-0', 'UTCDate': '2021.08.01', 'UTCTime': '00:01:11', 'WhiteElo': '1342', 'BlackElo': '1264', 'ECO': 'C23', 'Opening': \"Bishop's Opening\", 'TimeControl': '180+2', 'Termination': 'Normal'}, {'Event': 'Rated Rapid game', 'Site': 'https://lichess.org/Q2bdQDIa', 'Date': '2021.08.01', 'Round': '-', 'White': 'franquis', 'Black': 'LEGEND_LEVEL', 'Result': '0-1', 'UTCDate': '2021.08.01', 'UTCTime': '00:01:11', 'WhiteElo': '1646', 'BlackElo': '1720', 'ECO': 'C50', 'Opening': 'Italian Game: Schilling-Kostic Gambit', 'TimeControl': '600+0', 'Termination': 'Normal'}, {'Event': 'Rated Blitz tournament https://lichess.org/tournament/CESKaiLM', 'Site': 'https://lichess.org/duEvEzzz', 'Date': '2021.08.01', 'Round': '-', 'White': 'BoskoRadic77', 'Black': 'hesham_elmasry3', 'Result': '1-0', 'UTCDate': '2021.08.01', 'UTCTime': '00:00:45', 'WhiteElo': '1969', 'BlackElo': '1991', 'ECO': 'A00', 'Opening': 'Grob Opening', 'TimeControl': '180+0', 'Termination': 'Time forfeit'}, {'Event': 'Rated Blitz game', 'Site': 'https://lichess.org/ImHBHWj9', 'Date': '2021.08.01', 'Round': '-', 'White': 'Prihlop', 'Black': 'Supercabeza', 'Result': '0-1', 'UTCDate': '2021.08.01', 'UTCTime': '00:00:49', 'WhiteElo': '2572', 'BlackElo': '2383', 'ECO': 'B08', 'Opening': 'Pirc Defense: Classical Variation; Schlechter Variation', 'TimeControl': '180+0', 'Termination': 'Time forfeit'}, {'Event': 'Rated Rapid game', 'Site': 'https://lichess.org/Gmnd6vHu', 'Date': '2021.08.01', 'Round': '-', 'White': 'PogChampion123123', 'Black': 'agenerozov', 'Result': '1-0', 'UTCDate': '2021.08.01', 'UTCTime': '00:01:03', 'WhiteElo': '1701', 'BlackElo': '1660', 'ECO': 'C77', 'Opening': 'Ruy Lopez: Morphy Defense; Tarrasch Variation', 'TimeControl': '900+10', 'Termination': 'Normal'}, {'Event': 'Rated UltraBullet game', 'Site': 'https://lichess.org/r0hUgqAL', 'Date': '2021.08.01', 'Round': '-', 'White': 'Arma91', 'Black': 'ONeLaanOyle', 'Result': '1-0', 'UTCDate': '2021.08.01', 'UTCTime': '00:01:03', 'WhiteElo': '1645', 'BlackElo': '1692', 'ECO': 'B01', 'Opening': 'Scandinavian Defense', 'TimeControl': '15+0', 'Termination': 'Time forfeit'}, {'Event': 'Rated Blitz game', 'Site': 'https://lichess.org/vhYx2yqL', 'Date': '2021.08.01', 'Round': '-', 'White': 'marcelento', 'Black': 'Amylcar', 'Result': '0-1', 'UTCDate': '2021.08.01', 'UTCTime': '00:01:04', 'WhiteElo': '1261', 'BlackElo': '1218', 'ECO': 'A41', 'Opening': \"Queen's Pawn Game\", 'TimeControl': '300+0', 'Termination': 'Normal'}, {'Event': 'Rated Blitz game', 'Site': 'https://lichess.org/TkGC6DSK', 'Date': '2021.08.01', 'Round': '-', 'White': 'asherif77_Ss', 'Black': 'sfshaw3390', 'Result': '0-1', 'UTCDate': '2021.08.01', 'UTCTime': '00:01:04', 'WhiteElo': '1303', 'BlackElo': '1278', 'ECO': 'C20', 'Opening': \"King's Pawn Game: Wayward Queen Attack\", 'TimeControl': '300+3', 'Termination': 'Time forfeit'}]\n"
     ]
    }
   ],
   "source": [
    "notrandgames_checked = []\n",
    "metadata = []\n",
    "metadata_evals = []\n",
    "metadata_clks = []\n",
    "old_md_keys = None\n",
    "for id, g in enumerate(notrandgames):\n",
    "    try:\n",
    "        game_to_vectors(g)\n",
    "    except:\n",
    "        pass\n",
    "    else:\n",
    "        notrandgames_checked.append((id,g))\n",
    "        metadata_dict, evals, clks = get_metadata_from_pgn(g)\n",
    "        # get least common denominator among keys in all samples such that there aren't outlier samples that have more metadata than others\n",
    "        md_keys = [k for k in metadata_dict]\n",
    "        if old_md_keys:\n",
    "            md_keys = list(set(md_keys).intersection(old_md_keys))\n",
    "        old_md_keys = md_keys\n",
    "        metadata.append(metadata_dict)\n",
    "        metadata_evals.append(evals)\n",
    "        metadata_clks.append(clks)\n",
    "        \n",
    "# remove outlier metadata such that only shared metadata among all samples remains\n",
    "for d in metadata:\n",
    "    keys = [k for k in d]\n",
    "    dif = list(set(keys) - set(md_keys))\n",
    "    for k in dif:\n",
    "        d.pop(k)\n",
    "        \n",
    "print(md_keys)\n",
    "print(metadata[:100])"
   ]
  },
  {
   "cell_type": "code",
   "execution_count": 14,
   "metadata": {},
   "outputs": [
    {
     "name": "stdout",
     "output_type": "stream",
     "text": [
      "['c']\n",
      "{'a': 1, 'b': 2}\n"
     ]
    }
   ],
   "source": [
    "d1 = {'a': 1, 'b': 2, 'c': 3}\n",
    "d2 = {'a': 1, 'b': 2}\n",
    "d1k = [k for k in d1]\n",
    "d2k = [k for k in d2]\n",
    "keys = list(set(d1k).difference(d2k))\n",
    "print(keys)\n",
    "for k in keys:\n",
    "    d1.pop(k)\n",
    "print(d1)\n",
    "    "
   ]
  },
  {
   "cell_type": "code",
   "execution_count": 15,
   "metadata": {},
   "outputs": [],
   "source": [
    "# add all games regardless of first move\n",
    "firstmoves = [(g[0],get_moves_from_pgn(g[1])[0]) for g in notrandgames_checked]\n",
    "indices = []\n",
    "for idx, fm in firstmoves:\n",
    "    indices.append(idx)\n",
    "games = ['games/game-{:05d}.pgn'.format(n+1) for n in np.array(indices)]\n",
    "game_matrices = [game_to_vectors(g) for g in games]"
   ]
  },
  {
   "cell_type": "markdown",
   "metadata": {},
   "source": [
    "### handling an error where the last 2 states of each game are equivalent - remove redundant one"
   ]
  },
  {
   "cell_type": "code",
   "execution_count": 16,
   "metadata": {},
   "outputs": [],
   "source": [
    "# game matrices is num_games * num_turns * 832 \n",
    "for game in range(len(game_matrices)):\n",
    "    # check for each game whether last 2 game states are equivalent\n",
    "    if np.all(game_matrices[game][-2] == game_matrices[game][-1]):\n",
    "        # if so, remove the last state\n",
    "        game_matrices[game] = game_matrices[game][:-1]"
   ]
  },
  {
   "cell_type": "markdown",
   "metadata": {},
   "source": [
    "## keep opening moves only\n",
    "using the list of openings that corresponds to the lichess dataset https://github.com/niklasf/chess-openings"
   ]
  },
  {
   "cell_type": "code",
   "execution_count": 17,
   "metadata": {},
   "outputs": [],
   "source": [
    "eco_a_df = pd.read_csv('ECos/a.tsv', sep='\\t', header=0)\n",
    "eco_b_df = pd.read_csv('ECos/b.tsv', sep='\\t', header=0)\n",
    "eco_c_df = pd.read_csv('ECos/c.tsv', sep='\\t', header=0)\n",
    "eco_d_df = pd.read_csv('ECos/d.tsv', sep='\\t', header=0)\n",
    "eco_e_df = pd.read_csv('ECos/e.tsv', sep='\\t', header=0)"
   ]
  },
  {
   "cell_type": "code",
   "execution_count": 18,
   "metadata": {},
   "outputs": [],
   "source": [
    "eco_df = pd.concat([eco_a_df, eco_b_df, eco_c_df, eco_d_df, eco_e_df])"
   ]
  },
  {
   "cell_type": "code",
   "execution_count": 19,
   "metadata": {},
   "outputs": [
    {
     "name": "stdout",
     "output_type": "stream",
     "text": [
      "Sicilian Defense: Smith-Morra Gambit Declined; Center Formation\n",
      "1. e4 c5 2. c3 e5 3. d4 cxd4\n",
      "8\n",
      "e4 c5 c3 e5 d4 cxd4\n",
      "6\n"
     ]
    }
   ],
   "source": [
    "print(metadata[111]['Opening'])\n",
    "moves = eco_df.loc[eco_df['name'] == metadata[111]['Opening'].replace(';',',')]['pgn'].iloc[0]\n",
    "pattern = r'.\\..'\n",
    "print(moves)\n",
    "print(moves.count(' '))\n",
    "moves = (re.sub(pattern, '', moves))\n",
    "print(moves)\n",
    "print(len(moves.split(' ')))"
   ]
  },
  {
   "cell_type": "code",
   "execution_count": 20,
   "metadata": {},
   "outputs": [
    {
     "name": "stdout",
     "output_type": "stream",
     "text": [
      "[[0 0 0 ... 0 0 0]\n",
      " [0 0 0 ... 0 0 0]\n",
      " [0 0 0 ... 0 0 0]\n",
      " ...\n",
      " [0 0 0 ... 0 0 1]\n",
      " [0 0 0 ... 0 0 1]\n",
      " [0 0 0 ... 0 0 1]]\n",
      "{'Event': 'Rated Blitz tournament https://lichess.org/tournament/zTLnP8ob', 'Site': 'https://lichess.org/q5HJFu3Z', 'Date': '2021.08.01', 'Round': '-', 'White': 'Gersonz', 'Black': 'Scheyla_Perdomo26', 'Result': '1-0', 'UTCDate': '2021.08.01', 'UTCTime': '00:00:24', 'WhiteElo': '1552', 'BlackElo': '1321', 'ECO': 'B22', 'Opening': 'Sicilian Defense: Alapin Variation', 'TimeControl': '180+2', 'Termination': 'Time forfeit'}\n"
     ]
    }
   ],
   "source": [
    "print(game_matrices[0])\n",
    "print(metadata[0])"
   ]
  },
  {
   "cell_type": "markdown",
   "metadata": {},
   "source": [
    "### add ECO category (A,B,C,D,E,F) to metadata"
   ]
  },
  {
   "cell_type": "code",
   "execution_count": 21,
   "metadata": {},
   "outputs": [],
   "source": [
    "for m in metadata:\n",
    "    if m['ECO'][0] == 'A':\n",
    "        m['Opening Category'] = 'A - Flank Opening'\n",
    "    elif m['ECO'][0] == 'B':\n",
    "        m['Opening Category'] = 'B - Semi-Open Games other than the French Defense'\n",
    "    elif m['ECO'][0] == 'C':\n",
    "        m['Opening Category'] = 'C - Open Games and the French Defense'\n",
    "    elif m['ECO'][0] == 'D':\n",
    "        m['Opening Category'] = 'D - Closed Games and Semi-Closed Games'\n",
    "    elif m['ECO'][0] == 'E':\n",
    "        m['Opening Category'] = 'E - Indian Defenses'"
   ]
  },
  {
   "cell_type": "markdown",
   "metadata": {},
   "source": [
    "### filter games with Openings that don't exist in our ECO dataset"
   ]
  },
  {
   "cell_type": "code",
   "execution_count": 23,
   "metadata": {},
   "outputs": [],
   "source": [
    "pattern = r'.\\..'\n",
    "to_delete = []\n",
    "for id, gm in enumerate(game_matrices):\n",
    "    filtered_df = eco_df.loc[eco_df['name'] == metadata[id]['Opening'].replace(';',',')]\n",
    "    if filtered_df.empty:\n",
    "        to_delete += [id]\n",
    "\n",
    "for idx in sorted(to_delete, reverse=True):\n",
    "    del game_matrices[idx]\n",
    "    del metadata[idx]"
   ]
  },
  {
   "cell_type": "markdown",
   "metadata": {},
   "source": [
    "### using eco dataframe to determine amount n of moves in the corresponding opening, cutting off each game after n"
   ]
  },
  {
   "cell_type": "code",
   "execution_count": 24,
   "metadata": {},
   "outputs": [],
   "source": [
    "# pattern used to remove turn numbers such that we can determine amount of moves\n",
    "pattern = r'.\\..'\n",
    "for id, gm in enumerate(game_matrices):\n",
    "#     print(metadata[id]['Opening'].replace(';',','))\n",
    "    filtered_df = eco_df.loc[eco_df['name'] == metadata[id]['Opening'].replace(';',',')]\n",
    "    moves = filtered_df['pgn'].iloc[0]\n",
    "    moves = (re.sub(pattern, '', moves))\n",
    "    n_moves = len(moves.split(' '))\n",
    "    # +1 because the 0th is before any moves have happened\n",
    "    game_matrices[id] = game_matrices[id][:n_moves+1]"
   ]
  },
  {
   "cell_type": "code",
   "execution_count": 25,
   "metadata": {},
   "outputs": [
    {
     "name": "stdout",
     "output_type": "stream",
     "text": [
      "[[0 0 0 ... 0 0 0]\n",
      " [0 0 0 ... 0 0 0]\n",
      " [0 0 0 ... 0 0 0]\n",
      " [0 0 0 ... 0 0 0]]\n"
     ]
    }
   ],
   "source": [
    "print(game_matrices[0])"
   ]
  },
  {
   "cell_type": "code",
   "execution_count": 26,
   "metadata": {},
   "outputs": [],
   "source": [
    "final_data = np.concatenate(game_matrices)"
   ]
  },
  {
   "cell_type": "code",
   "execution_count": 27,
   "metadata": {},
   "outputs": [],
   "source": [
    "tsne = TSNE(\n",
    "    perplexity=200,\n",
    "    n_jobs=6,\n",
    "    metric='euclidean',\n",
    "    random_state=42\n",
    ")"
   ]
  },
  {
   "cell_type": "code",
   "execution_count": 28,
   "metadata": {
    "scrolled": true
   },
   "outputs": [
    {
     "name": "stdout",
     "output_type": "stream",
     "text": [
      "CPU times: user 6min 42s, sys: 16.5 s, total: 6min 58s\n",
      "Wall time: 1min 15s\n"
     ]
    }
   ],
   "source": [
    "%time embedding = tsne.fit(np.array(final_data))"
   ]
  },
  {
   "cell_type": "code",
   "execution_count": 29,
   "metadata": {},
   "outputs": [],
   "source": [
    "embedding_split = np.array_split(embedding, np.add.accumulate([len(l) for l in game_matrices]))[:-1]"
   ]
  },
  {
   "cell_type": "code",
   "execution_count": 30,
   "metadata": {
    "scrolled": true
   },
   "outputs": [
    {
     "name": "stdout",
     "output_type": "stream",
     "text": [
      "['TimeControl', 'UTCDate', 'Opening', 'White', 'Round', 'UTCTime', 'BlackElo', 'ECO', 'WhiteElo', 'Date', 'Termination', 'Result', 'Site', 'Event', 'Black']\n"
     ]
    }
   ],
   "source": [
    "# fig = plt.figure(figsize=(15,15))\n",
    "# ax = fig.add_subplot(111)\n",
    "# ax.set_aspect(1)\n",
    "# for game in embedding_split[:10]:\n",
    "#     tck, u = interpolate.splprep(game.transpose(), s=0)\n",
    "#     unew = np.arange(0, 1.01, 0.01)\n",
    "#     out = interpolate.splev(unew, tck)\n",
    "#     ax.plot(out[0], out[1], '-r', alpha=0.03, color='red')\n",
    "#     ax.scatter(game[:,0], game[:,1], s=0.1, color='red')\n",
    "# #for game in embedding_split[10:800]:\n",
    "# #    tck, u = interpolate.splprep(game.transpose(), s=0)\n",
    "# #    unew = np.arange(0, 1.01, 0.01)\n",
    "# #    out = interpolate.splev(unew, tck)\n",
    "# #    ax.plot(out[0], out[1], '-r', alpha=0.03, color='blue')\n",
    "# #    ax.scatter(game[:,0], game[:,1], s=0.1, color='blue')\n",
    "# plt.xlim((-40,50));\n",
    "# plt.ylim((-60,40));\n",
    "# #for game in embedding_split[100:]:\n",
    "# #    ax.plot(game[:,0], game[:,1], '-r', alpha=0.1, color='blue')\n",
    "\n",
    "\n",
    "# write header\n",
    "csv = open(\"lichess_tsne.csv\", \"w\")\n",
    "features = \"x,y,line,cp,algo,player,age,\"\n",
    "print(md_keys)\n",
    "features += ','.join(md_keys)\n",
    "features += \",eval,clk,a8,b8,c8,d8,e8,f8,g8,h8,a7,b7,c7,d7,e7,f7,g7,h7,a6,b6,c6,d6,e6,f6,g6,h6,a5,b5,c5,d5,e5,f5,g5,h5,a4,b4,c4,d4,e4,f4,g4,h4,a3,b3,c3,d3,e3,f3,g3,h3,a2,b2,c2,d2,e2,f2,g2,h2,a1,b1,c1,d1,e1,f1,g1,h1\"\n",
    "csv.write(features)\n",
    "csv.write(\"\\n\")\n",
    "idx = 0\n",
    "\n",
    "# for gameIndex, game in enumerate(embedding_split[:450]):\n",
    "for gameIndex, game in enumerate(embedding_split):\n",
    "    pi = 0\n",
    "    for idx, pos in enumerate(game):\n",
    "        csv.write(str(pos[0]))\n",
    "        csv.write(\",\")\n",
    "        csv.write(str(pos[1]))\n",
    "        \n",
    "        # number of game\n",
    "        csv.write(\",\")\n",
    "        csv.write(str(gameIndex))\n",
    "        \n",
    "        # checkpoint\n",
    "        csv.write(\",\")\n",
    "        if idx == 0:\n",
    "            csv.write(\"1\")\n",
    "        elif idx == len(game) - 1:\n",
    "            csv.write(\"1\")\n",
    "        else:\n",
    "            csv.write(\"0\")\n",
    "        \n",
    "        \n",
    "        \n",
    "        # 'algo', i.e., path coloring method\n",
    "        csv.write(\",\")\n",
    "        # using opening category from A through E\n",
    "        csv.write(metadata[gameIndex]['Opening Category'])\n",
    "        # in this case the winner\n",
    "        # winner = metadata[gameIndex]['Result']\n",
    "        # winner = winner.replace('1-0', metadata[gameIndex]['White'])\n",
    "        # winner = winner.replace('0-1', metadata[gameIndex]['Black'])\n",
    "        # csv.write(winner)\n",
    "\n",
    "        # player - whose turn is it\n",
    "        csv.write(\",\")\n",
    "        if idx % 2 == 0:\n",
    "            csv.write(metadata[gameIndex]['Black'])\n",
    "        else:\n",
    "            csv.write(metadata[gameIndex]['White'])\n",
    "        \n",
    "        # age\n",
    "        csv.write(\",\")\n",
    "        csv.write(str(idx))\n",
    "        csv.write(\",\")\n",
    "        \n",
    "        # per game metadata\n",
    "        md_values = [metadata[gameIndex][k] for k in md_keys]\n",
    "        csv.write(','.join(md_values))\n",
    "        # write metadata gameIndex idx %clk and %eval\n",
    "        \n",
    "        # per move metadata\n",
    "        csv.write(',')\n",
    "        csv.write(metadata_evals[gameIndex][idx])\n",
    "        csv.write(',')\n",
    "        csv.write(metadata_clks[gameIndex][idx])\n",
    "        \n",
    "        for n in range(0, 64):\n",
    "            csv.write(\",\")\n",
    "            str1 = ''.join(str(e) for e in game_matrices[gameIndex][idx][n * 13: (n+1) * 13])\n",
    "            csv.write(vector_to_state(str1))\n",
    "            \n",
    "        csv.write(\"\\n\")\n",
    "    gameIndex += 1\n",
    "        \n",
    "csv.close()"
   ]
  },
  {
   "cell_type": "code",
   "execution_count": 31,
   "metadata": {},
   "outputs": [
    {
     "name": "stderr",
     "output_type": "stream",
     "text": [
      "2021-12-14 11:02:35.911105: W tensorflow/stream_executor/platform/default/dso_loader.cc:64] Could not load dynamic library 'libcudart.so.11.0'; dlerror: libcudart.so.11.0: cannot open shared object file: No such file or directory\n",
      "2021-12-14 11:02:35.911228: I tensorflow/stream_executor/cuda/cudart_stub.cc:29] Ignore above cudart dlerror if you do not have a GPU set up on your machine.\n"
     ]
    }
   ],
   "source": [
    "import umap.umap_ as umap\n",
    "from matplotlib import pyplot as plt\n",
    "np.random.seed(0)"
   ]
  },
  {
   "cell_type": "code",
   "execution_count": 32,
   "metadata": {},
   "outputs": [],
   "source": [
    "reducer = umap.UMAP()"
   ]
  },
  {
   "cell_type": "code",
   "execution_count": 33,
   "metadata": {},
   "outputs": [],
   "source": [
    "umap_embedding = reducer.fit_transform(final_data)"
   ]
  },
  {
   "cell_type": "code",
   "execution_count": 34,
   "metadata": {},
   "outputs": [],
   "source": [
    "umap_embedding_split = np.array_split(umap_embedding, np.add.accumulate([len(l) for l in game_matrices]))[:-1]"
   ]
  },
  {
   "cell_type": "code",
   "execution_count": 35,
   "metadata": {},
   "outputs": [
    {
     "data": {
      "text/html": [
       "<div>\n",
       "<style scoped>\n",
       "    .dataframe tbody tr th:only-of-type {\n",
       "        vertical-align: middle;\n",
       "    }\n",
       "\n",
       "    .dataframe tbody tr th {\n",
       "        vertical-align: top;\n",
       "    }\n",
       "\n",
       "    .dataframe thead th {\n",
       "        text-align: right;\n",
       "    }\n",
       "</style>\n",
       "<table border=\"1\" class=\"dataframe\">\n",
       "  <thead>\n",
       "    <tr style=\"text-align: right;\">\n",
       "      <th></th>\n",
       "      <th>x</th>\n",
       "      <th>y</th>\n",
       "      <th>line</th>\n",
       "      <th>cp</th>\n",
       "      <th>algo</th>\n",
       "      <th>player</th>\n",
       "      <th>age</th>\n",
       "      <th>TimeControl</th>\n",
       "      <th>UTCDate</th>\n",
       "      <th>Opening</th>\n",
       "      <th>...</th>\n",
       "      <th>g2</th>\n",
       "      <th>h2</th>\n",
       "      <th>a1</th>\n",
       "      <th>b1</th>\n",
       "      <th>c1</th>\n",
       "      <th>d1</th>\n",
       "      <th>e1</th>\n",
       "      <th>f1</th>\n",
       "      <th>g1</th>\n",
       "      <th>h1</th>\n",
       "    </tr>\n",
       "  </thead>\n",
       "  <tbody>\n",
       "    <tr>\n",
       "      <th>0</th>\n",
       "      <td>-13.060796</td>\n",
       "      <td>-5.761348</td>\n",
       "      <td>0</td>\n",
       "      <td>1</td>\n",
       "      <td>B - Semi-Open Games other than the French Defense</td>\n",
       "      <td>Scheyla_Perdomo26</td>\n",
       "      <td>0</td>\n",
       "      <td>180+2</td>\n",
       "      <td>2021.08.01</td>\n",
       "      <td>Sicilian Defense: Alapin Variation</td>\n",
       "      <td>...</td>\n",
       "      <td>wp</td>\n",
       "      <td>wp</td>\n",
       "      <td>wr</td>\n",
       "      <td>wn</td>\n",
       "      <td>wb</td>\n",
       "      <td>wq</td>\n",
       "      <td>wk</td>\n",
       "      <td>wb</td>\n",
       "      <td>wn</td>\n",
       "      <td>wr</td>\n",
       "    </tr>\n",
       "    <tr>\n",
       "      <th>1</th>\n",
       "      <td>3.322988</td>\n",
       "      <td>-10.792909</td>\n",
       "      <td>0</td>\n",
       "      <td>0</td>\n",
       "      <td>B - Semi-Open Games other than the French Defense</td>\n",
       "      <td>Gersonz</td>\n",
       "      <td>1</td>\n",
       "      <td>180+2</td>\n",
       "      <td>2021.08.01</td>\n",
       "      <td>Sicilian Defense: Alapin Variation</td>\n",
       "      <td>...</td>\n",
       "      <td>wp</td>\n",
       "      <td>wp</td>\n",
       "      <td>wr</td>\n",
       "      <td>wn</td>\n",
       "      <td>wb</td>\n",
       "      <td>wq</td>\n",
       "      <td>wk</td>\n",
       "      <td>wb</td>\n",
       "      <td>wn</td>\n",
       "      <td>wr</td>\n",
       "    </tr>\n",
       "    <tr>\n",
       "      <th>2</th>\n",
       "      <td>7.339948</td>\n",
       "      <td>-1.477295</td>\n",
       "      <td>0</td>\n",
       "      <td>0</td>\n",
       "      <td>B - Semi-Open Games other than the French Defense</td>\n",
       "      <td>Scheyla_Perdomo26</td>\n",
       "      <td>2</td>\n",
       "      <td>180+2</td>\n",
       "      <td>2021.08.01</td>\n",
       "      <td>Sicilian Defense: Alapin Variation</td>\n",
       "      <td>...</td>\n",
       "      <td>wp</td>\n",
       "      <td>wp</td>\n",
       "      <td>wr</td>\n",
       "      <td>wn</td>\n",
       "      <td>wb</td>\n",
       "      <td>wq</td>\n",
       "      <td>wk</td>\n",
       "      <td>wb</td>\n",
       "      <td>wn</td>\n",
       "      <td>wr</td>\n",
       "    </tr>\n",
       "    <tr>\n",
       "      <th>3</th>\n",
       "      <td>6.927953</td>\n",
       "      <td>-2.508935</td>\n",
       "      <td>0</td>\n",
       "      <td>1</td>\n",
       "      <td>B - Semi-Open Games other than the French Defense</td>\n",
       "      <td>Gersonz</td>\n",
       "      <td>3</td>\n",
       "      <td>180+2</td>\n",
       "      <td>2021.08.01</td>\n",
       "      <td>Sicilian Defense: Alapin Variation</td>\n",
       "      <td>...</td>\n",
       "      <td>wp</td>\n",
       "      <td>wp</td>\n",
       "      <td>wr</td>\n",
       "      <td>wn</td>\n",
       "      <td>wb</td>\n",
       "      <td>wq</td>\n",
       "      <td>wk</td>\n",
       "      <td>wb</td>\n",
       "      <td>wn</td>\n",
       "      <td>wr</td>\n",
       "    </tr>\n",
       "    <tr>\n",
       "      <th>4</th>\n",
       "      <td>-13.995721</td>\n",
       "      <td>-7.028684</td>\n",
       "      <td>1</td>\n",
       "      <td>1</td>\n",
       "      <td>B - Semi-Open Games other than the French Defense</td>\n",
       "      <td>rj270</td>\n",
       "      <td>0</td>\n",
       "      <td>60+0</td>\n",
       "      <td>2021.08.01</td>\n",
       "      <td>Caro-Kann Defense</td>\n",
       "      <td>...</td>\n",
       "      <td>wp</td>\n",
       "      <td>wp</td>\n",
       "      <td>wr</td>\n",
       "      <td>wn</td>\n",
       "      <td>wb</td>\n",
       "      <td>wq</td>\n",
       "      <td>wk</td>\n",
       "      <td>wb</td>\n",
       "      <td>wn</td>\n",
       "      <td>wr</td>\n",
       "    </tr>\n",
       "  </tbody>\n",
       "</table>\n",
       "<p>5 rows × 88 columns</p>\n",
       "</div>"
      ],
      "text/plain": [
       "           x          y  line  cp  \\\n",
       "0 -13.060796  -5.761348     0   1   \n",
       "1   3.322988 -10.792909     0   0   \n",
       "2   7.339948  -1.477295     0   0   \n",
       "3   6.927953  -2.508935     0   1   \n",
       "4 -13.995721  -7.028684     1   1   \n",
       "\n",
       "                                                algo             player  age  \\\n",
       "0  B - Semi-Open Games other than the French Defense  Scheyla_Perdomo26    0   \n",
       "1  B - Semi-Open Games other than the French Defense            Gersonz    1   \n",
       "2  B - Semi-Open Games other than the French Defense  Scheyla_Perdomo26    2   \n",
       "3  B - Semi-Open Games other than the French Defense            Gersonz    3   \n",
       "4  B - Semi-Open Games other than the French Defense              rj270    0   \n",
       "\n",
       "  TimeControl     UTCDate                             Opening  ...  g2  h2  \\\n",
       "0       180+2  2021.08.01  Sicilian Defense: Alapin Variation  ...  wp  wp   \n",
       "1       180+2  2021.08.01  Sicilian Defense: Alapin Variation  ...  wp  wp   \n",
       "2       180+2  2021.08.01  Sicilian Defense: Alapin Variation  ...  wp  wp   \n",
       "3       180+2  2021.08.01  Sicilian Defense: Alapin Variation  ...  wp  wp   \n",
       "4        60+0  2021.08.01                   Caro-Kann Defense  ...  wp  wp   \n",
       "\n",
       "   a1  b1  c1  d1  e1  f1  g1  h1  \n",
       "0  wr  wn  wb  wq  wk  wb  wn  wr  \n",
       "1  wr  wn  wb  wq  wk  wb  wn  wr  \n",
       "2  wr  wn  wb  wq  wk  wb  wn  wr  \n",
       "3  wr  wn  wb  wq  wk  wb  wn  wr  \n",
       "4  wr  wn  wb  wq  wk  wb  wn  wr  \n",
       "\n",
       "[5 rows x 88 columns]"
      ]
     },
     "execution_count": 35,
     "metadata": {},
     "output_type": "execute_result"
    }
   ],
   "source": [
    "import pandas as pd\n",
    "df = pd.read_csv('lichess_tsne.csv')\n",
    "df.reset_index(drop=True, inplace=True)\n",
    "df.head()"
   ]
  },
  {
   "cell_type": "code",
   "execution_count": 36,
   "metadata": {},
   "outputs": [
    {
     "data": {
      "text/html": [
       "<div>\n",
       "<style scoped>\n",
       "    .dataframe tbody tr th:only-of-type {\n",
       "        vertical-align: middle;\n",
       "    }\n",
       "\n",
       "    .dataframe tbody tr th {\n",
       "        vertical-align: top;\n",
       "    }\n",
       "\n",
       "    .dataframe thead th {\n",
       "        text-align: right;\n",
       "    }\n",
       "</style>\n",
       "<table border=\"1\" class=\"dataframe\">\n",
       "  <thead>\n",
       "    <tr style=\"text-align: right;\">\n",
       "      <th></th>\n",
       "      <th>x</th>\n",
       "      <th>y</th>\n",
       "      <th>line</th>\n",
       "      <th>cp</th>\n",
       "      <th>algo</th>\n",
       "      <th>player</th>\n",
       "      <th>age</th>\n",
       "      <th>TimeControl</th>\n",
       "      <th>UTCDate</th>\n",
       "      <th>Opening</th>\n",
       "      <th>...</th>\n",
       "      <th>g2</th>\n",
       "      <th>h2</th>\n",
       "      <th>a1</th>\n",
       "      <th>b1</th>\n",
       "      <th>c1</th>\n",
       "      <th>d1</th>\n",
       "      <th>e1</th>\n",
       "      <th>f1</th>\n",
       "      <th>g1</th>\n",
       "      <th>h1</th>\n",
       "    </tr>\n",
       "  </thead>\n",
       "  <tbody>\n",
       "    <tr>\n",
       "      <th>0</th>\n",
       "      <td>15.824866</td>\n",
       "      <td>-0.783094</td>\n",
       "      <td>0</td>\n",
       "      <td>1</td>\n",
       "      <td>B - Semi-Open Games other than the French Defense</td>\n",
       "      <td>Scheyla_Perdomo26</td>\n",
       "      <td>0</td>\n",
       "      <td>180+2</td>\n",
       "      <td>2021.08.01</td>\n",
       "      <td>Sicilian Defense: Alapin Variation</td>\n",
       "      <td>...</td>\n",
       "      <td>wp</td>\n",
       "      <td>wp</td>\n",
       "      <td>wr</td>\n",
       "      <td>wn</td>\n",
       "      <td>wb</td>\n",
       "      <td>wq</td>\n",
       "      <td>wk</td>\n",
       "      <td>wb</td>\n",
       "      <td>wn</td>\n",
       "      <td>wr</td>\n",
       "    </tr>\n",
       "    <tr>\n",
       "      <th>1</th>\n",
       "      <td>-6.146816</td>\n",
       "      <td>0.887275</td>\n",
       "      <td>0</td>\n",
       "      <td>0</td>\n",
       "      <td>B - Semi-Open Games other than the French Defense</td>\n",
       "      <td>Gersonz</td>\n",
       "      <td>1</td>\n",
       "      <td>180+2</td>\n",
       "      <td>2021.08.01</td>\n",
       "      <td>Sicilian Defense: Alapin Variation</td>\n",
       "      <td>...</td>\n",
       "      <td>wp</td>\n",
       "      <td>wp</td>\n",
       "      <td>wr</td>\n",
       "      <td>wn</td>\n",
       "      <td>wb</td>\n",
       "      <td>wq</td>\n",
       "      <td>wk</td>\n",
       "      <td>wb</td>\n",
       "      <td>wn</td>\n",
       "      <td>wr</td>\n",
       "    </tr>\n",
       "    <tr>\n",
       "      <th>2</th>\n",
       "      <td>26.477423</td>\n",
       "      <td>-5.531285</td>\n",
       "      <td>0</td>\n",
       "      <td>0</td>\n",
       "      <td>B - Semi-Open Games other than the French Defense</td>\n",
       "      <td>Scheyla_Perdomo26</td>\n",
       "      <td>2</td>\n",
       "      <td>180+2</td>\n",
       "      <td>2021.08.01</td>\n",
       "      <td>Sicilian Defense: Alapin Variation</td>\n",
       "      <td>...</td>\n",
       "      <td>wp</td>\n",
       "      <td>wp</td>\n",
       "      <td>wr</td>\n",
       "      <td>wn</td>\n",
       "      <td>wb</td>\n",
       "      <td>wq</td>\n",
       "      <td>wk</td>\n",
       "      <td>wb</td>\n",
       "      <td>wn</td>\n",
       "      <td>wr</td>\n",
       "    </tr>\n",
       "    <tr>\n",
       "      <th>3</th>\n",
       "      <td>25.189754</td>\n",
       "      <td>-4.247056</td>\n",
       "      <td>0</td>\n",
       "      <td>1</td>\n",
       "      <td>B - Semi-Open Games other than the French Defense</td>\n",
       "      <td>Gersonz</td>\n",
       "      <td>3</td>\n",
       "      <td>180+2</td>\n",
       "      <td>2021.08.01</td>\n",
       "      <td>Sicilian Defense: Alapin Variation</td>\n",
       "      <td>...</td>\n",
       "      <td>wp</td>\n",
       "      <td>wp</td>\n",
       "      <td>wr</td>\n",
       "      <td>wn</td>\n",
       "      <td>wb</td>\n",
       "      <td>wq</td>\n",
       "      <td>wk</td>\n",
       "      <td>wb</td>\n",
       "      <td>wn</td>\n",
       "      <td>wr</td>\n",
       "    </tr>\n",
       "    <tr>\n",
       "      <th>4</th>\n",
       "      <td>14.440341</td>\n",
       "      <td>-1.261649</td>\n",
       "      <td>1</td>\n",
       "      <td>1</td>\n",
       "      <td>B - Semi-Open Games other than the French Defense</td>\n",
       "      <td>rj270</td>\n",
       "      <td>0</td>\n",
       "      <td>60+0</td>\n",
       "      <td>2021.08.01</td>\n",
       "      <td>Caro-Kann Defense</td>\n",
       "      <td>...</td>\n",
       "      <td>wp</td>\n",
       "      <td>wp</td>\n",
       "      <td>wr</td>\n",
       "      <td>wn</td>\n",
       "      <td>wb</td>\n",
       "      <td>wq</td>\n",
       "      <td>wk</td>\n",
       "      <td>wb</td>\n",
       "      <td>wn</td>\n",
       "      <td>wr</td>\n",
       "    </tr>\n",
       "  </tbody>\n",
       "</table>\n",
       "<p>5 rows × 88 columns</p>\n",
       "</div>"
      ],
      "text/plain": [
       "           x         y  line  cp  \\\n",
       "0  15.824866 -0.783094     0   1   \n",
       "1  -6.146816  0.887275     0   0   \n",
       "2  26.477423 -5.531285     0   0   \n",
       "3  25.189754 -4.247056     0   1   \n",
       "4  14.440341 -1.261649     1   1   \n",
       "\n",
       "                                                algo             player  age  \\\n",
       "0  B - Semi-Open Games other than the French Defense  Scheyla_Perdomo26    0   \n",
       "1  B - Semi-Open Games other than the French Defense            Gersonz    1   \n",
       "2  B - Semi-Open Games other than the French Defense  Scheyla_Perdomo26    2   \n",
       "3  B - Semi-Open Games other than the French Defense            Gersonz    3   \n",
       "4  B - Semi-Open Games other than the French Defense              rj270    0   \n",
       "\n",
       "  TimeControl     UTCDate                             Opening  ...  g2  h2  \\\n",
       "0       180+2  2021.08.01  Sicilian Defense: Alapin Variation  ...  wp  wp   \n",
       "1       180+2  2021.08.01  Sicilian Defense: Alapin Variation  ...  wp  wp   \n",
       "2       180+2  2021.08.01  Sicilian Defense: Alapin Variation  ...  wp  wp   \n",
       "3       180+2  2021.08.01  Sicilian Defense: Alapin Variation  ...  wp  wp   \n",
       "4        60+0  2021.08.01                   Caro-Kann Defense  ...  wp  wp   \n",
       "\n",
       "   a1  b1  c1  d1  e1  f1  g1  h1  \n",
       "0  wr  wn  wb  wq  wk  wb  wn  wr  \n",
       "1  wr  wn  wb  wq  wk  wb  wn  wr  \n",
       "2  wr  wn  wb  wq  wk  wb  wn  wr  \n",
       "3  wr  wn  wb  wq  wk  wb  wn  wr  \n",
       "4  wr  wn  wb  wq  wk  wb  wn  wr  \n",
       "\n",
       "[5 rows x 88 columns]"
      ]
     },
     "execution_count": 36,
     "metadata": {},
     "output_type": "execute_result"
    }
   ],
   "source": [
    "df['x'] = umap_embedding[:,0]\n",
    "df['y'] = umap_embedding[:,1]\n",
    "df.head()\n",
    "# store"
   ]
  },
  {
   "cell_type": "code",
   "execution_count": 37,
   "metadata": {},
   "outputs": [],
   "source": [
    "df.to_csv('lichess_umap_seed0.csv')"
   ]
  },
  {
   "cell_type": "code",
   "execution_count": 38,
   "metadata": {},
   "outputs": [],
   "source": [
    "# fig = plt.figure(figsize=(8,8))\n",
    "# ax = fig.add_subplot(111)\n",
    "# ax.set_aspect(1)\n",
    "# for game in umap_embedding_split[:100]:\n",
    "#     ax.plot(game[:,0], game[:,1], '-r', alpha=0.1, color='red')\n",
    "# for game in umap_embedding_split[100:]:\n",
    "#     ax.plot(game[:,0], game[:,1], '-r', alpha=0.1, color='blue')"
   ]
  },
  {
   "cell_type": "markdown",
   "metadata": {},
   "source": [
    "## default parameters for UMAP over multiple seeds"
   ]
  },
  {
   "cell_type": "code",
   "execution_count": 39,
   "metadata": {},
   "outputs": [],
   "source": [
    "# import pandas as pd\n",
    "# import numpy as np\n",
    "\n",
    "# for seed in range(20):\n",
    "#     np.random.seed(seed)\n",
    "#     reducer = umap.UMAP()\n",
    "#     umap_embedding = reducer.fit_transform(final_data)\n",
    "#     df = pd.read_csv('tsne.csv')\n",
    "#     df['x'] = umap_embedding[:,0]\n",
    "#     df['y'] = umap_embedding[:,1]\n",
    "#     save_path = 'umap_seed_'+str(seed)+'.csv'\n",
    "#     print('storing to', save_path)\n",
    "#     df.to_csv(save_path)"
   ]
  },
  {
   "cell_type": "markdown",
   "metadata": {},
   "source": [
    "## UMAP Hparam Search"
   ]
  },
  {
   "cell_type": "code",
   "execution_count": 40,
   "metadata": {},
   "outputs": [],
   "source": [
    "# import pandas as pd\n",
    "# import umap.umap_ as umap\n",
    "# from matplotlib import pyplot as plt\n",
    "# OUTPUT_FILE_NAME = 'umap_outputs/'"
   ]
  },
  {
   "cell_type": "code",
   "execution_count": 41,
   "metadata": {},
   "outputs": [],
   "source": [
    "# def run_umap(data, path, learning_rate, nn, n_epochs, min_dist=0.1\n",
    "#     reducer = umap.UMAP(n_neighbors=nn, learning_rate=learning_rate, n_epochs=n_epochs, min_dist=min_dist)\n",
    "    \n",
    "#     csv_path = path+'_nn'+str(nn)+'_lr'+str(learning_rate)+'_nepochs'+str(n_epochs)+'_mindist'+str(min_dist)+'.csv'\n",
    "#     image_file_name = path+'_nn'+str(nn)+'_lr'+str(learning_rate)+'_nepochs'+str(n_epochs)+'_mindist'+str(min_dist)+'.png'\n",
    "    \n",
    "#     print('fitting umap embedding for', csv_path)\n",
    "#     umap_embedding = reducer.fit_transform(data)\n",
    "    \n",
    "#     umap_df = pd.DataFrame(umap_embedding)\n",
    "#     umap_df.to_csv(csv_path)\n",
    "    \n",
    "#     plt.figure()\n",
    "#     plt.scatter(umap_embedding[:,0],umap_embedding[:,1])\n",
    "#     print('storing to', csv_path)\n",
    "#     plt.savefig(image_file_name)\n",
    "#     plt.close()"
   ]
  },
  {
   "cell_type": "code",
   "execution_count": 42,
   "metadata": {},
   "outputs": [],
   "source": [
    "# nns = [25,30,35,40,45]\n",
    "# n_epochs_settings = [200, 300, 400, 500, 600, 700,]\n",
    "# min_dist = [0.1]\n",
    "# learning_rate = [1.0]\n",
    "# for nn in nns:\n",
    "#     for n_epochs in n_epochs_settings:\n",
    "#         for md in min_dist:\n",
    "#             for lr in learning_rate:\n",
    "#                 run_umap(data=final_data, path=OUTPUT_FILE_NAME, learning_rate=lr, nn=nn, n_epochs=n_epochs, min_dist=md)"
   ]
  }
 ],
 "metadata": {
  "kernelspec": {
   "display_name": "Python 3 (ipykernel)",
   "language": "python",
   "name": "python3"
  },
  "language_info": {
   "codemirror_mode": {
    "name": "ipython",
    "version": 3
   },
   "file_extension": ".py",
   "mimetype": "text/x-python",
   "name": "python",
   "nbconvert_exporter": "python",
   "pygments_lexer": "ipython3",
   "version": "3.9.7"
  }
 },
 "nbformat": 4,
 "nbformat_minor": 4
}
