{
 "cells": [
  {
   "cell_type": "code",
   "execution_count": 1,
   "metadata": {},
   "outputs": [],
   "source": [
    "from pgn2gif import chess\n",
    "import numpy as np\n",
    "from openTSNE import TSNE\n",
    "from openTSNE.callbacks import ErrorApproximations\n",
    "from matplotlib import pyplot as plt\n",
    "from scipy import interpolate\n",
    "import re\n",
    "\n",
    "FILE_NAME = '../alphazero_vs_stockfish_all.pgn'"
   ]
  },
  {
   "cell_type": "code",
   "execution_count": 2,
   "metadata": {},
   "outputs": [],
   "source": [
    "def state_to_vector(state):\n",
    "    piece_dict = {\n",
    "        'wr': [1,0,0,0,0,0,0,0,0,0,0,0,0],\n",
    "        'wn': [0,1,0,0,0,0,0,0,0,0,0,0,0],\n",
    "        'wb': [0,0,1,0,0,0,0,0,0,0,0,0,0],\n",
    "        'wk': [0,0,0,1,0,0,0,0,0,0,0,0,0],\n",
    "        'wq': [0,0,0,0,1,0,0,0,0,0,0,0,0],\n",
    "        'wp': [0,0,0,0,0,1,0,0,0,0,0,0,0],\n",
    "        'br': [0,0,0,0,0,0,1,0,0,0,0,0,0],\n",
    "        'bn': [0,0,0,0,0,0,0,1,0,0,0,0,0],\n",
    "        'bb': [0,0,0,0,0,0,0,0,1,0,0,0,0],\n",
    "        'bk': [0,0,0,0,0,0,0,0,0,1,0,0,0],\n",
    "        'bq': [0,0,0,0,0,0,0,0,0,0,1,0,0],\n",
    "        'bp': [0,0,0,0,0,0,0,0,0,0,0,1,0],\n",
    "        '':   [0,0,0,0,0,0,0,0,0,0,0,0,1],\n",
    "    }    \n",
    "    state_list = list(state.values())    \n",
    "    vector = []\n",
    "    for piece in state_list:\n",
    "        vector.append(piece_dict[piece])\n",
    "    return np.array(vector).ravel()\n",
    "\n",
    "def vector_to_state(vector):\n",
    "    vec_dict = {\n",
    "        '1000000000000': \"wr\",\n",
    "        '0100000000000': \"wn\",\n",
    "        '0010000000000': \"wb\",\n",
    "        '0001000000000': \"wk\",\n",
    "        '0000100000000': \"wq\",\n",
    "        '0000010000000': \"wp\",\n",
    "        '0000001000000': \"br\",\n",
    "        '0000000100000': \"bn\",\n",
    "        '0000000010000': \"bb\",\n",
    "        '0000000001000': \"bk\",\n",
    "        '0000000000100': \"bq\",\n",
    "        '0000000000010': \"bp\",\n",
    "        '0000000000001': \"\"\n",
    "    }\n",
    "    \n",
    "    return vec_dict[vector]"
   ]
  },
  {
   "cell_type": "code",
   "execution_count": 3,
   "metadata": {},
   "outputs": [],
   "source": [
    "# def game_to_vectors(file):\n",
    "#     moves = chess.get_moves_from_pgn(file)\n",
    "#     game = chess.ChessGame()\n",
    "#     vectors = [state_to_vector(game.state)]\n",
    "#     for move in moves:\n",
    "#         game.push(move)\n",
    "#         vectors.append(state_to_vector(game.state))\n",
    "#     return np.stack(vectors)"
   ]
  },
  {
   "cell_type": "code",
   "execution_count": 4,
   "metadata": {},
   "outputs": [],
   "source": [
    "def game_to_vectors(file):\n",
    "    game = chess.ChessGame(file)\n",
    "    vectors = [state_to_vector(game.state)]\n",
    "    while not game.is_finished:\n",
    "        try:\n",
    "            game.next()\n",
    "        except:\n",
    "            pass\n",
    "        vectors.append(state_to_vector(game.state))\n",
    "    return np.stack(vectors)"
   ]
  },
  {
   "cell_type": "code",
   "execution_count": 5,
   "metadata": {},
   "outputs": [],
   "source": [
    "def get_moves_from_pgn(pgn):\n",
    "    with open(pgn) as p:\n",
    "        data = p.read()\n",
    "        data = re.sub(r'\\{.*?\\}', '', data)  # Removes pgn comments\n",
    "        moves = re.findall(\n",
    "            r'[a-h]x?[a-h]?[1-8]=?[BKNRQ]?|O-O-?O?|[BKNRQ][a-h1-8]?[a-h1-8]?x?[a-h][1-8]',\n",
    "            data)\n",
    "        return [move.replace('x', '') for move in moves]"
   ]
  },
  {
   "cell_type": "code",
   "execution_count": 6,
   "metadata": {},
   "outputs": [],
   "source": [
    "def get_metadata_from_pgn(pgn):\n",
    "    with open(pgn) as p:\n",
    "        data = p.read()\n",
    "        data = re.sub(r'\\{.*?\\}', '', data)  # Removes pgn comments\n",
    "        metadata = {}\n",
    "        metadata['white'] = re.findall(\n",
    "            r'\\[White \"(.*)\"]',\n",
    "            data)[0]\n",
    "        metadata['black'] = re.findall(\n",
    "            r'\\[Black \"(.*)\"]',\n",
    "            data)[0]\n",
    "        metadata['result'] = re.findall(\n",
    "            r'\\[Result \"(.*)\"]',\n",
    "            data)[0]\n",
    "        return metadata"
   ]
  },
  {
   "cell_type": "code",
   "execution_count": 7,
   "metadata": {},
   "outputs": [
    {
     "name": "stdout",
     "output_type": "stream",
     "text": [
      "start loading\n"
     ]
    }
   ],
   "source": [
    "print(\"start loading\")"
   ]
  },
  {
   "cell_type": "code",
   "execution_count": 8,
   "metadata": {},
   "outputs": [],
   "source": [
    "np.random.seed(0)\n",
    "randgames = ['games/game-{:05d}.pgn'.format(n) for n in np.unique(np.random.randint(40000,size=50))]"
   ]
  },
  {
   "cell_type": "code",
   "execution_count": 9,
   "metadata": {},
   "outputs": [],
   "source": [
    "from pathlib import Path\n",
    "Path(\"games\").mkdir(parents=True, exist_ok=True)\n",
    "\n",
    "with open(FILE_NAME, 'r') as f:\n",
    "    all_games = f.read()\n",
    "\n",
    "span = 2\n",
    "all_games = all_games.split(\"\\n\\n\")\n",
    "split_games  = [\"\\n\\n\".join(all_games[i:i+span]) for i in range(0, len(all_games), span)]\n",
    "\n",
    "\n",
    "for i in range(len(split_games)):\n",
    "    with open('games/game-{:05d}.pgn'.format(i+1),'w') as f:\n",
    "        f.write(split_games[i])"
   ]
  },
  {
   "cell_type": "code",
   "execution_count": 10,
   "metadata": {},
   "outputs": [],
   "source": [
    "notrandgames = ['games/game-{:05d}.pgn'.format(n+1) for n in range(10000)]"
   ]
  },
  {
   "cell_type": "code",
   "execution_count": 11,
   "metadata": {},
   "outputs": [],
   "source": [
    "# notrandgames = [FILE_NAME]"
   ]
  },
  {
   "cell_type": "code",
   "execution_count": 12,
   "metadata": {},
   "outputs": [
    {
     "data": {
      "text/plain": [
       "array([[0, 0, 0, ..., 0, 0, 0],\n",
       "       [0, 0, 0, ..., 0, 0, 0],\n",
       "       [0, 0, 0, ..., 0, 0, 0],\n",
       "       ...,\n",
       "       [0, 0, 0, ..., 0, 0, 1],\n",
       "       [0, 0, 0, ..., 0, 0, 1],\n",
       "       [0, 0, 0, ..., 0, 0, 1]])"
      ]
     },
     "execution_count": 12,
     "metadata": {},
     "output_type": "execute_result"
    }
   ],
   "source": [
    "game_to_vectors(notrandgames[0])"
   ]
  },
  {
   "cell_type": "code",
   "execution_count": 13,
   "metadata": {},
   "outputs": [],
   "source": [
    "notrandgames_checked = []\n",
    "metadata = []\n",
    "for id, g in enumerate(notrandgames):\n",
    "    try:\n",
    "        game_to_vectors(g)\n",
    "    except:\n",
    "        pass\n",
    "    else:\n",
    "        notrandgames_checked.append((id,g))\n",
    "        metadata.append(get_metadata_from_pgn(g))"
   ]
  },
  {
   "cell_type": "code",
   "execution_count": 14,
   "metadata": {},
   "outputs": [],
   "source": [
    "# notrandgames_checked"
   ]
  },
  {
   "cell_type": "code",
   "execution_count": 15,
   "metadata": {},
   "outputs": [],
   "source": [
    "# get_moves_from_pgn(FILE_NAME)"
   ]
  },
  {
   "cell_type": "code",
   "execution_count": 16,
   "metadata": {},
   "outputs": [],
   "source": [
    "# firstmoves = [(g[0],get_moves_from_pgn(g[1])[0]) for g in notrandgames_checked]"
   ]
  },
  {
   "cell_type": "code",
   "execution_count": 17,
   "metadata": {},
   "outputs": [],
   "source": [
    "# nf3_indices = []\n",
    "# for idx, fm in firstmoves:\n",
    "#     if fm == 'Nf3':\n",
    "#         nf3_indices.append(idx)"
   ]
  },
  {
   "cell_type": "code",
   "execution_count": 18,
   "metadata": {},
   "outputs": [],
   "source": [
    "# d4_indices = []\n",
    "# for idx, fm in firstmoves:\n",
    "#     if fm == 'd4':\n",
    "#         d4_indices.append(idx)"
   ]
  },
  {
   "cell_type": "code",
   "execution_count": 19,
   "metadata": {},
   "outputs": [],
   "source": [
    "# c4_indices = []\n",
    "# for idx, fm in firstmoves:\n",
    "#     if fm == 'c4':\n",
    "#         c4_indices.append(idx)"
   ]
  },
  {
   "cell_type": "code",
   "execution_count": 20,
   "metadata": {},
   "outputs": [],
   "source": [
    "# e4_indices = []\n",
    "# for idx, fm in firstmoves:\n",
    "#     if fm == 'e4':\n",
    "#         e4_indices.append(idx)"
   ]
  },
  {
   "cell_type": "code",
   "execution_count": 21,
   "metadata": {},
   "outputs": [],
   "source": [
    "# nf3_games = ['games/game-{:05d}.pgn'.format(n+1) for n in np.array(nf3_indices)[:150]]\n",
    "# d4_games = ['games/game-{:05d}.pgn'.format(n+1) for n in np.array(d4_indices)[:150]]\n",
    "# c4_games = ['games/game-{:05d}.pgn'.format(n+1) for n in np.array(c4_indices)[:150]]\n",
    "# e4_games = ['games/game-{:05d}.pgn'.format(n+1) for n in np.array(e4_indices)[:150]]"
   ]
  },
  {
   "cell_type": "code",
   "execution_count": 22,
   "metadata": {},
   "outputs": [],
   "source": [
    "# print(len(nf3_games))\n",
    "# print(len(d4_games))\n",
    "# print(len(c4_games))\n",
    "# print(len(e4_games))"
   ]
  },
  {
   "cell_type": "code",
   "execution_count": 23,
   "metadata": {},
   "outputs": [],
   "source": [
    "# both_games = np.concatenate([nf3_games, d4_games, c4_games, e4_games])"
   ]
  },
  {
   "cell_type": "code",
   "execution_count": 24,
   "metadata": {},
   "outputs": [],
   "source": [
    "# game_matrices = [game_to_vectors(g) for g in both_games]"
   ]
  },
  {
   "cell_type": "code",
   "execution_count": 25,
   "metadata": {},
   "outputs": [],
   "source": [
    "# add all games regardless of first move\n",
    "firstmoves = [(g[0],get_moves_from_pgn(g[1])[0]) for g in notrandgames_checked]\n",
    "indices = []\n",
    "for idx, fm in firstmoves:\n",
    "    indices.append(idx)\n",
    "games = ['games/game-{:05d}.pgn'.format(n+1) for n in np.array(indices)]\n",
    "game_matrices = [game_to_vectors(g) for g in games]"
   ]
  },
  {
   "cell_type": "markdown",
   "metadata": {},
   "source": [
    "### handling an error where the last 2 states of each game are equivalent - remove redundant one"
   ]
  },
  {
   "cell_type": "code",
   "execution_count": 26,
   "metadata": {},
   "outputs": [],
   "source": [
    "# game matrices is num_games * num_turns * 832 \n",
    "for game in range(len(game_matrices)):\n",
    "    # check for each game whether last 2 game states are equivalent\n",
    "    if np.all(game_matrices[game][-2] == game_matrices[game][-1]):\n",
    "        # if so, remove the last state\n",
    "        game_matrices[game] = game_matrices[game][:-1]"
   ]
  },
  {
   "cell_type": "markdown",
   "metadata": {},
   "source": [
    "### removing last state after checkmate\n",
    "there is no move left to be done, therefore lc0 or any chess network wouldn't predict on it - the lc0 dataset does not contain this state"
   ]
  },
  {
   "cell_type": "code",
   "execution_count": 27,
   "metadata": {},
   "outputs": [],
   "source": [
    "# # game matrices is num_games * num_turns * 832 \n",
    "# for game in range(len(game_matrices)):\n",
    "#     game_matrices[game] = game_matrices[game][:-1]"
   ]
  },
  {
   "cell_type": "code",
   "execution_count": 28,
   "metadata": {},
   "outputs": [],
   "source": [
    "# TODO remove index restriction\n",
    "final_data = np.concatenate(game_matrices)"
   ]
  },
  {
   "cell_type": "code",
   "execution_count": 29,
   "metadata": {},
   "outputs": [
    {
     "name": "stdout",
     "output_type": "stream",
     "text": [
      "{'white': 'AlphaZero', 'black': 'Stockfish 8', 'result': '1-0'}\n"
     ]
    }
   ],
   "source": [
    "print(metadata[0])"
   ]
  },
  {
   "cell_type": "code",
   "execution_count": 30,
   "metadata": {},
   "outputs": [],
   "source": [
    "tsne = TSNE(\n",
    "    perplexity=200,\n",
    "    n_jobs=6,\n",
    "    metric='euclidean',\n",
    "    random_state=42\n",
    ")"
   ]
  },
  {
   "cell_type": "code",
   "execution_count": 31,
   "metadata": {
    "scrolled": true
   },
   "outputs": [
    {
     "name": "stdout",
     "output_type": "stream",
     "text": [
      "CPU times: user 11min 32s, sys: 12.5 s, total: 11min 44s\n",
      "Wall time: 2min 35s\n"
     ]
    }
   ],
   "source": [
    "%time embedding = tsne.fit(np.array(final_data))"
   ]
  },
  {
   "cell_type": "code",
   "execution_count": 32,
   "metadata": {},
   "outputs": [],
   "source": [
    "embedding_split = np.array_split(embedding, np.add.accumulate([len(l) for l in game_matrices]))[:-1]"
   ]
  },
  {
   "cell_type": "code",
   "execution_count": 33,
   "metadata": {
    "scrolled": true
   },
   "outputs": [],
   "source": [
    "# fig = plt.figure(figsize=(15,15))\n",
    "# ax = fig.add_subplot(111)\n",
    "# ax.set_aspect(1)\n",
    "# for game in embedding_split[:10]:\n",
    "#     tck, u = interpolate.splprep(game.transpose(), s=0)\n",
    "#     unew = np.arange(0, 1.01, 0.01)\n",
    "#     out = interpolate.splev(unew, tck)\n",
    "#     ax.plot(out[0], out[1], '-r', alpha=0.03, color='red')\n",
    "#     ax.scatter(game[:,0], game[:,1], s=0.1, color='red')\n",
    "# #for game in embedding_split[10:800]:\n",
    "# #    tck, u = interpolate.splprep(game.transpose(), s=0)\n",
    "# #    unew = np.arange(0, 1.01, 0.01)\n",
    "# #    out = interpolate.splev(unew, tck)\n",
    "# #    ax.plot(out[0], out[1], '-r', alpha=0.03, color='blue')\n",
    "# #    ax.scatter(game[:,0], game[:,1], s=0.1, color='blue')\n",
    "# plt.xlim((-40,50));\n",
    "# plt.ylim((-60,40));\n",
    "# #for game in embedding_split[100:]:\n",
    "# #    ax.plot(game[:,0], game[:,1], '-r', alpha=0.1, color='blue')\n",
    "\n",
    "\n",
    "# write header\n",
    "csv = open(\"tsne.csv\", \"w\")\n",
    "csv.write(\"x,y,line,cp,algo,player,age,a8,b8,c8,d8,e8,f8,g8,h8,a7,b7,c7,d7,e7,f7,g7,h7,a6,b6,c6,d6,e6,f6,g6,h6,a5,b5,c5,d5,e5,f5,g5,h5,a4,b4,c4,d4,e4,f4,g4,h4,a3,b3,c3,d3,e3,f3,g3,h3,a2,b2,c2,d2,e2,f2,g2,h2,a1,b1,c1,d1,e1,f1,g1,h1\")\n",
    "csv.write(\"\\n\")\n",
    "idx = 0\n",
    "\n",
    "# for gameIndex, game in enumerate(embedding_split[:450]):\n",
    "for gameIndex, game in enumerate(embedding_split):\n",
    "    pi = 0\n",
    "    for idx, pos in enumerate(game):\n",
    "        csv.write(str(pos[0]))\n",
    "        csv.write(\",\")\n",
    "        csv.write(str(pos[1]))\n",
    "        \n",
    "        # number of game\n",
    "        csv.write(\",\")\n",
    "        csv.write(str(gameIndex))\n",
    "        \n",
    "        # checkpoint\n",
    "        csv.write(\",\")\n",
    "        if idx == 0:\n",
    "            csv.write(\"1\")\n",
    "        elif idx == len(game) - 1:\n",
    "            csv.write(\"1\")\n",
    "        else:\n",
    "            csv.write(\"0\")\n",
    "        \n",
    "        \n",
    "        \n",
    "        # method, in this case the starting move\n",
    "        csv.write(\",\")\n",
    "        # TODO replace with which player wins this game\n",
    "        winner = metadata[gameIndex]['result']\n",
    "        winner = winner.replace('1-0', metadata[gameIndex]['white'])\n",
    "        winner = winner.replace('0-1', metadata[gameIndex]['black'])\n",
    "        csv.write(winner)\n",
    "#         if 0 <= gameIndex <= 150:\n",
    "#             csv.write(\"0\")\n",
    "#         elif 100 < gameIndex <= 300:\n",
    "#             csv.write(\"1\")\n",
    "#         else:\n",
    "#             csv.write(\"2\")\n",
    "\n",
    "        # player - whose turn is it\n",
    "        csv.write(\",\")\n",
    "        if idx % 2 == 0:\n",
    "            csv.write(metadata[gameIndex]['black'])\n",
    "        else:\n",
    "            csv.write(metadata[gameIndex]['white'])\n",
    "        \n",
    "        # age\n",
    "        csv.write(\",\")\n",
    "        csv.write(str(idx))\n",
    "        \n",
    "        for n in range(0, 64):\n",
    "            csv.write(\",\")\n",
    "            str1 = ''.join(str(e) for e in game_matrices[gameIndex][idx][n * 13: (n+1) * 13])\n",
    "            csv.write(vector_to_state(str1))\n",
    "            \n",
    "        csv.write(\"\\n\")\n",
    "    gameIndex += 1\n",
    "        \n",
    "csv.close()"
   ]
  },
  {
   "cell_type": "code",
   "execution_count": 34,
   "metadata": {},
   "outputs": [],
   "source": [
    "import umap.umap_ as umap\n",
    "from matplotlib import pyplot as plt\n",
    "np.random.seed(0)"
   ]
  },
  {
   "cell_type": "code",
   "execution_count": 35,
   "metadata": {},
   "outputs": [],
   "source": [
    "reducer = umap.UMAP(metric='cosine')"
   ]
  },
  {
   "cell_type": "code",
   "execution_count": 36,
   "metadata": {},
   "outputs": [],
   "source": [
    "umap_embedding = reducer.fit_transform(final_data)"
   ]
  },
  {
   "cell_type": "code",
   "execution_count": 37,
   "metadata": {},
   "outputs": [],
   "source": [
    "umap_embedding_split = np.array_split(umap_embedding, np.add.accumulate([len(l) for l in game_matrices]))[:-1]"
   ]
  },
  {
   "cell_type": "code",
   "execution_count": 38,
   "metadata": {},
   "outputs": [
    {
     "data": {
      "text/html": [
       "<div>\n",
       "<style scoped>\n",
       "    .dataframe tbody tr th:only-of-type {\n",
       "        vertical-align: middle;\n",
       "    }\n",
       "\n",
       "    .dataframe tbody tr th {\n",
       "        vertical-align: top;\n",
       "    }\n",
       "\n",
       "    .dataframe thead th {\n",
       "        text-align: right;\n",
       "    }\n",
       "</style>\n",
       "<table border=\"1\" class=\"dataframe\">\n",
       "  <thead>\n",
       "    <tr style=\"text-align: right;\">\n",
       "      <th></th>\n",
       "      <th>x</th>\n",
       "      <th>y</th>\n",
       "      <th>line</th>\n",
       "      <th>cp</th>\n",
       "      <th>algo</th>\n",
       "      <th>player</th>\n",
       "      <th>age</th>\n",
       "      <th>a8</th>\n",
       "      <th>b8</th>\n",
       "      <th>c8</th>\n",
       "      <th>...</th>\n",
       "      <th>g2</th>\n",
       "      <th>h2</th>\n",
       "      <th>a1</th>\n",
       "      <th>b1</th>\n",
       "      <th>c1</th>\n",
       "      <th>d1</th>\n",
       "      <th>e1</th>\n",
       "      <th>f1</th>\n",
       "      <th>g1</th>\n",
       "      <th>h1</th>\n",
       "    </tr>\n",
       "  </thead>\n",
       "  <tbody>\n",
       "    <tr>\n",
       "      <th>0</th>\n",
       "      <td>51.900578</td>\n",
       "      <td>-11.508027</td>\n",
       "      <td>0</td>\n",
       "      <td>1</td>\n",
       "      <td>AlphaZero</td>\n",
       "      <td>Stockfish 8</td>\n",
       "      <td>0</td>\n",
       "      <td>br</td>\n",
       "      <td>bn</td>\n",
       "      <td>bb</td>\n",
       "      <td>...</td>\n",
       "      <td>wp</td>\n",
       "      <td>wp</td>\n",
       "      <td>wr</td>\n",
       "      <td>wn</td>\n",
       "      <td>wb</td>\n",
       "      <td>wq</td>\n",
       "      <td>wk</td>\n",
       "      <td>wb</td>\n",
       "      <td>wn</td>\n",
       "      <td>wr</td>\n",
       "    </tr>\n",
       "    <tr>\n",
       "      <th>1</th>\n",
       "      <td>50.325249</td>\n",
       "      <td>-11.062610</td>\n",
       "      <td>0</td>\n",
       "      <td>0</td>\n",
       "      <td>AlphaZero</td>\n",
       "      <td>AlphaZero</td>\n",
       "      <td>1</td>\n",
       "      <td>br</td>\n",
       "      <td>bn</td>\n",
       "      <td>bb</td>\n",
       "      <td>...</td>\n",
       "      <td>wp</td>\n",
       "      <td>wp</td>\n",
       "      <td>wr</td>\n",
       "      <td>wn</td>\n",
       "      <td>wb</td>\n",
       "      <td>wq</td>\n",
       "      <td>wk</td>\n",
       "      <td>wb</td>\n",
       "      <td>NaN</td>\n",
       "      <td>wr</td>\n",
       "    </tr>\n",
       "    <tr>\n",
       "      <th>2</th>\n",
       "      <td>52.491436</td>\n",
       "      <td>-8.243605</td>\n",
       "      <td>0</td>\n",
       "      <td>0</td>\n",
       "      <td>AlphaZero</td>\n",
       "      <td>Stockfish 8</td>\n",
       "      <td>2</td>\n",
       "      <td>br</td>\n",
       "      <td>bn</td>\n",
       "      <td>bb</td>\n",
       "      <td>...</td>\n",
       "      <td>wp</td>\n",
       "      <td>wp</td>\n",
       "      <td>wr</td>\n",
       "      <td>wn</td>\n",
       "      <td>wb</td>\n",
       "      <td>wq</td>\n",
       "      <td>wk</td>\n",
       "      <td>wb</td>\n",
       "      <td>NaN</td>\n",
       "      <td>wr</td>\n",
       "    </tr>\n",
       "    <tr>\n",
       "      <th>3</th>\n",
       "      <td>53.056700</td>\n",
       "      <td>-5.131282</td>\n",
       "      <td>0</td>\n",
       "      <td>0</td>\n",
       "      <td>AlphaZero</td>\n",
       "      <td>AlphaZero</td>\n",
       "      <td>3</td>\n",
       "      <td>br</td>\n",
       "      <td>bn</td>\n",
       "      <td>bb</td>\n",
       "      <td>...</td>\n",
       "      <td>wp</td>\n",
       "      <td>wp</td>\n",
       "      <td>wr</td>\n",
       "      <td>wn</td>\n",
       "      <td>wb</td>\n",
       "      <td>wq</td>\n",
       "      <td>wk</td>\n",
       "      <td>wb</td>\n",
       "      <td>NaN</td>\n",
       "      <td>wr</td>\n",
       "    </tr>\n",
       "    <tr>\n",
       "      <th>4</th>\n",
       "      <td>54.079796</td>\n",
       "      <td>-3.365637</td>\n",
       "      <td>0</td>\n",
       "      <td>0</td>\n",
       "      <td>AlphaZero</td>\n",
       "      <td>Stockfish 8</td>\n",
       "      <td>4</td>\n",
       "      <td>br</td>\n",
       "      <td>bn</td>\n",
       "      <td>bb</td>\n",
       "      <td>...</td>\n",
       "      <td>wp</td>\n",
       "      <td>wp</td>\n",
       "      <td>wr</td>\n",
       "      <td>wn</td>\n",
       "      <td>wb</td>\n",
       "      <td>wq</td>\n",
       "      <td>wk</td>\n",
       "      <td>wb</td>\n",
       "      <td>NaN</td>\n",
       "      <td>wr</td>\n",
       "    </tr>\n",
       "  </tbody>\n",
       "</table>\n",
       "<p>5 rows × 71 columns</p>\n",
       "</div>"
      ],
      "text/plain": [
       "           x          y  line  cp       algo       player  age  a8  b8  c8  \\\n",
       "0  51.900578 -11.508027     0   1  AlphaZero  Stockfish 8    0  br  bn  bb   \n",
       "1  50.325249 -11.062610     0   0  AlphaZero    AlphaZero    1  br  bn  bb   \n",
       "2  52.491436  -8.243605     0   0  AlphaZero  Stockfish 8    2  br  bn  bb   \n",
       "3  53.056700  -5.131282     0   0  AlphaZero    AlphaZero    3  br  bn  bb   \n",
       "4  54.079796  -3.365637     0   0  AlphaZero  Stockfish 8    4  br  bn  bb   \n",
       "\n",
       "   ...  g2  h2  a1  b1  c1  d1  e1  f1   g1  h1  \n",
       "0  ...  wp  wp  wr  wn  wb  wq  wk  wb   wn  wr  \n",
       "1  ...  wp  wp  wr  wn  wb  wq  wk  wb  NaN  wr  \n",
       "2  ...  wp  wp  wr  wn  wb  wq  wk  wb  NaN  wr  \n",
       "3  ...  wp  wp  wr  wn  wb  wq  wk  wb  NaN  wr  \n",
       "4  ...  wp  wp  wr  wn  wb  wq  wk  wb  NaN  wr  \n",
       "\n",
       "[5 rows x 71 columns]"
      ]
     },
     "execution_count": 38,
     "metadata": {},
     "output_type": "execute_result"
    }
   ],
   "source": [
    "import pandas as pd\n",
    "df = pd.read_csv('tsne.csv')\n",
    "df.head()"
   ]
  },
  {
   "cell_type": "code",
   "execution_count": 39,
   "metadata": {},
   "outputs": [
    {
     "data": {
      "text/html": [
       "<div>\n",
       "<style scoped>\n",
       "    .dataframe tbody tr th:only-of-type {\n",
       "        vertical-align: middle;\n",
       "    }\n",
       "\n",
       "    .dataframe tbody tr th {\n",
       "        vertical-align: top;\n",
       "    }\n",
       "\n",
       "    .dataframe thead th {\n",
       "        text-align: right;\n",
       "    }\n",
       "</style>\n",
       "<table border=\"1\" class=\"dataframe\">\n",
       "  <thead>\n",
       "    <tr style=\"text-align: right;\">\n",
       "      <th></th>\n",
       "      <th>x</th>\n",
       "      <th>y</th>\n",
       "      <th>line</th>\n",
       "      <th>cp</th>\n",
       "      <th>algo</th>\n",
       "      <th>player</th>\n",
       "      <th>age</th>\n",
       "      <th>a8</th>\n",
       "      <th>b8</th>\n",
       "      <th>c8</th>\n",
       "      <th>...</th>\n",
       "      <th>g2</th>\n",
       "      <th>h2</th>\n",
       "      <th>a1</th>\n",
       "      <th>b1</th>\n",
       "      <th>c1</th>\n",
       "      <th>d1</th>\n",
       "      <th>e1</th>\n",
       "      <th>f1</th>\n",
       "      <th>g1</th>\n",
       "      <th>h1</th>\n",
       "    </tr>\n",
       "  </thead>\n",
       "  <tbody>\n",
       "    <tr>\n",
       "      <th>0</th>\n",
       "      <td>-12.203864</td>\n",
       "      <td>5.410787</td>\n",
       "      <td>0</td>\n",
       "      <td>1</td>\n",
       "      <td>AlphaZero</td>\n",
       "      <td>Stockfish 8</td>\n",
       "      <td>0</td>\n",
       "      <td>br</td>\n",
       "      <td>bn</td>\n",
       "      <td>bb</td>\n",
       "      <td>...</td>\n",
       "      <td>wp</td>\n",
       "      <td>wp</td>\n",
       "      <td>wr</td>\n",
       "      <td>wn</td>\n",
       "      <td>wb</td>\n",
       "      <td>wq</td>\n",
       "      <td>wk</td>\n",
       "      <td>wb</td>\n",
       "      <td>wn</td>\n",
       "      <td>wr</td>\n",
       "    </tr>\n",
       "    <tr>\n",
       "      <th>1</th>\n",
       "      <td>-7.167518</td>\n",
       "      <td>10.975452</td>\n",
       "      <td>0</td>\n",
       "      <td>0</td>\n",
       "      <td>AlphaZero</td>\n",
       "      <td>AlphaZero</td>\n",
       "      <td>1</td>\n",
       "      <td>br</td>\n",
       "      <td>bn</td>\n",
       "      <td>bb</td>\n",
       "      <td>...</td>\n",
       "      <td>wp</td>\n",
       "      <td>wp</td>\n",
       "      <td>wr</td>\n",
       "      <td>wn</td>\n",
       "      <td>wb</td>\n",
       "      <td>wq</td>\n",
       "      <td>wk</td>\n",
       "      <td>wb</td>\n",
       "      <td>NaN</td>\n",
       "      <td>wr</td>\n",
       "    </tr>\n",
       "    <tr>\n",
       "      <th>2</th>\n",
       "      <td>-6.991467</td>\n",
       "      <td>11.288157</td>\n",
       "      <td>0</td>\n",
       "      <td>0</td>\n",
       "      <td>AlphaZero</td>\n",
       "      <td>Stockfish 8</td>\n",
       "      <td>2</td>\n",
       "      <td>br</td>\n",
       "      <td>bn</td>\n",
       "      <td>bb</td>\n",
       "      <td>...</td>\n",
       "      <td>wp</td>\n",
       "      <td>wp</td>\n",
       "      <td>wr</td>\n",
       "      <td>wn</td>\n",
       "      <td>wb</td>\n",
       "      <td>wq</td>\n",
       "      <td>wk</td>\n",
       "      <td>wb</td>\n",
       "      <td>NaN</td>\n",
       "      <td>wr</td>\n",
       "    </tr>\n",
       "    <tr>\n",
       "      <th>3</th>\n",
       "      <td>-6.883981</td>\n",
       "      <td>11.161638</td>\n",
       "      <td>0</td>\n",
       "      <td>0</td>\n",
       "      <td>AlphaZero</td>\n",
       "      <td>AlphaZero</td>\n",
       "      <td>3</td>\n",
       "      <td>br</td>\n",
       "      <td>bn</td>\n",
       "      <td>bb</td>\n",
       "      <td>...</td>\n",
       "      <td>wp</td>\n",
       "      <td>wp</td>\n",
       "      <td>wr</td>\n",
       "      <td>wn</td>\n",
       "      <td>wb</td>\n",
       "      <td>wq</td>\n",
       "      <td>wk</td>\n",
       "      <td>wb</td>\n",
       "      <td>NaN</td>\n",
       "      <td>wr</td>\n",
       "    </tr>\n",
       "    <tr>\n",
       "      <th>4</th>\n",
       "      <td>-6.886517</td>\n",
       "      <td>11.086916</td>\n",
       "      <td>0</td>\n",
       "      <td>0</td>\n",
       "      <td>AlphaZero</td>\n",
       "      <td>Stockfish 8</td>\n",
       "      <td>4</td>\n",
       "      <td>br</td>\n",
       "      <td>bn</td>\n",
       "      <td>bb</td>\n",
       "      <td>...</td>\n",
       "      <td>wp</td>\n",
       "      <td>wp</td>\n",
       "      <td>wr</td>\n",
       "      <td>wn</td>\n",
       "      <td>wb</td>\n",
       "      <td>wq</td>\n",
       "      <td>wk</td>\n",
       "      <td>wb</td>\n",
       "      <td>NaN</td>\n",
       "      <td>wr</td>\n",
       "    </tr>\n",
       "  </tbody>\n",
       "</table>\n",
       "<p>5 rows × 71 columns</p>\n",
       "</div>"
      ],
      "text/plain": [
       "           x          y  line  cp       algo       player  age  a8  b8  c8  \\\n",
       "0 -12.203864   5.410787     0   1  AlphaZero  Stockfish 8    0  br  bn  bb   \n",
       "1  -7.167518  10.975452     0   0  AlphaZero    AlphaZero    1  br  bn  bb   \n",
       "2  -6.991467  11.288157     0   0  AlphaZero  Stockfish 8    2  br  bn  bb   \n",
       "3  -6.883981  11.161638     0   0  AlphaZero    AlphaZero    3  br  bn  bb   \n",
       "4  -6.886517  11.086916     0   0  AlphaZero  Stockfish 8    4  br  bn  bb   \n",
       "\n",
       "   ...  g2  h2  a1  b1  c1  d1  e1  f1   g1  h1  \n",
       "0  ...  wp  wp  wr  wn  wb  wq  wk  wb   wn  wr  \n",
       "1  ...  wp  wp  wr  wn  wb  wq  wk  wb  NaN  wr  \n",
       "2  ...  wp  wp  wr  wn  wb  wq  wk  wb  NaN  wr  \n",
       "3  ...  wp  wp  wr  wn  wb  wq  wk  wb  NaN  wr  \n",
       "4  ...  wp  wp  wr  wn  wb  wq  wk  wb  NaN  wr  \n",
       "\n",
       "[5 rows x 71 columns]"
      ]
     },
     "execution_count": 39,
     "metadata": {},
     "output_type": "execute_result"
    }
   ],
   "source": [
    "df['x'] = umap_embedding[:,0]\n",
    "df['y'] = umap_embedding[:,1]\n",
    "df.head()\n",
    "# store"
   ]
  },
  {
   "cell_type": "code",
   "execution_count": 40,
   "metadata": {},
   "outputs": [],
   "source": [
    "df.to_csv('umap_cosine_seed0.csv')"
   ]
  },
  {
   "cell_type": "code",
   "execution_count": 41,
   "metadata": {},
   "outputs": [],
   "source": [
    "# fig = plt.figure(figsize=(8,8))\n",
    "# ax = fig.add_subplot(111)\n",
    "# ax.set_aspect(1)\n",
    "# for game in umap_embedding_split[:100]:\n",
    "#     ax.plot(game[:,0], game[:,1], '-r', alpha=0.1, color='red')\n",
    "# for game in umap_embedding_split[100:]:\n",
    "#     ax.plot(game[:,0], game[:,1], '-r', alpha=0.1, color='blue')"
   ]
  },
  {
   "cell_type": "markdown",
   "metadata": {},
   "source": [
    "## default parameters for UMAP over multiple seeds"
   ]
  },
  {
   "cell_type": "code",
   "execution_count": 42,
   "metadata": {},
   "outputs": [],
   "source": [
    "# import pandas as pd\n",
    "# import numpy as np\n",
    "\n",
    "# for seed in range(20):\n",
    "#     np.random.seed(seed)\n",
    "#     reducer = umap.UMAP()\n",
    "#     umap_embedding = reducer.fit_transform(final_data)\n",
    "#     df = pd.read_csv('tsne.csv')\n",
    "#     df['x'] = umap_embedding[:,0]\n",
    "#     df['y'] = umap_embedding[:,1]\n",
    "#     save_path = 'umap_seed_'+str(seed)+'.csv'\n",
    "#     print('storing to', save_path)\n",
    "#     df.to_csv(save_path)"
   ]
  },
  {
   "cell_type": "markdown",
   "metadata": {},
   "source": [
    "## UMAP Hparam Search"
   ]
  },
  {
   "cell_type": "code",
   "execution_count": 43,
   "metadata": {},
   "outputs": [],
   "source": [
    "# import pandas as pd\n",
    "# import umap.umap_ as umap\n",
    "# from matplotlib import pyplot as plt\n",
    "# OUTPUT_FILE_NAME = 'umap_outputs/'"
   ]
  },
  {
   "cell_type": "code",
   "execution_count": 44,
   "metadata": {},
   "outputs": [],
   "source": [
    "# def run_umap(data, path, learning_rate, nn, n_epochs, min_dist=0.1\n",
    "#     reducer = umap.UMAP(n_neighbors=nn, learning_rate=learning_rate, n_epochs=n_epochs, min_dist=min_dist)\n",
    "    \n",
    "#     csv_path = path+'_nn'+str(nn)+'_lr'+str(learning_rate)+'_nepochs'+str(n_epochs)+'_mindist'+str(min_dist)+'.csv'\n",
    "#     image_file_name = path+'_nn'+str(nn)+'_lr'+str(learning_rate)+'_nepochs'+str(n_epochs)+'_mindist'+str(min_dist)+'.png'\n",
    "    \n",
    "#     print('fitting umap embedding for', csv_path)\n",
    "#     umap_embedding = reducer.fit_transform(data)\n",
    "    \n",
    "#     umap_df = pd.DataFrame(umap_embedding)\n",
    "#     umap_df.to_csv(csv_path)\n",
    "    \n",
    "#     plt.figure()\n",
    "#     plt.scatter(umap_embedding[:,0],umap_embedding[:,1])\n",
    "#     print('storing to', csv_path)\n",
    "#     plt.savefig(image_file_name)\n",
    "#     plt.close()"
   ]
  },
  {
   "cell_type": "code",
   "execution_count": 45,
   "metadata": {},
   "outputs": [],
   "source": [
    "# nns = [25,30,35,40,45]\n",
    "# n_epochs_settings = [200, 300, 400, 500, 600, 700,]\n",
    "# min_dist = [0.1]\n",
    "# learning_rate = [1.0]\n",
    "# for nn in nns:\n",
    "#     for n_epochs in n_epochs_settings:\n",
    "#         for md in min_dist:\n",
    "#             for lr in learning_rate:\n",
    "#                 run_umap(data=final_data, path=OUTPUT_FILE_NAME, learning_rate=lr, nn=nn, n_epochs=n_epochs, min_dist=md)"
   ]
  }
 ],
 "metadata": {
  "kernelspec": {
   "display_name": "Python 3 (ipykernel)",
   "language": "python",
   "name": "python3"
  },
  "language_info": {
   "codemirror_mode": {
    "name": "ipython",
    "version": 3
   },
   "file_extension": ".py",
   "mimetype": "text/x-python",
   "name": "python",
   "nbconvert_exporter": "python",
   "pygments_lexer": "ipython3",
   "version": "3.9.6"
  }
 },
 "nbformat": 4,
 "nbformat_minor": 4
}
