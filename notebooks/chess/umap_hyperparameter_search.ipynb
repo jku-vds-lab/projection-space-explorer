{
 "cells": [
  {
   "cell_type": "code",
   "execution_count": null,
   "id": "117b151c",
   "metadata": {},
   "outputs": [],
   "source": [
    "import torch as th\n",
    "import numpy as np\n",
    "import pandas as pd\n",
    "\n",
    "FILE_NAME = 'D:\\\\steini\\\\chess\\\\lczero-training\\\\intermediate_layer_results.csv'\n",
    "OUTPUT_FILE_NAME = 'outputs\\\\a0sf_apply_policy_map_umap_embedding'"
   ]
  },
  {
   "cell_type": "code",
   "execution_count": null,
   "id": "e4e5cc93",
   "metadata": {},
   "outputs": [],
   "source": [
    "df = pd.read_csv(FILE_NAME)\n",
    "df.head()"
   ]
  },
  {
   "cell_type": "code",
   "execution_count": null,
   "id": "08b8169c",
   "metadata": {},
   "outputs": [],
   "source": [
    "df.info()"
   ]
  },
  {
   "cell_type": "code",
   "execution_count": null,
   "id": "068d585a",
   "metadata": {},
   "outputs": [],
   "source": [
    "loaded_x = th.tensor(df.values[:,1:])\n",
    "\n",
    "print(loaded_x)\n",
    "print(loaded_x.shape)"
   ]
  },
  {
   "cell_type": "code",
   "execution_count": null,
   "id": "9930995e",
   "metadata": {},
   "outputs": [],
   "source": [
    "import umap.umap_ as umap\n",
    "from matplotlib import pyplot as plt"
   ]
  },
  {
   "cell_type": "code",
   "execution_count": null,
   "id": "0f56cb7e",
   "metadata": {},
   "outputs": [],
   "source": [
    "def run_umap(path, learning_rate, nn, n_epochs, min_dist=0.1):\n",
    "    reducer = umap.UMAP(n_neighbors=nn, learning_rate=learning_rate, n_epochs=n_epochs, min_dist=min_dist)\n",
    "    \n",
    "    path = path+'_nn'+str(nn)+'_lr'+str(learning_rate)+'_nepochs'+str(n_epochs)+'_mindist'+str(min_dist)+'.csv'\n",
    "    image_file_name = path+'_nn'+str(nn)+'_lr'+str(learning_rate)+'_nepochs'+str(n_epochs)+'_mindist'+str(min_dist)+'.png'\n",
    "    \n",
    "    final_data = loaded_x\n",
    "    umap_embedding = reducer.fit_transform(final_data)\n",
    "    \n",
    "    umap_df = pd.DataFrame(umap_embedding)\n",
    "    umap_df.to_csv(path)\n",
    "    \n",
    "    plt.figure()\n",
    "    plt.scatter(umap_embedding[:,0],umap_embedding[:,1])\n",
    "    print('storing to', path)\n",
    "    plt.savefig(image_file_name)"
   ]
  },
  {
   "cell_type": "code",
   "execution_count": null,
   "id": "e7b3b537",
   "metadata": {},
   "outputs": [],
   "source": [
    "nns = [5,15,30,50,100]\n",
    "n_epochs_settings = [50, 200, 500, 1000]\n",
    "min_dist = [0.1]\n",
    "learning_rate = [1.0]\n",
    "for nn in nns:\n",
    "    for n_epochs in n_epochs_settings:\n",
    "        for md in min_dist:\n",
    "            for lr in learning_rate:\n",
    "                run_umap(path=OUTPUT_FILE_NAME, learning_rate=lr, nn=nn, n_epochs=n_epochs, min_dist=md)"
   ]
  }
 ],
 "metadata": {
  "kernelspec": {
   "display_name": "Python 3",
   "language": "python",
   "name": "python3"
  },
  "language_info": {
   "codemirror_mode": {
    "name": "ipython",
    "version": 3
   },
   "file_extension": ".py",
   "mimetype": "text/x-python",
   "name": "python",
   "nbconvert_exporter": "python",
   "pygments_lexer": "ipython3",
   "version": "3.8.10"
  }
 },
 "nbformat": 4,
 "nbformat_minor": 5
}
