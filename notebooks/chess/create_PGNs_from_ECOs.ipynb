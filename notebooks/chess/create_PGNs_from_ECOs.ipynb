{
 "cells": [
  {
   "cell_type": "code",
   "execution_count": 1,
   "id": "5ce8412c",
   "metadata": {},
   "outputs": [],
   "source": [
    "import numpy as np\n",
    "import pandas as pd\n",
    "\n",
    "pgn_file_save_dir = \"ECO_games\"\n",
    "eco_code_paths = [\n",
    "    \"ECOs/a.tsv\",\n",
    "    \"ECOs/b.tsv\",\n",
    "    \"ECOs/c.tsv\",\n",
    "    \"ECOs/d.tsv\",\n",
    "    \"ECOs/e.tsv\"\n",
    "]"
   ]
  },
  {
   "cell_type": "markdown",
   "id": "b838f583",
   "metadata": {},
   "source": [
    "### Load ECO code files"
   ]
  },
  {
   "cell_type": "code",
   "execution_count": 2,
   "id": "1e220275",
   "metadata": {},
   "outputs": [],
   "source": [
    "eco_dfs = [pd.read_csv(path, sep='\\t', header=0) for path in eco_code_paths]"
   ]
  },
  {
   "cell_type": "code",
   "execution_count": 3,
   "id": "271be168",
   "metadata": {},
   "outputs": [
    {
     "data": {
      "text/html": [
       "<div>\n",
       "<style scoped>\n",
       "    .dataframe tbody tr th:only-of-type {\n",
       "        vertical-align: middle;\n",
       "    }\n",
       "\n",
       "    .dataframe tbody tr th {\n",
       "        vertical-align: top;\n",
       "    }\n",
       "\n",
       "    .dataframe thead th {\n",
       "        text-align: right;\n",
       "    }\n",
       "</style>\n",
       "<table border=\"1\" class=\"dataframe\">\n",
       "  <thead>\n",
       "    <tr style=\"text-align: right;\">\n",
       "      <th></th>\n",
       "      <th>eco</th>\n",
       "      <th>name</th>\n",
       "      <th>pgn</th>\n",
       "    </tr>\n",
       "  </thead>\n",
       "  <tbody>\n",
       "    <tr>\n",
       "      <th>0</th>\n",
       "      <td>A00</td>\n",
       "      <td>Amar Gambit</td>\n",
       "      <td>1. Nh3 d5 2. g3 e5 3. f4 Bxh3 4. Bxh3 exf4</td>\n",
       "    </tr>\n",
       "    <tr>\n",
       "      <th>1</th>\n",
       "      <td>A00</td>\n",
       "      <td>Amar Opening</td>\n",
       "      <td>1. Nh3</td>\n",
       "    </tr>\n",
       "    <tr>\n",
       "      <th>2</th>\n",
       "      <td>A00</td>\n",
       "      <td>Amar Opening: Gent Gambit</td>\n",
       "      <td>1. Nh3 d5 2. g3 e5 3. f4 Bxh3 4. Bxh3 exf4 5. ...</td>\n",
       "    </tr>\n",
       "    <tr>\n",
       "      <th>3</th>\n",
       "      <td>A00</td>\n",
       "      <td>Amar Opening: Paris Gambit</td>\n",
       "      <td>1. Nh3 d5 2. g3 e5 3. f4</td>\n",
       "    </tr>\n",
       "    <tr>\n",
       "      <th>4</th>\n",
       "      <td>A00</td>\n",
       "      <td>Amsterdam Attack</td>\n",
       "      <td>1. e3 e5 2. c4 d6 3. Nc3 Nc6 4. b3 Nf6</td>\n",
       "    </tr>\n",
       "  </tbody>\n",
       "</table>\n",
       "</div>"
      ],
      "text/plain": [
       "   eco                        name  \\\n",
       "0  A00                 Amar Gambit   \n",
       "1  A00                Amar Opening   \n",
       "2  A00   Amar Opening: Gent Gambit   \n",
       "3  A00  Amar Opening: Paris Gambit   \n",
       "4  A00            Amsterdam Attack   \n",
       "\n",
       "                                                 pgn  \n",
       "0         1. Nh3 d5 2. g3 e5 3. f4 Bxh3 4. Bxh3 exf4  \n",
       "1                                             1. Nh3  \n",
       "2  1. Nh3 d5 2. g3 e5 3. f4 Bxh3 4. Bxh3 exf4 5. ...  \n",
       "3                           1. Nh3 d5 2. g3 e5 3. f4  \n",
       "4             1. e3 e5 2. c4 d6 3. Nc3 Nc6 4. b3 Nf6  "
      ]
     },
     "execution_count": 3,
     "metadata": {},
     "output_type": "execute_result"
    }
   ],
   "source": [
    "eco_dfs[0].head()"
   ]
  },
  {
   "cell_type": "markdown",
   "id": "5baf6714",
   "metadata": {},
   "source": [
    "### Creating default 7-tag pairs required for PGN files\n",
    "https://en.wikipedia.org/wiki/Portable_Game_Notation#Tag_pairs"
   ]
  },
  {
   "cell_type": "code",
   "execution_count": 4,
   "id": "068d9385",
   "metadata": {},
   "outputs": [],
   "source": [
    "tags = {\n",
    "    'Event': 'N/A',\n",
    "    'Site': 'N/A',\n",
    "    'Date': '??',\n",
    "    'Round': '-',\n",
    "    'White': 'White',\n",
    "    'Black': 'Black',\n",
    "    'Result': '*'\n",
    "}\n"
   ]
  },
  {
   "cell_type": "markdown",
   "id": "d170ecfb",
   "metadata": {},
   "source": [
    "### Function that takes row from ECO files and creates a full PGN string"
   ]
  },
  {
   "cell_type": "code",
   "execution_count": 5,
   "id": "732de2ac",
   "metadata": {},
   "outputs": [],
   "source": [
    "def get_full_pgn(eco_pgn_row):\n",
    "    full_pgn = ''\n",
    "    # add default tags\n",
    "    for key in tags:\n",
    "        full_pgn += '['+key+' \\\"'+tags[key]+'\\\"]\\n'\n",
    "    # add ECO and opening\n",
    "    full_pgn += '[ECO \\\"'+eco_pgn_row['eco']+'\\\"]\\n'\n",
    "    full_pgn += '[Opening \\\"'+eco_pgn_row['name']+'\\\"]\\n'\n",
    "    full_pgn += '\\n'\n",
    "    full_pgn += eco_pgn_row['pgn']+'\\n'\n",
    "    full_pgn += '\\n'\n",
    "    \n",
    "    return full_pgn"
   ]
  },
  {
   "cell_type": "code",
   "execution_count": 6,
   "id": "6d239502",
   "metadata": {},
   "outputs": [
    {
     "name": "stdout",
     "output_type": "stream",
     "text": [
      "[Event \"N/A\"]\n",
      "[Site \"N/A\"]\n",
      "[Date \"??\"]\n",
      "[Round \"-\"]\n",
      "[White \"White\"]\n",
      "[Black \"Black\"]\n",
      "[Result \"*\"]\n",
      "[ECO \"A00\"]\n",
      "[Opening \"Amar Gambit\"]\n",
      "\n",
      "1. Nh3 d5 2. g3 e5 3. f4 Bxh3 4. Bxh3 exf4\n",
      "\n",
      "\n"
     ]
    }
   ],
   "source": [
    "print(get_full_pgn(eco_dfs[0].iloc[0]))"
   ]
  },
  {
   "cell_type": "markdown",
   "id": "41f94a47",
   "metadata": {},
   "source": [
    "### Iterate over all ECO code files and create game file content"
   ]
  },
  {
   "cell_type": "code",
   "execution_count": 7,
   "id": "1ab37e03",
   "metadata": {},
   "outputs": [],
   "source": [
    "games = ''\n",
    "for df in eco_dfs:\n",
    "    for i, row in df.iterrows():\n",
    "        games += get_full_pgn(row)"
   ]
  },
  {
   "cell_type": "markdown",
   "id": "e5113869",
   "metadata": {},
   "source": [
    "### remove last \\n\\n"
   ]
  },
  {
   "cell_type": "code",
   "execution_count": 8,
   "id": "0d52438d",
   "metadata": {},
   "outputs": [],
   "source": [
    "with open('eco_games.pgn', 'w') as f:\n",
    "    f.write(games[:-2])\n",
    "f.close()"
   ]
  }
 ],
 "metadata": {
  "kernelspec": {
   "display_name": "Python 3 (ipykernel)",
   "language": "python",
   "name": "python3"
  },
  "language_info": {
   "codemirror_mode": {
    "name": "ipython",
    "version": 3
   },
   "file_extension": ".py",
   "mimetype": "text/x-python",
   "name": "python",
   "nbconvert_exporter": "python",
   "pygments_lexer": "ipython3",
   "version": "3.9.5"
  }
 },
 "nbformat": 4,
 "nbformat_minor": 5
}
